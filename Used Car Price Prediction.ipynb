{
 "cells": [
  {
   "cell_type": "markdown",
   "metadata": {},
   "source": [
    "# Introduction"
   ]
  },
  {
   "cell_type": "markdown",
   "metadata": {},
   "source": [
    "In this portfolio, we are going to do End to end Machine Learning project.Starting first sampling data into two part such train and test dataset.After that,Exploratory Data Analysis (EDA) is done which is an approach for data analysis that employs a variety of techniques to maximize insight into a data set;uncover underlying structure;extract important variables;detect outliers;develop parsimonious models.Finally data preprocessing is done for algorthirm model"
   ]
  },
  {
   "cell_type": "markdown",
   "metadata": {},
   "source": [
    "# Business objective"
   ]
  },
  {
   "cell_type": "markdown",
   "metadata": {},
   "source": [
    "The business objective of this project is to predict the selling price of second hand car which is sold in india, given past records on sold car in the india.we can model a resale valuation for used cars."
   ]
  },
  {
   "cell_type": "markdown",
   "metadata": {},
   "source": [
    "the content of this dataset contains information about approx 21000 used cars scraped from www.cardekho.com.\n"
   ]
  },
  {
   "cell_type": "markdown",
   "metadata": {},
   "source": [
    "the exact source of the dataset is https://www.kaggle.com/saisaathvik/used-cars-dataset-from-cardekhocom?select=cardekho_updated.csv\n"
   ]
  },
  {
   "cell_type": "markdown",
   "metadata": {},
   "source": [
    "Context of this dataset comprises used cars sold on cardehko.com in India as well as important features of these cars."
   ]
  },
  {
   "cell_type": "code",
   "execution_count": 1,
   "metadata": {},
   "outputs": [],
   "source": [
    "#imports\n",
    "import pandas as pd  # Importing package pandas (For Data Analysis)\n",
    "import numpy as np   # Importing package numpys (For Numerical Python)\n",
    "import matplotlib.pyplot as plt # Importing pyplot interface to use matplotlib\n",
    "from scipy import stats #imported scipy to perform hypothesis testing\n",
    "import statsmodels.api as sm #imported statsmodels for linear regression\n",
    "import seaborn as sns\n",
    "import warnings\n",
    "warnings.filterwarnings(\"ignore\")"
   ]
  },
  {
   "cell_type": "code",
   "execution_count": 2,
   "metadata": {},
   "outputs": [],
   "source": [
    "df = pd.read_csv(r\"C:\\Users\\Lathapriya\\Documents\\Big Data for Decision making\\Assignment\\cardekho_imputated.csv\")"
   ]
  },
  {
   "cell_type": "code",
   "execution_count": 3,
   "metadata": {},
   "outputs": [
    {
     "data": {
      "text/html": [
       "<div>\n",
       "<style scoped>\n",
       "    .dataframe tbody tr th:only-of-type {\n",
       "        vertical-align: middle;\n",
       "    }\n",
       "\n",
       "    .dataframe tbody tr th {\n",
       "        vertical-align: top;\n",
       "    }\n",
       "\n",
       "    .dataframe thead th {\n",
       "        text-align: right;\n",
       "    }\n",
       "</style>\n",
       "<table border=\"1\" class=\"dataframe\">\n",
       "  <thead>\n",
       "    <tr style=\"text-align: right;\">\n",
       "      <th></th>\n",
       "      <th>Unnamed: 0</th>\n",
       "      <th>car_name</th>\n",
       "      <th>brand</th>\n",
       "      <th>model</th>\n",
       "      <th>min_cost_price</th>\n",
       "      <th>max_cost_price</th>\n",
       "      <th>vehicle_age</th>\n",
       "      <th>km_driven</th>\n",
       "      <th>seller_type</th>\n",
       "      <th>fuel_type</th>\n",
       "      <th>transmission_type</th>\n",
       "      <th>mileage</th>\n",
       "      <th>engine</th>\n",
       "      <th>max_power</th>\n",
       "      <th>seats</th>\n",
       "      <th>selling_price</th>\n",
       "    </tr>\n",
       "  </thead>\n",
       "  <tbody>\n",
       "    <tr>\n",
       "      <th>0</th>\n",
       "      <td>0</td>\n",
       "      <td>Maruti Alto</td>\n",
       "      <td>Maruti</td>\n",
       "      <td>Alto</td>\n",
       "      <td>3.570039e+05</td>\n",
       "      <td>4.654015e+05</td>\n",
       "      <td>9</td>\n",
       "      <td>120000</td>\n",
       "      <td>Individual</td>\n",
       "      <td>Petrol</td>\n",
       "      <td>Manual</td>\n",
       "      <td>19.70</td>\n",
       "      <td>796</td>\n",
       "      <td>46.30</td>\n",
       "      <td>5</td>\n",
       "      <td>120000</td>\n",
       "    </tr>\n",
       "    <tr>\n",
       "      <th>1</th>\n",
       "      <td>1</td>\n",
       "      <td>Hyundai Grand</td>\n",
       "      <td>Hyundai</td>\n",
       "      <td>Grand</td>\n",
       "      <td>7.110000e+05</td>\n",
       "      <td>7.480000e+05</td>\n",
       "      <td>5</td>\n",
       "      <td>20000</td>\n",
       "      <td>Individual</td>\n",
       "      <td>Petrol</td>\n",
       "      <td>Manual</td>\n",
       "      <td>18.90</td>\n",
       "      <td>1197</td>\n",
       "      <td>82.00</td>\n",
       "      <td>5</td>\n",
       "      <td>550000</td>\n",
       "    </tr>\n",
       "    <tr>\n",
       "      <th>2</th>\n",
       "      <td>2</td>\n",
       "      <td>Hyundai i20</td>\n",
       "      <td>Hyundai</td>\n",
       "      <td>i20</td>\n",
       "      <td>8.540829e+05</td>\n",
       "      <td>1.307926e+06</td>\n",
       "      <td>11</td>\n",
       "      <td>60000</td>\n",
       "      <td>Individual</td>\n",
       "      <td>Petrol</td>\n",
       "      <td>Manual</td>\n",
       "      <td>17.00</td>\n",
       "      <td>1197</td>\n",
       "      <td>80.00</td>\n",
       "      <td>5</td>\n",
       "      <td>215000</td>\n",
       "    </tr>\n",
       "    <tr>\n",
       "      <th>3</th>\n",
       "      <td>3</td>\n",
       "      <td>Maruti Alto</td>\n",
       "      <td>Maruti</td>\n",
       "      <td>Alto</td>\n",
       "      <td>3.570039e+05</td>\n",
       "      <td>4.654015e+05</td>\n",
       "      <td>9</td>\n",
       "      <td>37000</td>\n",
       "      <td>Individual</td>\n",
       "      <td>Petrol</td>\n",
       "      <td>Manual</td>\n",
       "      <td>20.92</td>\n",
       "      <td>998</td>\n",
       "      <td>67.10</td>\n",
       "      <td>5</td>\n",
       "      <td>226000</td>\n",
       "    </tr>\n",
       "    <tr>\n",
       "      <th>4</th>\n",
       "      <td>4</td>\n",
       "      <td>Ford Ecosport</td>\n",
       "      <td>Ford</td>\n",
       "      <td>Ecosport</td>\n",
       "      <td>1.014000e+06</td>\n",
       "      <td>1.379000e+06</td>\n",
       "      <td>6</td>\n",
       "      <td>30000</td>\n",
       "      <td>Dealer</td>\n",
       "      <td>Diesel</td>\n",
       "      <td>Manual</td>\n",
       "      <td>22.77</td>\n",
       "      <td>1498</td>\n",
       "      <td>98.59</td>\n",
       "      <td>5</td>\n",
       "      <td>570000</td>\n",
       "    </tr>\n",
       "  </tbody>\n",
       "</table>\n",
       "</div>"
      ],
      "text/plain": [
       "   Unnamed: 0       car_name    brand     model  min_cost_price  \\\n",
       "0           0    Maruti Alto   Maruti      Alto    3.570039e+05   \n",
       "1           1  Hyundai Grand  Hyundai     Grand    7.110000e+05   \n",
       "2           2    Hyundai i20  Hyundai       i20    8.540829e+05   \n",
       "3           3    Maruti Alto   Maruti      Alto    3.570039e+05   \n",
       "4           4  Ford Ecosport     Ford  Ecosport    1.014000e+06   \n",
       "\n",
       "   max_cost_price  vehicle_age  km_driven seller_type fuel_type  \\\n",
       "0    4.654015e+05            9     120000  Individual    Petrol   \n",
       "1    7.480000e+05            5      20000  Individual    Petrol   \n",
       "2    1.307926e+06           11      60000  Individual    Petrol   \n",
       "3    4.654015e+05            9      37000  Individual    Petrol   \n",
       "4    1.379000e+06            6      30000      Dealer    Diesel   \n",
       "\n",
       "  transmission_type  mileage  engine  max_power  seats  selling_price  \n",
       "0            Manual    19.70     796      46.30      5         120000  \n",
       "1            Manual    18.90    1197      82.00      5         550000  \n",
       "2            Manual    17.00    1197      80.00      5         215000  \n",
       "3            Manual    20.92     998      67.10      5         226000  \n",
       "4            Manual    22.77    1498      98.59      5         570000  "
      ]
     },
     "execution_count": 3,
     "metadata": {},
     "output_type": "execute_result"
    }
   ],
   "source": [
    "df.head() #to display the first 5 rows in our dataset"
   ]
  },
  {
   "cell_type": "code",
   "execution_count": 4,
   "metadata": {},
   "outputs": [
    {
     "data": {
      "text/plain": [
       "(15411, 16)"
      ]
     },
     "execution_count": 4,
     "metadata": {},
     "output_type": "execute_result"
    }
   ],
   "source": [
    "df.shape"
   ]
  },
  {
   "cell_type": "markdown",
   "metadata": {},
   "source": [
    "# Step 2. Train-test split"
   ]
  },
  {
   "cell_type": "markdown",
   "metadata": {},
   "source": [
    "# Random sampling¶"
   ]
  },
  {
   "cell_type": "code",
   "execution_count": 5,
   "metadata": {},
   "outputs": [
    {
     "name": "stdout",
     "output_type": "stream",
     "text": [
      "12328 train and 3083 test instances\n"
     ]
    }
   ],
   "source": [
    "from sklearn.model_selection import train_test_split\n",
    "\n",
    "train_set, test_set = train_test_split(df, test_size=0.2, random_state=7)\n",
    "print(f\"{train_set.shape[0]} train and {test_set.shape[0]} test instances\")"
   ]
  },
  {
   "cell_type": "markdown",
   "metadata": {},
   "source": [
    "we are using random sampling to split the full data set into training dataset and test dataset. we set test size as 20% of the full dataset and random state as 7 so we can reuse it again to produce same train-test split."
   ]
  },
  {
   "cell_type": "markdown",
   "metadata": {},
   "source": [
    "# Stratified sampling"
   ]
  },
  {
   "cell_type": "markdown",
   "metadata": {},
   "source": [
    "Stratified sampling ensure that critical parts of the population are represented in the sample and and it divides the population into smaller sub-group. So that the sampling data is not skewed towards a particular variable to avoid baised. In our dataset, we used vehicle age category to split data to represent same proportion as it represent in population dataset.we subdivide it into 5 label. With regards to the age of the vehicle, we needed to stratify it to ensure that cars with lower ages are represented in the population"
   ]
  },
  {
   "cell_type": "code",
   "execution_count": 6,
   "metadata": {},
   "outputs": [],
   "source": [
    "df[\"Vehicle_age_cat\"] = pd.cut(df[\"vehicle_age\"], bins=[-1.,1.,3.,5.,6., np.inf],\n",
    "                          labels=[1, 2, 3, 4,5])"
   ]
  },
  {
   "cell_type": "code",
   "execution_count": 7,
   "metadata": {},
   "outputs": [
    {
     "data": {
      "text/plain": [
       "5    5821\n",
       "3    4369\n",
       "2    3071\n",
       "4    1924\n",
       "1     226\n",
       "Name: Vehicle_age_cat, dtype: int64"
      ]
     },
     "execution_count": 7,
     "metadata": {},
     "output_type": "execute_result"
    }
   ],
   "source": [
    "df[\"Vehicle_age_cat\"].value_counts()"
   ]
  },
  {
   "cell_type": "code",
   "execution_count": 8,
   "metadata": {},
   "outputs": [
    {
     "data": {
      "text/plain": [
       "<AxesSubplot:>"
      ]
     },
     "execution_count": 8,
     "metadata": {},
     "output_type": "execute_result"
    },
    {
     "data": {
      "image/png": "[encoded data removed]",
      "text/plain": [
       "<Figure size 360x360 with 1 Axes>"
      ]
     },
     "metadata": {
      "needs_background": "light"
     },
     "output_type": "display_data"
    }
   ],
   "source": [
    "plt.figure(figsize=(5,5))\n",
    "df[\"Vehicle_age_cat\"].value_counts().plot(kind=\"bar\", rot=0)"
   ]
  },
  {
   "cell_type": "markdown",
   "metadata": {},
   "source": [
    "The above histogram shows the distribution of vehicle age category"
   ]
  },
  {
   "cell_type": "code",
   "execution_count": 9,
   "metadata": {},
   "outputs": [],
   "source": [
    "strat_train_set, strat_test_set = train_test_split(df, test_size=0.2, random_state=7,\n",
    "                                                  stratify=df[\"Vehicle_age_cat\"])"
   ]
  },
  {
   "cell_type": "code",
   "execution_count": 10,
   "metadata": {},
   "outputs": [
    {
     "data": {
      "text/html": [
       "<div>\n",
       "<style scoped>\n",
       "    .dataframe tbody tr th:only-of-type {\n",
       "        vertical-align: middle;\n",
       "    }\n",
       "\n",
       "    .dataframe tbody tr th {\n",
       "        vertical-align: top;\n",
       "    }\n",
       "\n",
       "    .dataframe thead th {\n",
       "        text-align: right;\n",
       "    }\n",
       "</style>\n",
       "<table border=\"1\" class=\"dataframe\">\n",
       "  <thead>\n",
       "    <tr style=\"text-align: right;\">\n",
       "      <th></th>\n",
       "      <th>Overall</th>\n",
       "      <th>Random test set</th>\n",
       "      <th>Stratified test set</th>\n",
       "      <th>Rand. %error</th>\n",
       "      <th>Strat. %error</th>\n",
       "    </tr>\n",
       "  </thead>\n",
       "  <tbody>\n",
       "    <tr>\n",
       "      <th>1</th>\n",
       "      <td>0.014665</td>\n",
       "      <td>0.015569</td>\n",
       "      <td>0.014596</td>\n",
       "      <td>6.167134</td>\n",
       "      <td>-0.468312</td>\n",
       "    </tr>\n",
       "    <tr>\n",
       "      <th>2</th>\n",
       "      <td>0.199273</td>\n",
       "      <td>0.193967</td>\n",
       "      <td>0.199157</td>\n",
       "      <td>-2.662842</td>\n",
       "      <td>-0.058503</td>\n",
       "    </tr>\n",
       "    <tr>\n",
       "      <th>3</th>\n",
       "      <td>0.283499</td>\n",
       "      <td>0.284463</td>\n",
       "      <td>0.283490</td>\n",
       "      <td>0.340173</td>\n",
       "      <td>-0.003066</td>\n",
       "    </tr>\n",
       "    <tr>\n",
       "      <th>4</th>\n",
       "      <td>0.124846</td>\n",
       "      <td>0.124230</td>\n",
       "      <td>0.124878</td>\n",
       "      <td>-0.493603</td>\n",
       "      <td>0.026013</td>\n",
       "    </tr>\n",
       "    <tr>\n",
       "      <th>5</th>\n",
       "      <td>0.377717</td>\n",
       "      <td>0.381771</td>\n",
       "      <td>0.377879</td>\n",
       "      <td>1.073233</td>\n",
       "      <td>0.042750</td>\n",
       "    </tr>\n",
       "  </tbody>\n",
       "</table>\n",
       "</div>"
      ],
      "text/plain": [
       "    Overall  Random test set  Stratified test set  Rand. %error  Strat. %error\n",
       "1  0.014665         0.015569             0.014596      6.167134      -0.468312\n",
       "2  0.199273         0.193967             0.199157     -2.662842      -0.058503\n",
       "3  0.283499         0.284463             0.283490      0.340173      -0.003066\n",
       "4  0.124846         0.124230             0.124878     -0.493603       0.026013\n",
       "5  0.377717         0.381771             0.377879      1.073233       0.042750"
      ]
     },
     "execution_count": 10,
     "metadata": {},
     "output_type": "execute_result"
    }
   ],
   "source": [
    "def Vehicle_age_cat_proportions(data):\n",
    "    return data[\"Vehicle_age_cat\"].value_counts() / len(data)\n",
    "\n",
    "# create a random split\n",
    "rand_train_set, rand_test_set = train_test_split(df, test_size=0.2, random_state=7)\n",
    "\n",
    "# create a temporary dataframe for easy visualization\n",
    "df_tmp = pd.DataFrame({\n",
    "    \"Overall\": Vehicle_age_cat_proportions(df),\n",
    "    \"Random test set\": Vehicle_age_cat_proportions(rand_test_set),\n",
    "    \"Stratified test set\": Vehicle_age_cat_proportions(strat_test_set),\n",
    "}).sort_index()\n",
    "\n",
    "# add two columns for the percent of the difference to the overall proportion\n",
    "df_tmp[\"Rand. %error\"] = 100 * df_tmp[\"Random test set\"] / df_tmp[\"Overall\"] - 100\n",
    "df_tmp[\"Strat. %error\"] = 100 * df_tmp[\"Stratified test set\"] / df_tmp[\"Overall\"] - 100\n",
    "\n",
    "df_tmp"
   ]
  },
  {
   "cell_type": "markdown",
   "metadata": {},
   "source": [
    "Category 1 also seems over represented in the dataset at 9.8% for random sampling.Category 3 and 4 are under 1.07 % and 3.25% respectively. We used stratified sampling to make them more representative\n",
    "Stratification sampling resulted in under- or over-representations of vehicle age categories of no more than 1.14%."
   ]
  },
  {
   "cell_type": "code",
   "execution_count": 11,
   "metadata": {},
   "outputs": [],
   "source": [
    "del strat_train_set[\"Vehicle_age_cat\"]\n",
    "del strat_test_set[\"Vehicle_age_cat\"]"
   ]
  },
  {
   "cell_type": "markdown",
   "metadata": {},
   "source": [
    "we removed the vehicle age category from the dataset"
   ]
  },
  {
   "cell_type": "code",
   "execution_count": 12,
   "metadata": {},
   "outputs": [],
   "source": [
    "trainset = strat_train_set\n",
    "testset = strat_test_set"
   ]
  },
  {
   "cell_type": "markdown",
   "metadata": {},
   "source": [
    "Finally we are subdivided our dataset as trainset and testset using stratified sampling"
   ]
  },
  {
   "cell_type": "markdown",
   "metadata": {},
   "source": [
    "# Descriptive statistics"
   ]
  },
  {
   "cell_type": "code",
   "execution_count": 13,
   "metadata": {},
   "outputs": [
    {
     "data": {
      "text/html": [
       "<div>\n",
       "<style scoped>\n",
       "    .dataframe tbody tr th:only-of-type {\n",
       "        vertical-align: middle;\n",
       "    }\n",
       "\n",
       "    .dataframe tbody tr th {\n",
       "        vertical-align: top;\n",
       "    }\n",
       "\n",
       "    .dataframe thead th {\n",
       "        text-align: right;\n",
       "    }\n",
       "</style>\n",
       "<table border=\"1\" class=\"dataframe\">\n",
       "  <thead>\n",
       "    <tr style=\"text-align: right;\">\n",
       "      <th></th>\n",
       "      <th>Unnamed: 0</th>\n",
       "      <th>min_cost_price</th>\n",
       "      <th>max_cost_price</th>\n",
       "      <th>vehicle_age</th>\n",
       "      <th>km_driven</th>\n",
       "      <th>mileage</th>\n",
       "      <th>engine</th>\n",
       "      <th>max_power</th>\n",
       "      <th>seats</th>\n",
       "      <th>selling_price</th>\n",
       "    </tr>\n",
       "  </thead>\n",
       "  <tbody>\n",
       "    <tr>\n",
       "      <th>count</th>\n",
       "      <td>12328.000000</td>\n",
       "      <td>1.232800e+04</td>\n",
       "      <td>1.232800e+04</td>\n",
       "      <td>12328.000000</td>\n",
       "      <td>1.232800e+04</td>\n",
       "      <td>12328.000000</td>\n",
       "      <td>12328.000000</td>\n",
       "      <td>12328.000000</td>\n",
       "      <td>12328.00000</td>\n",
       "      <td>1.232800e+04</td>\n",
       "    </tr>\n",
       "    <tr>\n",
       "      <th>mean</th>\n",
       "      <td>9809.721285</td>\n",
       "      <td>5.350299e+06</td>\n",
       "      <td>1.943757e+06</td>\n",
       "      <td>6.037962</td>\n",
       "      <td>5.547743e+04</td>\n",
       "      <td>19.696906</td>\n",
       "      <td>1483.024335</td>\n",
       "      <td>100.235363</td>\n",
       "      <td>5.32487</td>\n",
       "      <td>7.663886e+05</td>\n",
       "    </tr>\n",
       "    <tr>\n",
       "      <th>std</th>\n",
       "      <td>5648.644245</td>\n",
       "      <td>5.223941e+07</td>\n",
       "      <td>2.770029e+06</td>\n",
       "      <td>3.008981</td>\n",
       "      <td>5.389769e+04</td>\n",
       "      <td>4.143703</td>\n",
       "      <td>518.407074</td>\n",
       "      <td>42.247544</td>\n",
       "      <td>0.80750</td>\n",
       "      <td>8.064740e+05</td>\n",
       "    </tr>\n",
       "    <tr>\n",
       "      <th>min</th>\n",
       "      <td>1.000000</td>\n",
       "      <td>3.110000e+05</td>\n",
       "      <td>4.360000e+05</td>\n",
       "      <td>0.000000</td>\n",
       "      <td>1.000000e+02</td>\n",
       "      <td>7.500000</td>\n",
       "      <td>793.000000</td>\n",
       "      <td>38.400000</td>\n",
       "      <td>0.00000</td>\n",
       "      <td>4.500000e+04</td>\n",
       "    </tr>\n",
       "    <tr>\n",
       "      <th>25%</th>\n",
       "      <td>4902.750000</td>\n",
       "      <td>6.650000e+05</td>\n",
       "      <td>8.630000e+05</td>\n",
       "      <td>4.000000</td>\n",
       "      <td>3.000000e+04</td>\n",
       "      <td>17.000000</td>\n",
       "      <td>1197.000000</td>\n",
       "      <td>74.000000</td>\n",
       "      <td>5.00000</td>\n",
       "      <td>3.850000e+05</td>\n",
       "    </tr>\n",
       "    <tr>\n",
       "      <th>50%</th>\n",
       "      <td>9863.000000</td>\n",
       "      <td>8.540829e+05</td>\n",
       "      <td>1.183000e+06</td>\n",
       "      <td>6.000000</td>\n",
       "      <td>5.000000e+04</td>\n",
       "      <td>19.670000</td>\n",
       "      <td>1248.000000</td>\n",
       "      <td>88.500000</td>\n",
       "      <td>5.00000</td>\n",
       "      <td>5.590000e+05</td>\n",
       "    </tr>\n",
       "    <tr>\n",
       "      <th>75%</th>\n",
       "      <td>14682.750000</td>\n",
       "      <td>1.282250e+06</td>\n",
       "      <td>1.736000e+06</td>\n",
       "      <td>8.000000</td>\n",
       "      <td>7.000000e+04</td>\n",
       "      <td>22.690000</td>\n",
       "      <td>1582.000000</td>\n",
       "      <td>117.300000</td>\n",
       "      <td>5.00000</td>\n",
       "      <td>8.125000e+05</td>\n",
       "    </tr>\n",
       "    <tr>\n",
       "      <th>max</th>\n",
       "      <td>19543.000000</td>\n",
       "      <td>9.680667e+08</td>\n",
       "      <td>5.090000e+07</td>\n",
       "      <td>29.000000</td>\n",
       "      <td>3.800000e+06</td>\n",
       "      <td>33.540000</td>\n",
       "      <td>5998.000000</td>\n",
       "      <td>626.000000</td>\n",
       "      <td>9.00000</td>\n",
       "      <td>1.450000e+07</td>\n",
       "    </tr>\n",
       "  </tbody>\n",
       "</table>\n",
       "</div>"
      ],
      "text/plain": [
       "         Unnamed: 0  min_cost_price  max_cost_price   vehicle_age  \\\n",
       "count  12328.000000    1.232800e+04    1.232800e+04  12328.000000   \n",
       "mean    9809.721285    5.350299e+06    1.943757e+06      6.037962   \n",
       "std     5648.644245    5.223941e+07    2.770029e+06      3.008981   \n",
       "min        1.000000    3.110000e+05    4.360000e+05      0.000000   \n",
       "25%     4902.750000    6.650000e+05    8.630000e+05      4.000000   \n",
       "50%     9863.000000    8.540829e+05    1.183000e+06      6.000000   \n",
       "75%    14682.750000    1.282250e+06    1.736000e+06      8.000000   \n",
       "max    19543.000000    9.680667e+08    5.090000e+07     29.000000   \n",
       "\n",
       "          km_driven       mileage        engine     max_power        seats  \\\n",
       "count  1.232800e+04  12328.000000  12328.000000  12328.000000  12328.00000   \n",
       "mean   5.547743e+04     19.696906   1483.024335    100.235363      5.32487   \n",
       "std    5.389769e+04      4.143703    518.407074     42.247544      0.80750   \n",
       "min    1.000000e+02      7.500000    793.000000     38.400000      0.00000   \n",
       "25%    3.000000e+04     17.000000   1197.000000     74.000000      5.00000   \n",
       "50%    5.000000e+04     19.670000   1248.000000     88.500000      5.00000   \n",
       "75%    7.000000e+04     22.690000   1582.000000    117.300000      5.00000   \n",
       "max    3.800000e+06     33.540000   5998.000000    626.000000      9.00000   \n",
       "\n",
       "       selling_price  \n",
       "count   1.232800e+04  \n",
       "mean    7.663886e+05  \n",
       "std     8.064740e+05  \n",
       "min     4.500000e+04  \n",
       "25%     3.850000e+05  \n",
       "50%     5.590000e+05  \n",
       "75%     8.125000e+05  \n",
       "max     1.450000e+07  "
      ]
     },
     "execution_count": 13,
     "metadata": {},
     "output_type": "execute_result"
    }
   ],
   "source": [
    "trainset.describe()"
   ]
  },
  {
   "cell_type": "markdown",
   "metadata": {},
   "source": [
    "the data has the columns vehicle_age,Km_driven,mileage,max_power,seats,selling_price, engine is as continuous variable for which we can see descriptive statistics using the describe () method for trainset"
   ]
  },
  {
   "cell_type": "code",
   "execution_count": 14,
   "metadata": {},
   "outputs": [
    {
     "data": {
      "text/plain": [
       "Petrol      6155\n",
       "Diesel      5891\n",
       "CNG          240\n",
       "LPG           39\n",
       "Electric       3\n",
       "Name: fuel_type, dtype: int64"
      ]
     },
     "execution_count": 14,
     "metadata": {},
     "output_type": "execute_result"
    }
   ],
   "source": [
    "trainset['fuel_type'].value_counts()"
   ]
  },
  {
   "cell_type": "code",
   "execution_count": 15,
   "metadata": {},
   "outputs": [
    {
     "data": {
      "text/plain": [
       "Manual       9801\n",
       "Automatic    2527\n",
       "Name: transmission_type, dtype: int64"
      ]
     },
     "execution_count": 15,
     "metadata": {},
     "output_type": "execute_result"
    }
   ],
   "source": [
    "trainset['transmission_type'].value_counts()"
   ]
  },
  {
   "cell_type": "code",
   "execution_count": 16,
   "metadata": {},
   "outputs": [
    {
     "data": {
      "text/plain": [
       "Dealer              7638\n",
       "Individual          4556\n",
       "Trustmark Dealer     134\n",
       "Name: seller_type, dtype: int64"
      ]
     },
     "execution_count": 16,
     "metadata": {},
     "output_type": "execute_result"
    }
   ],
   "source": [
    "trainset['seller_type'].value_counts()"
   ]
  },
  {
   "cell_type": "code",
   "execution_count": 17,
   "metadata": {},
   "outputs": [
    {
     "data": {
      "image/png": "[encoded data removed]",
      "text/plain": [
       "<Figure size 1152x864 with 12 Axes>"
      ]
     },
     "metadata": {
      "needs_background": "light"
     },
     "output_type": "display_data"
    }
   ],
   "source": [
    "dummy = trainset.hist(bins=50, figsize=(16,12))"
   ]
  },
  {
   "cell_type": "markdown",
   "metadata": {},
   "source": [
    "the distribution of all the continuous variables can be showed in above histogram"
   ]
  },
  {
   "cell_type": "markdown",
   "metadata": {},
   "source": [
    "# Exploratory Data Analysis"
   ]
  },
  {
   "cell_type": "markdown",
   "metadata": {},
   "source": [
    "Visualization of All the variables"
   ]
  },
  {
   "cell_type": "code",
   "execution_count": 18,
   "metadata": {},
   "outputs": [
    {
     "name": "stdout",
     "output_type": "stream",
     "text": [
      "<class 'pandas.core.frame.DataFrame'>\n",
      "Int64Index: 12328 entries, 8425 to 3881\n",
      "Data columns (total 16 columns):\n",
      " #   Column             Non-Null Count  Dtype  \n",
      "---  ------             --------------  -----  \n",
      " 0   Unnamed: 0         12328 non-null  int64  \n",
      " 1   car_name           12328 non-null  object \n",
      " 2   brand              12328 non-null  object \n",
      " 3   model              12328 non-null  object \n",
      " 4   min_cost_price     12328 non-null  float64\n",
      " 5   max_cost_price     12328 non-null  float64\n",
      " 6   vehicle_age        12328 non-null  int64  \n",
      " 7   km_driven          12328 non-null  int64  \n",
      " 8   seller_type        12328 non-null  object \n",
      " 9   fuel_type          12328 non-null  object \n",
      " 10  transmission_type  12328 non-null  object \n",
      " 11  mileage            12328 non-null  float64\n",
      " 12  engine             12328 non-null  int64  \n",
      " 13  max_power          12328 non-null  float64\n",
      " 14  seats              12328 non-null  int64  \n",
      " 15  selling_price      12328 non-null  int64  \n",
      "dtypes: float64(4), int64(6), object(6)\n",
      "memory usage: 1.6+ MB\n"
     ]
    }
   ],
   "source": [
    "trainset.info()"
   ]
  },
  {
   "cell_type": "code",
   "execution_count": 19,
   "metadata": {},
   "outputs": [],
   "source": [
    "trainset[\"seats\"] = df[\"seats\"].astype(\"category\")"
   ]
  },
  {
   "cell_type": "code",
   "execution_count": 20,
   "metadata": {},
   "outputs": [
    {
     "data": {
      "text/plain": [
       "<AxesSubplot:>"
      ]
     },
     "execution_count": 20,
     "metadata": {},
     "output_type": "execute_result"
    },
    {
     "data": {
      "image/png": "[encoded data removed]",
      "text/plain": [
       "<Figure size 360x360 with 1 Axes>"
      ]
     },
     "metadata": {
      "needs_background": "light"
     },
     "output_type": "display_data"
    }
   ],
   "source": [
    "plt.figure(figsize=(5,5))\n",
    "trainset['fuel_type'].value_counts().plot.bar()"
   ]
  },
  {
   "cell_type": "code",
   "execution_count": 21,
   "metadata": {},
   "outputs": [
    {
     "data": {
      "text/plain": [
       "<AxesSubplot:xlabel='fuel_type', ylabel='count'>"
      ]
     },
     "execution_count": 21,
     "metadata": {},
     "output_type": "execute_result"
    },
    {
     "data": {
      "image/png": "[encoded data removed]",
      "text/plain": [
       "<Figure size 432x288 with 1 Axes>"
      ]
     },
     "metadata": {
      "needs_background": "light"
     },
     "output_type": "display_data"
    }
   ],
   "source": [
    "sns.countplot(trainset['fuel_type'])"
   ]
  },
  {
   "cell_type": "code",
   "execution_count": 22,
   "metadata": {},
   "outputs": [
    {
     "data": {
      "image/png": "[encoded data removed]",
      "text/plain": [
       "<Figure size 360x360 with 1 Axes>"
      ]
     },
     "metadata": {},
     "output_type": "display_data"
    }
   ],
   "source": [
    "plt.figure(figsize=(5,5))\n",
    "plt.pie(trainset['transmission_type'].value_counts(),autopct=\"%.1f%%\",labels=[\"Manual\",\"Automatic\"],shadow=True)\n",
    "plt.show()"
   ]
  },
  {
   "cell_type": "code",
   "execution_count": 23,
   "metadata": {},
   "outputs": [
    {
     "data": {
      "text/plain": [
       "Text(0.5, 1.0, 'Top 10 car brands on sale')"
      ]
     },
     "execution_count": 23,
     "metadata": {},
     "output_type": "execute_result"
    },
    {
     "data": {
      "image/png": "[encoded data removed]",
      "text/plain": [
       "<Figure size 1080x432 with 1 Axes>"
      ]
     },
     "metadata": {
      "needs_background": "light"
     },
     "output_type": "display_data"
    }
   ],
   "source": [
    "df_brand = pd.DataFrame(trainset.brand.value_counts())\n",
    "ax = df_brand.head(10).plot.bar(figsize=(15,6))\n",
    "for p in ax.patches:\n",
    "    ax.annotate(str(p.get_height()), (p.get_x() + (p.get_width()/4), p.get_height()+5), rotation=0)\n",
    "    \n",
    "plt.title(\"Top 10 car brands on sale\")"
   ]
  },
  {
   "cell_type": "code",
   "execution_count": 24,
   "metadata": {},
   "outputs": [
    {
     "data": {
      "image/png": "[encoded data removed]",
      "text/plain": [
       "<Figure size 648x648 with 1 Axes>"
      ]
     },
     "metadata": {
      "needs_background": "light"
     },
     "output_type": "display_data"
    }
   ],
   "source": [
    "plt.figure(figsize=(9,9))\n",
    "trainset.boxplot(column=[\"mileage\",\"vehicle_age\" ])\n",
    "plt.show()"
   ]
  },
  {
   "cell_type": "code",
   "execution_count": 25,
   "metadata": {},
   "outputs": [
    {
     "data": {
      "image/png": "[encoded data removed]",
      "text/plain": [
       "<Figure size 720x720 with 1 Axes>"
      ]
     },
     "metadata": {
      "needs_background": "light"
     },
     "output_type": "display_data"
    }
   ],
   "source": [
    "plt.figure(figsize=(10,10))\n",
    "trainset.boxplot(column=[\"selling_price\",\"km_driven\"])\n",
    "plt.show()"
   ]
  },
  {
   "cell_type": "code",
   "execution_count": 26,
   "metadata": {},
   "outputs": [
    {
     "data": {
      "image/png": "[encoded data removed]",
      "text/plain": [
       "<Figure size 720x720 with 1 Axes>"
      ]
     },
     "metadata": {
      "needs_background": "light"
     },
     "output_type": "display_data"
    }
   ],
   "source": [
    "plt.figure(figsize=(10,10))\n",
    "trainset.boxplot(column=[\"max_power\",\"engine\"])\n",
    "plt.show()"
   ]
  },
  {
   "cell_type": "code",
   "execution_count": 27,
   "metadata": {},
   "outputs": [
    {
     "data": {
      "image/png": "[encoded data removed]",
      "text/plain": [
       "<Figure size 648x648 with 1 Axes>"
      ]
     },
     "metadata": {
      "needs_background": "light"
     },
     "output_type": "display_data"
    }
   ],
   "source": [
    "plt.figure(figsize=(9,9))\n",
    "plt.scatter(trainset.vehicle_age,trainset.selling_price)\n",
    "plt.show()"
   ]
  },
  {
   "cell_type": "code",
   "execution_count": 28,
   "metadata": {},
   "outputs": [
    {
     "data": {
      "image/png": "[encoded data removed]",
      "text/plain": [
       "<Figure size 648x648 with 1 Axes>"
      ]
     },
     "metadata": {
      "needs_background": "light"
     },
     "output_type": "display_data"
    }
   ],
   "source": [
    "plt.figure(figsize=(9,9))\n",
    "plt.scatter(trainset.max_power,trainset.selling_price)\n",
    "plt.show()"
   ]
  },
  {
   "cell_type": "code",
   "execution_count": 29,
   "metadata": {},
   "outputs": [
    {
     "data": {
      "image/png": "[encoded data removed]",
      "text/plain": [
       "<Figure size 648x648 with 1 Axes>"
      ]
     },
     "metadata": {
      "needs_background": "light"
     },
     "output_type": "display_data"
    }
   ],
   "source": [
    "plt.figure(figsize=(9,9))\n",
    "plt.scatter(trainset.mileage,trainset.selling_price)\n",
    "plt.show()"
   ]
  },
  {
   "cell_type": "code",
   "execution_count": 30,
   "metadata": {},
   "outputs": [
    {
     "data": {
      "image/png": "[encoded data removed]",
      "text/plain": [
       "<Figure size 648x648 with 1 Axes>"
      ]
     },
     "metadata": {
      "needs_background": "light"
     },
     "output_type": "display_data"
    }
   ],
   "source": [
    "plt.figure(figsize=(9,9))\n",
    "plt.scatter(trainset.km_driven,trainset.selling_price)\n",
    "plt.show()"
   ]
  },
  {
   "cell_type": "markdown",
   "metadata": {},
   "source": [
    "# Data preprocessing"
   ]
  },
  {
   "cell_type": "markdown",
   "metadata": {},
   "source": [
    "The summary of dataprocessing step, first unnecessary variable is removed from both trainset and testset.Then removed outliers from the trainset for better prediction model.there is no missing value in our dataset.we did scaling feature for the target variable.we created dummy variable for all the categorical variable such  fuel type and transmission type.we checked correlation for all the variables respect to the target variable."
   ]
  },
  {
   "cell_type": "code",
   "execution_count": 31,
   "metadata": {},
   "outputs": [],
   "source": [
    "del trainset[\"min_cost_price\"]\n",
    "del testset[\"min_cost_price\"]"
   ]
  },
  {
   "cell_type": "code",
   "execution_count": 32,
   "metadata": {},
   "outputs": [],
   "source": [
    "del trainset[\"max_cost_price\"]\n",
    "del testset[\"max_cost_price\"]"
   ]
  },
  {
   "cell_type": "code",
   "execution_count": 33,
   "metadata": {},
   "outputs": [],
   "source": [
    "del trainset[\"car_name\"]\n",
    "del testset[\"car_name\"]"
   ]
  },
  {
   "cell_type": "code",
   "execution_count": 34,
   "metadata": {},
   "outputs": [],
   "source": [
    "del trainset[\"Unnamed: 0\"]\n",
    "del testset[\"Unnamed: 0\"]"
   ]
  },
  {
   "cell_type": "code",
   "execution_count": 35,
   "metadata": {},
   "outputs": [],
   "source": [
    "del trainset[\"seats\"]\n",
    "del testset[\"seats\"]"
   ]
  },
  {
   "cell_type": "code",
   "execution_count": 36,
   "metadata": {},
   "outputs": [],
   "source": [
    "del trainset[\"brand\"]\n",
    "del testset[\"brand\"]"
   ]
  },
  {
   "cell_type": "code",
   "execution_count": 37,
   "metadata": {},
   "outputs": [],
   "source": [
    "del trainset[\"model\"]\n",
    "del testset[\"model\"]"
   ]
  },
  {
   "cell_type": "code",
   "execution_count": 38,
   "metadata": {},
   "outputs": [],
   "source": [
    "del trainset[\"transmission_type\"]\n",
    "del testset[\"transmission_type\"]"
   ]
  },
  {
   "cell_type": "code",
   "execution_count": 39,
   "metadata": {},
   "outputs": [],
   "source": [
    "del trainset[\"seller_type\"]\n",
    "del testset[\"seller_type\"]"
   ]
  },
  {
   "cell_type": "code",
   "execution_count": 40,
   "metadata": {
    "scrolled": true
   },
   "outputs": [
    {
     "data": {
      "text/html": [
       "<div>\n",
       "<style scoped>\n",
       "    .dataframe tbody tr th:only-of-type {\n",
       "        vertical-align: middle;\n",
       "    }\n",
       "\n",
       "    .dataframe tbody tr th {\n",
       "        vertical-align: top;\n",
       "    }\n",
       "\n",
       "    .dataframe thead th {\n",
       "        text-align: right;\n",
       "    }\n",
       "</style>\n",
       "<table border=\"1\" class=\"dataframe\">\n",
       "  <thead>\n",
       "    <tr style=\"text-align: right;\">\n",
       "      <th></th>\n",
       "      <th>vehicle_age</th>\n",
       "      <th>km_driven</th>\n",
       "      <th>fuel_type</th>\n",
       "      <th>mileage</th>\n",
       "      <th>engine</th>\n",
       "      <th>max_power</th>\n",
       "      <th>selling_price</th>\n",
       "    </tr>\n",
       "  </thead>\n",
       "  <tbody>\n",
       "    <tr>\n",
       "      <th>8425</th>\n",
       "      <td>4</td>\n",
       "      <td>30000</td>\n",
       "      <td>Petrol</td>\n",
       "      <td>14.67</td>\n",
       "      <td>1798</td>\n",
       "      <td>177.46</td>\n",
       "      <td>1960000</td>\n",
       "    </tr>\n",
       "    <tr>\n",
       "      <th>10819</th>\n",
       "      <td>2</td>\n",
       "      <td>40000</td>\n",
       "      <td>Diesel</td>\n",
       "      <td>24.70</td>\n",
       "      <td>1047</td>\n",
       "      <td>69.00</td>\n",
       "      <td>529000</td>\n",
       "    </tr>\n",
       "    <tr>\n",
       "      <th>4790</th>\n",
       "      <td>8</td>\n",
       "      <td>56000</td>\n",
       "      <td>Petrol</td>\n",
       "      <td>19.10</td>\n",
       "      <td>1197</td>\n",
       "      <td>85.80</td>\n",
       "      <td>430000</td>\n",
       "    </tr>\n",
       "    <tr>\n",
       "      <th>5336</th>\n",
       "      <td>15</td>\n",
       "      <td>65000</td>\n",
       "      <td>Petrol</td>\n",
       "      <td>18.90</td>\n",
       "      <td>998</td>\n",
       "      <td>67.10</td>\n",
       "      <td>175000</td>\n",
       "    </tr>\n",
       "    <tr>\n",
       "      <th>2708</th>\n",
       "      <td>9</td>\n",
       "      <td>62000</td>\n",
       "      <td>Petrol</td>\n",
       "      <td>19.81</td>\n",
       "      <td>1086</td>\n",
       "      <td>68.05</td>\n",
       "      <td>255000</td>\n",
       "    </tr>\n",
       "  </tbody>\n",
       "</table>\n",
       "</div>"
      ],
      "text/plain": [
       "       vehicle_age  km_driven fuel_type  mileage  engine  max_power  \\\n",
       "8425             4      30000    Petrol    14.67    1798     177.46   \n",
       "10819            2      40000    Diesel    24.70    1047      69.00   \n",
       "4790             8      56000    Petrol    19.10    1197      85.80   \n",
       "5336            15      65000    Petrol    18.90     998      67.10   \n",
       "2708             9      62000    Petrol    19.81    1086      68.05   \n",
       "\n",
       "       selling_price  \n",
       "8425         1960000  \n",
       "10819         529000  \n",
       "4790          430000  \n",
       "5336          175000  \n",
       "2708          255000  "
      ]
     },
     "execution_count": 40,
     "metadata": {},
     "output_type": "execute_result"
    }
   ],
   "source": [
    "trainset.head()"
   ]
  },
  {
   "cell_type": "markdown",
   "metadata": {},
   "source": [
    "# Removing the outlier"
   ]
  },
  {
   "cell_type": "code",
   "execution_count": 41,
   "metadata": {},
   "outputs": [],
   "source": [
    "trainset = trainset.drop(trainset[trainset.km_driven >130000].index)\n",
    "trainset = trainset.drop(trainset[trainset[\"max_power\"]>200].index)\n",
    "trainset = trainset.drop(trainset[trainset[\"engine\"]>2000].index)\n",
    "trainset = trainset.drop(trainset[trainset[\"vehicle_age\"]>20].index)"
   ]
  },
  {
   "cell_type": "code",
   "execution_count": 42,
   "metadata": {},
   "outputs": [
    {
     "data": {
      "text/plain": [
       "vehicle_age      0\n",
       "km_driven        0\n",
       "fuel_type        0\n",
       "mileage          0\n",
       "engine           0\n",
       "max_power        0\n",
       "selling_price    0\n",
       "dtype: int64"
      ]
     },
     "execution_count": 42,
     "metadata": {},
     "output_type": "execute_result"
    }
   ],
   "source": [
    "trainset.isnull().sum()"
   ]
  },
  {
   "cell_type": "code",
   "execution_count": 43,
   "metadata": {},
   "outputs": [
    {
     "data": {
      "text/html": [
       "<div>\n",
       "<style scoped>\n",
       "    .dataframe tbody tr th:only-of-type {\n",
       "        vertical-align: middle;\n",
       "    }\n",
       "\n",
       "    .dataframe tbody tr th {\n",
       "        vertical-align: top;\n",
       "    }\n",
       "\n",
       "    .dataframe thead th {\n",
       "        text-align: right;\n",
       "    }\n",
       "</style>\n",
       "<table border=\"1\" class=\"dataframe\">\n",
       "  <thead>\n",
       "    <tr style=\"text-align: right;\">\n",
       "      <th></th>\n",
       "      <th>vehicle_age</th>\n",
       "      <th>km_driven</th>\n",
       "      <th>mileage</th>\n",
       "      <th>engine</th>\n",
       "      <th>max_power</th>\n",
       "      <th>selling_price</th>\n",
       "    </tr>\n",
       "  </thead>\n",
       "  <tbody>\n",
       "    <tr>\n",
       "      <th>count</th>\n",
       "      <td>10305.000000</td>\n",
       "      <td>10305.000000</td>\n",
       "      <td>10305.000000</td>\n",
       "      <td>10305.000000</td>\n",
       "      <td>10305.000000</td>\n",
       "      <td>1.030500e+04</td>\n",
       "    </tr>\n",
       "    <tr>\n",
       "      <th>mean</th>\n",
       "      <td>5.863561</td>\n",
       "      <td>48905.286075</td>\n",
       "      <td>20.711049</td>\n",
       "      <td>1301.428530</td>\n",
       "      <td>90.585820</td>\n",
       "      <td>6.223277e+05</td>\n",
       "    </tr>\n",
       "    <tr>\n",
       "      <th>std</th>\n",
       "      <td>2.950783</td>\n",
       "      <td>27244.989729</td>\n",
       "      <td>3.550381</td>\n",
       "      <td>270.088691</td>\n",
       "      <td>28.421641</td>\n",
       "      <td>4.972108e+05</td>\n",
       "    </tr>\n",
       "    <tr>\n",
       "      <th>min</th>\n",
       "      <td>0.000000</td>\n",
       "      <td>100.000000</td>\n",
       "      <td>10.500000</td>\n",
       "      <td>793.000000</td>\n",
       "      <td>38.400000</td>\n",
       "      <td>4.500000e+04</td>\n",
       "    </tr>\n",
       "    <tr>\n",
       "      <th>25%</th>\n",
       "      <td>4.000000</td>\n",
       "      <td>27884.000000</td>\n",
       "      <td>18.150000</td>\n",
       "      <td>1197.000000</td>\n",
       "      <td>73.900000</td>\n",
       "      <td>3.600000e+05</td>\n",
       "    </tr>\n",
       "    <tr>\n",
       "      <th>50%</th>\n",
       "      <td>5.000000</td>\n",
       "      <td>47527.000000</td>\n",
       "      <td>20.400000</td>\n",
       "      <td>1248.000000</td>\n",
       "      <td>83.140000</td>\n",
       "      <td>5.250000e+05</td>\n",
       "    </tr>\n",
       "    <tr>\n",
       "      <th>75%</th>\n",
       "      <td>8.000000</td>\n",
       "      <td>67000.000000</td>\n",
       "      <td>23.000000</td>\n",
       "      <td>1497.000000</td>\n",
       "      <td>103.000000</td>\n",
       "      <td>7.250000e+05</td>\n",
       "    </tr>\n",
       "    <tr>\n",
       "      <th>max</th>\n",
       "      <td>19.000000</td>\n",
       "      <td>130000.000000</td>\n",
       "      <td>33.540000</td>\n",
       "      <td>1999.000000</td>\n",
       "      <td>197.130000</td>\n",
       "      <td>6.975000e+06</td>\n",
       "    </tr>\n",
       "  </tbody>\n",
       "</table>\n",
       "</div>"
      ],
      "text/plain": [
       "        vehicle_age      km_driven       mileage        engine     max_power  \\\n",
       "count  10305.000000   10305.000000  10305.000000  10305.000000  10305.000000   \n",
       "mean       5.863561   48905.286075     20.711049   1301.428530     90.585820   \n",
       "std        2.950783   27244.989729      3.550381    270.088691     28.421641   \n",
       "min        0.000000     100.000000     10.500000    793.000000     38.400000   \n",
       "25%        4.000000   27884.000000     18.150000   1197.000000     73.900000   \n",
       "50%        5.000000   47527.000000     20.400000   1248.000000     83.140000   \n",
       "75%        8.000000   67000.000000     23.000000   1497.000000    103.000000   \n",
       "max       19.000000  130000.000000     33.540000   1999.000000    197.130000   \n",
       "\n",
       "       selling_price  \n",
       "count   1.030500e+04  \n",
       "mean    6.223277e+05  \n",
       "std     4.972108e+05  \n",
       "min     4.500000e+04  \n",
       "25%     3.600000e+05  \n",
       "50%     5.250000e+05  \n",
       "75%     7.250000e+05  \n",
       "max     6.975000e+06  "
      ]
     },
     "execution_count": 43,
     "metadata": {},
     "output_type": "execute_result"
    }
   ],
   "source": [
    "trainset.describe()"
   ]
  },
  {
   "cell_type": "code",
   "execution_count": 44,
   "metadata": {},
   "outputs": [
    {
     "data": {
      "image/png": "[encoded data removed]",
      "text/plain": [
       "<Figure size 1152x864 with 6 Axes>"
      ]
     },
     "metadata": {
      "needs_background": "light"
     },
     "output_type": "display_data"
    }
   ],
   "source": [
    "dummy1 = trainset.hist(bins=50, figsize=(16,12))"
   ]
  },
  {
   "cell_type": "code",
   "execution_count": 45,
   "metadata": {},
   "outputs": [
    {
     "data": {
      "text/plain": [
       "vehicle_age      0\n",
       "km_driven        0\n",
       "fuel_type        0\n",
       "mileage          0\n",
       "engine           0\n",
       "max_power        0\n",
       "selling_price    0\n",
       "dtype: int64"
      ]
     },
     "execution_count": 45,
     "metadata": {},
     "output_type": "execute_result"
    }
   ],
   "source": [
    "trainset.isnull().sum()"
   ]
  },
  {
   "cell_type": "code",
   "execution_count": 46,
   "metadata": {},
   "outputs": [
    {
     "name": "stdout",
     "output_type": "stream",
     "text": [
      "<class 'pandas.core.frame.DataFrame'>\n",
      "Int64Index: 10305 entries, 8425 to 3881\n",
      "Data columns (total 7 columns):\n",
      " #   Column         Non-Null Count  Dtype  \n",
      "---  ------         --------------  -----  \n",
      " 0   vehicle_age    10305 non-null  int64  \n",
      " 1   km_driven      10305 non-null  int64  \n",
      " 2   fuel_type      10305 non-null  object \n",
      " 3   mileage        10305 non-null  float64\n",
      " 4   engine         10305 non-null  int64  \n",
      " 5   max_power      10305 non-null  float64\n",
      " 6   selling_price  10305 non-null  int64  \n",
      "dtypes: float64(2), int64(4), object(1)\n",
      "memory usage: 644.1+ KB\n"
     ]
    }
   ],
   "source": [
    "trainset.info()"
   ]
  },
  {
   "cell_type": "markdown",
   "metadata": {},
   "source": [
    "# Variable correlations"
   ]
  },
  {
   "cell_type": "code",
   "execution_count": 47,
   "metadata": {},
   "outputs": [
    {
     "data": {
      "text/plain": [
       "selling_price    1.000000\n",
       "max_power        0.727407\n",
       "engine           0.620631\n",
       "mileage         -0.148155\n",
       "km_driven       -0.197833\n",
       "vehicle_age     -0.362688\n",
       "Name: selling_price, dtype: float64"
      ]
     },
     "execution_count": 47,
     "metadata": {},
     "output_type": "execute_result"
    }
   ],
   "source": [
    "corr_matrix = trainset.corr()\n",
    "corr_matrix['selling_price'].sort_values(ascending=False)"
   ]
  },
  {
   "cell_type": "code",
   "execution_count": 48,
   "metadata": {},
   "outputs": [
    {
     "data": {
      "image/png": "[encoded data removed]",
      "text/plain": [
       "<Figure size 720x720 with 2 Axes>"
      ]
     },
     "metadata": {
      "needs_background": "light"
     },
     "output_type": "display_data"
    }
   ],
   "source": [
    "corrmat = trainset.corr()\n",
    "top_corr_features = corrmat.index\n",
    "plt.figure(figsize=(10,10))\n",
    "#plot heat map\n",
    "g=sns.heatmap(trainset[top_corr_features].corr(),annot=True,cmap=\"RdYlGn\")"
   ]
  },
  {
   "cell_type": "code",
   "execution_count": 49,
   "metadata": {},
   "outputs": [
    {
     "data": {
      "image/png": "[encoded data removed]",
      "text/plain": [
       "<Figure size 864x576 with 16 Axes>"
      ]
     },
     "metadata": {
      "needs_background": "light"
     },
     "output_type": "display_data"
    }
   ],
   "source": [
    "from pandas.plotting import scatter_matrix\n",
    "\n",
    "# select only the variables that are most likely to be correlated\n",
    "attributes = [\"selling_price\", \"max_power\", \"engine\", \"km_driven\"]\n",
    "dummy = scatter_matrix(trainset[attributes], figsize=(12, 8))"
   ]
  },
  {
   "cell_type": "markdown",
   "metadata": {},
   "source": [
    "# Feature engineering"
   ]
  },
  {
   "cell_type": "markdown",
   "metadata": {},
   "source": [
    "# Missing Values"
   ]
  },
  {
   "cell_type": "code",
   "execution_count": 50,
   "metadata": {},
   "outputs": [
    {
     "name": "stdout",
     "output_type": "stream",
     "text": [
      "The training data has 0 missing values and the test data has 0 missing data.\n"
     ]
    }
   ],
   "source": [
    "#Check for missing values\n",
    "Missing_train = train_set.isnull().sum()\n",
    "Missing_test = test_set.isnull().sum()\n",
    "print(f'The training data has {Missing_train.sum()} missing values and the test data has {Missing_test.sum()} \\\n",
    "missing data.')"
   ]
  },
  {
   "cell_type": "markdown",
   "metadata": {},
   "source": [
    "# Create dummy variables"
   ]
  },
  {
   "cell_type": "code",
   "execution_count": 51,
   "metadata": {},
   "outputs": [
    {
     "data": {
      "text/html": [
       "<div>\n",
       "<style scoped>\n",
       "    .dataframe tbody tr th:only-of-type {\n",
       "        vertical-align: middle;\n",
       "    }\n",
       "\n",
       "    .dataframe tbody tr th {\n",
       "        vertical-align: top;\n",
       "    }\n",
       "\n",
       "    .dataframe thead th {\n",
       "        text-align: right;\n",
       "    }\n",
       "</style>\n",
       "<table border=\"1\" class=\"dataframe\">\n",
       "  <thead>\n",
       "    <tr style=\"text-align: right;\">\n",
       "      <th></th>\n",
       "      <th>vehicle_age</th>\n",
       "      <th>km_driven</th>\n",
       "      <th>fuel_type</th>\n",
       "      <th>mileage</th>\n",
       "      <th>engine</th>\n",
       "      <th>max_power</th>\n",
       "      <th>selling_price</th>\n",
       "      <th>Diesel</th>\n",
       "      <th>LPG</th>\n",
       "      <th>Petrol</th>\n",
       "    </tr>\n",
       "  </thead>\n",
       "  <tbody>\n",
       "    <tr>\n",
       "      <th>8425</th>\n",
       "      <td>4</td>\n",
       "      <td>30000</td>\n",
       "      <td>Petrol</td>\n",
       "      <td>14.67</td>\n",
       "      <td>1798</td>\n",
       "      <td>177.46</td>\n",
       "      <td>1960000</td>\n",
       "      <td>0.0</td>\n",
       "      <td>0.0</td>\n",
       "      <td>1.0</td>\n",
       "    </tr>\n",
       "    <tr>\n",
       "      <th>10819</th>\n",
       "      <td>2</td>\n",
       "      <td>40000</td>\n",
       "      <td>Diesel</td>\n",
       "      <td>24.70</td>\n",
       "      <td>1047</td>\n",
       "      <td>69.00</td>\n",
       "      <td>529000</td>\n",
       "      <td>1.0</td>\n",
       "      <td>0.0</td>\n",
       "      <td>0.0</td>\n",
       "    </tr>\n",
       "    <tr>\n",
       "      <th>4790</th>\n",
       "      <td>8</td>\n",
       "      <td>56000</td>\n",
       "      <td>Petrol</td>\n",
       "      <td>19.10</td>\n",
       "      <td>1197</td>\n",
       "      <td>85.80</td>\n",
       "      <td>430000</td>\n",
       "      <td>0.0</td>\n",
       "      <td>0.0</td>\n",
       "      <td>1.0</td>\n",
       "    </tr>\n",
       "    <tr>\n",
       "      <th>5336</th>\n",
       "      <td>15</td>\n",
       "      <td>65000</td>\n",
       "      <td>Petrol</td>\n",
       "      <td>18.90</td>\n",
       "      <td>998</td>\n",
       "      <td>67.10</td>\n",
       "      <td>175000</td>\n",
       "      <td>0.0</td>\n",
       "      <td>0.0</td>\n",
       "      <td>1.0</td>\n",
       "    </tr>\n",
       "    <tr>\n",
       "      <th>2708</th>\n",
       "      <td>9</td>\n",
       "      <td>62000</td>\n",
       "      <td>Petrol</td>\n",
       "      <td>19.81</td>\n",
       "      <td>1086</td>\n",
       "      <td>68.05</td>\n",
       "      <td>255000</td>\n",
       "      <td>0.0</td>\n",
       "      <td>0.0</td>\n",
       "      <td>1.0</td>\n",
       "    </tr>\n",
       "  </tbody>\n",
       "</table>\n",
       "</div>"
      ],
      "text/plain": [
       "       vehicle_age  km_driven fuel_type  mileage  engine  max_power  \\\n",
       "8425             4      30000    Petrol    14.67    1798     177.46   \n",
       "10819            2      40000    Diesel    24.70    1047      69.00   \n",
       "4790             8      56000    Petrol    19.10    1197      85.80   \n",
       "5336            15      65000    Petrol    18.90     998      67.10   \n",
       "2708             9      62000    Petrol    19.81    1086      68.05   \n",
       "\n",
       "       selling_price  Diesel  LPG  Petrol  \n",
       "8425         1960000     0.0  0.0     1.0  \n",
       "10819         529000     1.0  0.0     0.0  \n",
       "4790          430000     0.0  0.0     1.0  \n",
       "5336          175000     0.0  0.0     1.0  \n",
       "2708          255000     0.0  0.0     1.0  "
      ]
     },
     "execution_count": 51,
     "metadata": {},
     "output_type": "execute_result"
    }
   ],
   "source": [
    "from sklearn.preprocessing import OneHotEncoder\n",
    "\n",
    "one_hot_encoder = OneHotEncoder(drop=\"first\", sparse=False)\n",
    "\n",
    "# the input to the encoder must be a 2-d numpy array,\n",
    "# so we take the column, extract their values and reshape the array to be 2-d\n",
    "cat_vals = trainset['fuel_type'].values.reshape(-1,1)\n",
    "\n",
    "transformed = one_hot_encoder.fit_transform(cat_vals)\n",
    "\n",
    "# put the transformed data as columns in the dataframe\n",
    "col_names = one_hot_encoder.categories_[0].tolist()[1:]\n",
    "for i, col_name in enumerate(col_names):\n",
    "    trainset[col_name] = transformed[:,i]\n",
    "\n",
    "# check if the dummies are produced correctly\n",
    "trainset.head()"
   ]
  },
  {
   "cell_type": "code",
   "execution_count": 52,
   "metadata": {},
   "outputs": [
    {
     "data": {
      "text/html": [
       "<div>\n",
       "<style scoped>\n",
       "    .dataframe tbody tr th:only-of-type {\n",
       "        vertical-align: middle;\n",
       "    }\n",
       "\n",
       "    .dataframe tbody tr th {\n",
       "        vertical-align: top;\n",
       "    }\n",
       "\n",
       "    .dataframe thead th {\n",
       "        text-align: right;\n",
       "    }\n",
       "</style>\n",
       "<table border=\"1\" class=\"dataframe\">\n",
       "  <thead>\n",
       "    <tr style=\"text-align: right;\">\n",
       "      <th></th>\n",
       "      <th>vehicle_age</th>\n",
       "      <th>km_driven</th>\n",
       "      <th>fuel_type</th>\n",
       "      <th>mileage</th>\n",
       "      <th>engine</th>\n",
       "      <th>max_power</th>\n",
       "      <th>selling_price</th>\n",
       "      <th>Diesel</th>\n",
       "      <th>LPG</th>\n",
       "      <th>Petrol</th>\n",
       "    </tr>\n",
       "  </thead>\n",
       "  <tbody>\n",
       "    <tr>\n",
       "      <th>2481</th>\n",
       "      <td>10</td>\n",
       "      <td>30000</td>\n",
       "      <td>Petrol</td>\n",
       "      <td>16.10</td>\n",
       "      <td>1197</td>\n",
       "      <td>85.0</td>\n",
       "      <td>350000</td>\n",
       "      <td>0.0</td>\n",
       "      <td>0.0</td>\n",
       "      <td>1.0</td>\n",
       "    </tr>\n",
       "    <tr>\n",
       "      <th>12591</th>\n",
       "      <td>4</td>\n",
       "      <td>54500</td>\n",
       "      <td>Petrol</td>\n",
       "      <td>19.12</td>\n",
       "      <td>1373</td>\n",
       "      <td>91.1</td>\n",
       "      <td>730000</td>\n",
       "      <td>0.0</td>\n",
       "      <td>0.0</td>\n",
       "      <td>1.0</td>\n",
       "    </tr>\n",
       "    <tr>\n",
       "      <th>14655</th>\n",
       "      <td>10</td>\n",
       "      <td>66000</td>\n",
       "      <td>Diesel</td>\n",
       "      <td>12.80</td>\n",
       "      <td>2494</td>\n",
       "      <td>102.0</td>\n",
       "      <td>750000</td>\n",
       "      <td>1.0</td>\n",
       "      <td>0.0</td>\n",
       "      <td>0.0</td>\n",
       "    </tr>\n",
       "    <tr>\n",
       "      <th>1871</th>\n",
       "      <td>9</td>\n",
       "      <td>70000</td>\n",
       "      <td>Diesel</td>\n",
       "      <td>19.30</td>\n",
       "      <td>1248</td>\n",
       "      <td>73.9</td>\n",
       "      <td>485000</td>\n",
       "      <td>1.0</td>\n",
       "      <td>0.0</td>\n",
       "      <td>0.0</td>\n",
       "    </tr>\n",
       "    <tr>\n",
       "      <th>14508</th>\n",
       "      <td>7</td>\n",
       "      <td>120000</td>\n",
       "      <td>Diesel</td>\n",
       "      <td>25.80</td>\n",
       "      <td>1498</td>\n",
       "      <td>98.6</td>\n",
       "      <td>300000</td>\n",
       "      <td>1.0</td>\n",
       "      <td>0.0</td>\n",
       "      <td>0.0</td>\n",
       "    </tr>\n",
       "  </tbody>\n",
       "</table>\n",
       "</div>"
      ],
      "text/plain": [
       "       vehicle_age  km_driven fuel_type  mileage  engine  max_power  \\\n",
       "2481            10      30000    Petrol    16.10    1197       85.0   \n",
       "12591            4      54500    Petrol    19.12    1373       91.1   \n",
       "14655           10      66000    Diesel    12.80    2494      102.0   \n",
       "1871             9      70000    Diesel    19.30    1248       73.9   \n",
       "14508            7     120000    Diesel    25.80    1498       98.6   \n",
       "\n",
       "       selling_price  Diesel  LPG  Petrol  \n",
       "2481          350000     0.0  0.0     1.0  \n",
       "12591         730000     0.0  0.0     1.0  \n",
       "14655         750000     1.0  0.0     0.0  \n",
       "1871          485000     1.0  0.0     0.0  \n",
       "14508         300000     1.0  0.0     0.0  "
      ]
     },
     "execution_count": 52,
     "metadata": {},
     "output_type": "execute_result"
    }
   ],
   "source": [
    "testset = testset.drop(testset[testset[\"fuel_type\"]==\"Electric\"].index)\n",
    "cat_vals = testset['fuel_type'].values.reshape(-1,1)\n",
    "\n",
    "transformed = one_hot_encoder.transform(cat_vals)\n",
    "\n",
    "for i, col_name in enumerate(col_names):\n",
    "    testset[col_name] = transformed[:,i]\n",
    "    \n",
    "#Test to see it worked as intended\n",
    "testset.head()"
   ]
  },
  {
   "cell_type": "code",
   "execution_count": 53,
   "metadata": {},
   "outputs": [],
   "source": [
    "del trainset['fuel_type']\n",
    "del testset['fuel_type']"
   ]
  },
  {
   "cell_type": "markdown",
   "metadata": {},
   "source": [
    "# Feature scaling"
   ]
  },
  {
   "cell_type": "code",
   "execution_count": 54,
   "metadata": {},
   "outputs": [
    {
     "data": {
      "text/html": [
       "<div>\n",
       "<style scoped>\n",
       "    .dataframe tbody tr th:only-of-type {\n",
       "        vertical-align: middle;\n",
       "    }\n",
       "\n",
       "    .dataframe tbody tr th {\n",
       "        vertical-align: top;\n",
       "    }\n",
       "\n",
       "    .dataframe thead th {\n",
       "        text-align: right;\n",
       "    }\n",
       "</style>\n",
       "<table border=\"1\" class=\"dataframe\">\n",
       "  <thead>\n",
       "    <tr style=\"text-align: right;\">\n",
       "      <th></th>\n",
       "      <th>vehicle_age</th>\n",
       "      <th>km_driven</th>\n",
       "      <th>mileage</th>\n",
       "      <th>engine</th>\n",
       "      <th>max_power</th>\n",
       "      <th>Diesel</th>\n",
       "      <th>LPG</th>\n",
       "      <th>Petrol</th>\n",
       "      <th>selling_price</th>\n",
       "    </tr>\n",
       "  </thead>\n",
       "  <tbody>\n",
       "    <tr>\n",
       "      <th>0</th>\n",
       "      <td>-0.631579</td>\n",
       "      <td>-0.693933</td>\n",
       "      <td>-1.701604</td>\n",
       "      <td>1.838639</td>\n",
       "      <td>3.056769</td>\n",
       "      <td>-0.804826</td>\n",
       "      <td>-0.060837</td>\n",
       "      <td>0.850607</td>\n",
       "      <td>1960000</td>\n",
       "    </tr>\n",
       "    <tr>\n",
       "      <th>1</th>\n",
       "      <td>-1.309398</td>\n",
       "      <td>-0.326875</td>\n",
       "      <td>1.123582</td>\n",
       "      <td>-0.942064</td>\n",
       "      <td>-0.759522</td>\n",
       "      <td>1.242504</td>\n",
       "      <td>-0.060837</td>\n",
       "      <td>-1.175631</td>\n",
       "      <td>529000</td>\n",
       "    </tr>\n",
       "    <tr>\n",
       "      <th>2</th>\n",
       "      <td>0.724059</td>\n",
       "      <td>0.260417</td>\n",
       "      <td>-0.453790</td>\n",
       "      <td>-0.386664</td>\n",
       "      <td>-0.168395</td>\n",
       "      <td>-0.804826</td>\n",
       "      <td>-0.060837</td>\n",
       "      <td>0.850607</td>\n",
       "      <td>430000</td>\n",
       "    </tr>\n",
       "    <tr>\n",
       "      <th>3</th>\n",
       "      <td>3.096426</td>\n",
       "      <td>0.590769</td>\n",
       "      <td>-0.510125</td>\n",
       "      <td>-1.123495</td>\n",
       "      <td>-0.826376</td>\n",
       "      <td>-0.804826</td>\n",
       "      <td>-0.060837</td>\n",
       "      <td>0.850607</td>\n",
       "      <td>175000</td>\n",
       "    </tr>\n",
       "    <tr>\n",
       "      <th>4</th>\n",
       "      <td>1.062969</td>\n",
       "      <td>0.480652</td>\n",
       "      <td>-0.253802</td>\n",
       "      <td>-0.797660</td>\n",
       "      <td>-0.792949</td>\n",
       "      <td>-0.804826</td>\n",
       "      <td>-0.060837</td>\n",
       "      <td>0.850607</td>\n",
       "      <td>255000</td>\n",
       "    </tr>\n",
       "  </tbody>\n",
       "</table>\n",
       "</div>"
      ],
      "text/plain": [
       "   vehicle_age  km_driven   mileage    engine  max_power    Diesel       LPG  \\\n",
       "0    -0.631579  -0.693933 -1.701604  1.838639   3.056769 -0.804826 -0.060837   \n",
       "1    -1.309398  -0.326875  1.123582 -0.942064  -0.759522  1.242504 -0.060837   \n",
       "2     0.724059   0.260417 -0.453790 -0.386664  -0.168395 -0.804826 -0.060837   \n",
       "3     3.096426   0.590769 -0.510125 -1.123495  -0.826376 -0.804826 -0.060837   \n",
       "4     1.062969   0.480652 -0.253802 -0.797660  -0.792949 -0.804826 -0.060837   \n",
       "\n",
       "     Petrol  selling_price  \n",
       "0  0.850607        1960000  \n",
       "1 -1.175631         529000  \n",
       "2  0.850607         430000  \n",
       "3  0.850607         175000  \n",
       "4  0.850607         255000  "
      ]
     },
     "execution_count": 54,
     "metadata": {},
     "output_type": "execute_result"
    }
   ],
   "source": [
    "from sklearn.preprocessing import StandardScaler\n",
    "\n",
    "scaler = StandardScaler()\n",
    "\n",
    "trainset_target = trainset[\"selling_price\"].values\n",
    "trainset_predictors = trainset.drop(\"selling_price\", axis=1)\n",
    "\n",
    "# fit_transform returns a NumPy array, so we need to put it back \n",
    "# into a Pandas dataframe\n",
    "scaled_vals = scaler.fit_transform(trainset_predictors)\n",
    "trainset = pd.DataFrame(scaled_vals, columns=trainset_predictors.columns)\n",
    "\n",
    "# put the non-scaled target back in\n",
    "trainset['selling_price'] = trainset_target\n",
    "\n",
    "# inspect the data\n",
    "trainset.head()"
   ]
  },
  {
   "cell_type": "code",
   "execution_count": 55,
   "metadata": {},
   "outputs": [
    {
     "data": {
      "text/html": [
       "<div>\n",
       "<style scoped>\n",
       "    .dataframe tbody tr th:only-of-type {\n",
       "        vertical-align: middle;\n",
       "    }\n",
       "\n",
       "    .dataframe tbody tr th {\n",
       "        vertical-align: top;\n",
       "    }\n",
       "\n",
       "    .dataframe thead th {\n",
       "        text-align: right;\n",
       "    }\n",
       "</style>\n",
       "<table border=\"1\" class=\"dataframe\">\n",
       "  <thead>\n",
       "    <tr style=\"text-align: right;\">\n",
       "      <th></th>\n",
       "      <th>vehicle_age</th>\n",
       "      <th>km_driven</th>\n",
       "      <th>mileage</th>\n",
       "      <th>engine</th>\n",
       "      <th>max_power</th>\n",
       "      <th>Diesel</th>\n",
       "      <th>LPG</th>\n",
       "      <th>Petrol</th>\n",
       "      <th>selling_price</th>\n",
       "    </tr>\n",
       "  </thead>\n",
       "  <tbody>\n",
       "    <tr>\n",
       "      <th>0</th>\n",
       "      <td>1.401879</td>\n",
       "      <td>-0.693933</td>\n",
       "      <td>-1.298811</td>\n",
       "      <td>-0.386664</td>\n",
       "      <td>-0.196544</td>\n",
       "      <td>-0.804826</td>\n",
       "      <td>-0.060837</td>\n",
       "      <td>0.850607</td>\n",
       "      <td>350000</td>\n",
       "    </tr>\n",
       "    <tr>\n",
       "      <th>1</th>\n",
       "      <td>-0.631579</td>\n",
       "      <td>0.205358</td>\n",
       "      <td>-0.448156</td>\n",
       "      <td>0.265005</td>\n",
       "      <td>0.018092</td>\n",
       "      <td>-0.804826</td>\n",
       "      <td>-0.060837</td>\n",
       "      <td>0.850607</td>\n",
       "      <td>730000</td>\n",
       "    </tr>\n",
       "    <tr>\n",
       "      <th>2</th>\n",
       "      <td>1.401879</td>\n",
       "      <td>0.627475</td>\n",
       "      <td>-2.228334</td>\n",
       "      <td>4.415695</td>\n",
       "      <td>0.401621</td>\n",
       "      <td>1.242504</td>\n",
       "      <td>-0.060837</td>\n",
       "      <td>-1.175631</td>\n",
       "      <td>750000</td>\n",
       "    </tr>\n",
       "    <tr>\n",
       "      <th>3</th>\n",
       "      <td>1.062969</td>\n",
       "      <td>0.774298</td>\n",
       "      <td>-0.397455</td>\n",
       "      <td>-0.197828</td>\n",
       "      <td>-0.587110</td>\n",
       "      <td>1.242504</td>\n",
       "      <td>-0.060837</td>\n",
       "      <td>-1.175631</td>\n",
       "      <td>485000</td>\n",
       "    </tr>\n",
       "    <tr>\n",
       "      <th>4</th>\n",
       "      <td>0.385150</td>\n",
       "      <td>2.609587</td>\n",
       "      <td>1.433423</td>\n",
       "      <td>0.727839</td>\n",
       "      <td>0.281988</td>\n",
       "      <td>1.242504</td>\n",
       "      <td>-0.060837</td>\n",
       "      <td>-1.175631</td>\n",
       "      <td>300000</td>\n",
       "    </tr>\n",
       "  </tbody>\n",
       "</table>\n",
       "</div>"
      ],
      "text/plain": [
       "   vehicle_age  km_driven   mileage    engine  max_power    Diesel       LPG  \\\n",
       "0     1.401879  -0.693933 -1.298811 -0.386664  -0.196544 -0.804826 -0.060837   \n",
       "1    -0.631579   0.205358 -0.448156  0.265005   0.018092 -0.804826 -0.060837   \n",
       "2     1.401879   0.627475 -2.228334  4.415695   0.401621  1.242504 -0.060837   \n",
       "3     1.062969   0.774298 -0.397455 -0.197828  -0.587110  1.242504 -0.060837   \n",
       "4     0.385150   2.609587  1.433423  0.727839   0.281988  1.242504 -0.060837   \n",
       "\n",
       "     Petrol  selling_price  \n",
       "0  0.850607         350000  \n",
       "1  0.850607         730000  \n",
       "2 -1.175631         750000  \n",
       "3 -1.175631         485000  \n",
       "4 -1.175631         300000  "
      ]
     },
     "execution_count": 55,
     "metadata": {},
     "output_type": "execute_result"
    }
   ],
   "source": [
    "testset_target = testset[\"selling_price\"].values\n",
    "testset_predictors = testset.drop(\"selling_price\", axis=1)\n",
    "\n",
    "scaled_vals = scaler.transform(testset_predictors)\n",
    "testset = pd.DataFrame(scaled_vals, columns=testset_predictors.columns)\n",
    "\n",
    "# put the non-scaled target back in\n",
    "testset['selling_price'] = testset_target\n",
    "\n",
    "testset.head()"
   ]
  },
  {
   "cell_type": "markdown",
   "metadata": {},
   "source": [
    "# Train models"
   ]
  },
  {
   "cell_type": "code",
   "execution_count": 56,
   "metadata": {},
   "outputs": [],
   "source": [
    "# drop labels for training set, but keep all others\n",
    "Xtrain = trainset.drop(\"selling_price\", axis=1)\n",
    "Xtest = testset.drop(\"selling_price\", axis=1)\n",
    "\n",
    "ytrain = trainset[\"selling_price\"].copy()\n",
    "ytest = testset[\"selling_price\"].copy()"
   ]
  },
  {
   "cell_type": "code",
   "execution_count": 57,
   "metadata": {},
   "outputs": [
    {
     "name": "stdout",
     "output_type": "stream",
     "text": [
      "(10305, 8)\n",
      "(10305, 9)\n"
     ]
    }
   ],
   "source": [
    "print(Xtrain.shape)\n",
    "print(trainset.shape)"
   ]
  },
  {
   "cell_type": "code",
   "execution_count": 58,
   "metadata": {},
   "outputs": [
    {
     "data": {
      "text/plain": [
       "525000.0"
      ]
     },
     "execution_count": 58,
     "metadata": {},
     "output_type": "execute_result"
    }
   ],
   "source": [
    "car_price = ytrain.median()\n",
    "car_price"
   ]
  },
  {
   "cell_type": "markdown",
   "metadata": {},
   "source": [
    "# BASELINE"
   ]
  },
  {
   "cell_type": "markdown",
   "metadata": {},
   "source": [
    "The RMSE is measured"
   ]
  },
  {
   "cell_type": "code",
   "execution_count": 59,
   "metadata": {},
   "outputs": [
    {
     "data": {
      "text/plain": [
       "506623.41101992305"
      ]
     },
     "execution_count": 59,
     "metadata": {},
     "output_type": "execute_result"
    }
   ],
   "source": [
    "from sklearn.metrics import mean_squared_error\n",
    "\n",
    "# yhat will have the same number of rows as ytrain, \n",
    "# each cell will be filled with the same value, median_price\n",
    "yhat = np.full((ytrain.shape[0], 1), car_price)\n",
    "\n",
    "baseline_mse = mean_squared_error(ytrain, yhat)\n",
    "\n",
    "# take square root\n",
    "baseline_rmse = np.sqrt(baseline_mse)\n",
    "\n",
    "baseline_rmse"
   ]
  },
  {
   "cell_type": "markdown",
   "metadata": {},
   "source": [
    "the base line is off buy INR 506623.41"
   ]
  },
  {
   "cell_type": "code",
   "execution_count": 60,
   "metadata": {},
   "outputs": [
    {
     "data": {
      "text/plain": [
       "LinearRegression()"
      ]
     },
     "execution_count": 60,
     "metadata": {},
     "output_type": "execute_result"
    }
   ],
   "source": [
    "from sklearn.linear_model import LinearRegression\n",
    "\n",
    "lin_reg = LinearRegression()\n",
    "\n",
    "lin_reg.fit(Xtrain, ytrain)"
   ]
  },
  {
   "cell_type": "code",
   "execution_count": 61,
   "metadata": {},
   "outputs": [
    {
     "data": {
      "text/plain": [
       "0.6582283033162298"
      ]
     },
     "execution_count": 61,
     "metadata": {},
     "output_type": "execute_result"
    }
   ],
   "source": [
    "lin_reg.score(Xtrain, ytrain)"
   ]
  },
  {
   "cell_type": "markdown",
   "metadata": {},
   "source": [
    "The linear regression score or R^2 of this mode is 0.6582 which is considered to be good\n",
    "the Root mean Squared error is calculated in the training data set."
   ]
  },
  {
   "cell_type": "code",
   "execution_count": 62,
   "metadata": {},
   "outputs": [
    {
     "data": {
      "text/plain": [
       "290661.51813512994"
      ]
     },
     "execution_count": 62,
     "metadata": {},
     "output_type": "execute_result"
    }
   ],
   "source": [
    "# make predictions\n",
    "yhat = lin_reg.predict(Xtrain)\n",
    "\n",
    "lin_mse = mean_squared_error(ytrain, yhat)\n",
    "\n",
    "# take square root\n",
    "lin_rmse = np.sqrt(lin_mse)\n",
    "\n",
    "lin_rmse"
   ]
  },
  {
   "cell_type": "markdown",
   "metadata": {},
   "source": [
    "the prediction shows INR 290661.51 which is not better than the baseline model. the linear model assumes that there is linear relationship between the variable and the model is underfitted not able to obtain pattern in the data.\n",
    "\n",
    "Lets visualize the prediction and the true values."
   ]
  },
  {
   "cell_type": "code",
   "execution_count": 63,
   "metadata": {},
   "outputs": [
    {
     "data": {
      "text/plain": [
       "<AxesSubplot:>"
      ]
     },
     "execution_count": 63,
     "metadata": {},
     "output_type": "execute_result"
    },
    {
     "data": {
      "image/png": "[encoded data removed]",
      "text/plain": [
       "<Figure size 864x360 with 1 Axes>"
      ]
     },
     "metadata": {
      "needs_background": "light"
     },
     "output_type": "display_data"
    }
   ],
   "source": [
    "# create a temporary dataframe containing two columns\n",
    "df_tmp = pd.DataFrame({\"ytrain\": ytrain[:50], \"yhat\": yhat[:50]})\n",
    "\n",
    "# plot the dataframe\n",
    "df_tmp.plot(figsize=(12,5), kind=\"bar\", rot=0)"
   ]
  },
  {
   "cell_type": "markdown",
   "metadata": {},
   "source": [
    "# Decision Trees"
   ]
  },
  {
   "cell_type": "markdown",
   "metadata": {},
   "source": [
    "to find the complex non linear relationship between the data lets use powerful algorithm  desicion tree regressor"
   ]
  },
  {
   "cell_type": "code",
   "execution_count": 64,
   "metadata": {},
   "outputs": [
    {
     "data": {
      "text/plain": [
       "23200.540576931642"
      ]
     },
     "execution_count": 64,
     "metadata": {},
     "output_type": "execute_result"
    }
   ],
   "source": [
    "from sklearn.tree import DecisionTreeRegressor\n",
    "\n",
    "tree_reg = DecisionTreeRegressor()\n",
    "tree_reg.fit(Xtrain, ytrain)\n",
    "yhat = tree_reg.predict(Xtrain)\n",
    "tree_mse = mean_squared_error(ytrain, yhat)\n",
    "tree_rmse = np.sqrt(tree_mse)\n",
    "tree_rmse"
   ]
  },
  {
   "cell_type": "code",
   "execution_count": 65,
   "metadata": {},
   "outputs": [
    {
     "data": {
      "text/plain": [
       "<AxesSubplot:>"
      ]
     },
     "execution_count": 65,
     "metadata": {},
     "output_type": "execute_result"
    },
    {
     "data": {
      "image/png": "[encoded data removed]",
      "text/plain": [
       "<Figure size 864x360 with 1 Axes>"
      ]
     },
     "metadata": {
      "needs_background": "light"
     },
     "output_type": "display_data"
    }
   ],
   "source": [
    "# create a temporary dataframe containing two columns\n",
    "df_tmp = pd.DataFrame({\"ytrain\": ytrain[:50], \"yhat\": yhat[:50]})\n",
    "\n",
    "# plot the dataframe\n",
    "df_tmp.plot(figsize=(12,5), kind=\"bar\", rot=0)"
   ]
  },
  {
   "cell_type": "markdown",
   "metadata": {},
   "source": [
    "the decision tree model is capable of overfitting the data, until they have hyperparameter value is said to be maximum tree depth.the model prediction is not spot as the traing data have some error values were there could be misclassification. to check the model is better in the test data so we could evaluate the model using cross validation."
   ]
  },
  {
   "cell_type": "markdown",
   "metadata": {},
   "source": [
    "# Cross validation\n",
    "\n",
    "the cross validation take the training dataset split into 𝑘 parts (e.g.,  𝑘 =10). by evaluating the kth part for k-1. repeating until the accuracy score is obtained. the final accuracy score obtaied is the mean of k model."
   ]
  },
  {
   "cell_type": "markdown",
   "metadata": {},
   "source": [
    "# Decision tree"
   ]
  },
  {
   "cell_type": "code",
   "execution_count": 66,
   "metadata": {},
   "outputs": [
    {
     "name": "stdout",
     "output_type": "stream",
     "text": [
      "Scores: [197305.67355302 155457.53268559 138253.69176331 148749.63979884\n",
      " 176253.90018719 186922.58484153 191998.65993895 162675.8134871\n",
      " 190910.99522808 156975.71199784]\n",
      "Mean: 170550.42034814513\n",
      "Standard deviation: 19706.423128928913\n"
     ]
    }
   ],
   "source": [
    "from sklearn.model_selection import cross_val_score\n",
    "\n",
    "tree_reg = DecisionTreeRegressor()\n",
    "\n",
    "scores = cross_val_score(tree_reg, Xtrain, ytrain, scoring=\"neg_mean_squared_error\", cv=10)\n",
    "\n",
    "rmse_scores = np.sqrt(-scores)\n",
    "\n",
    "def display_scores(scores):\n",
    "    print(\"Scores:\", scores)\n",
    "    print(\"Mean:\", scores.mean())\n",
    "    print(\"Standard deviation:\", scores.std())\n",
    "\n",
    "display_scores(rmse_scores)"
   ]
  },
  {
   "cell_type": "markdown",
   "metadata": {},
   "source": [
    "from this we can see that the original model that used to evaluate on the training dataset is said to be underfitted the data."
   ]
  },
  {
   "cell_type": "markdown",
   "metadata": {},
   "source": [
    "# Linear regression"
   ]
  },
  {
   "cell_type": "code",
   "execution_count": 67,
   "metadata": {},
   "outputs": [
    {
     "name": "stdout",
     "output_type": "stream",
     "text": [
      "Scores: [298618.53372863 284673.72214675 237380.76077102 302129.71576851\n",
      " 258584.24371301 331500.9407656  272465.7423472  297192.96866833\n",
      " 320053.48359782 295177.11479878]\n",
      "Mean: 289777.7226305665\n",
      "Standard deviation: 26488.770903894478\n"
     ]
    }
   ],
   "source": [
    "lin_reg = LinearRegression()\n",
    "scores = cross_val_score(lin_reg, Xtrain, ytrain,\n",
    "                         scoring=\"neg_mean_squared_error\", cv=10)\n",
    "rmse_scores = np.sqrt(-scores)\n",
    "display_scores(rmse_scores)"
   ]
  },
  {
   "cell_type": "markdown",
   "metadata": {},
   "source": [
    "from this the linear regression slightly higher average error rate than the decision tree."
   ]
  },
  {
   "cell_type": "markdown",
   "metadata": {},
   "source": [
    "# Random forest"
   ]
  },
  {
   "cell_type": "markdown",
   "metadata": {},
   "source": [
    "The Random forest algorithm build a model that consist of multiple decision trees on a random subset of the features and the predicition is based on there average."
   ]
  },
  {
   "cell_type": "code",
   "execution_count": 68,
   "metadata": {},
   "outputs": [
    {
     "name": "stdout",
     "output_type": "stream",
     "text": [
      "Scores: [172671.07683024 134538.96249298 115714.86465412 138579.5108107\n",
      " 150726.20619056 147146.78391534 132382.03790585 136432.63623341\n",
      " 166748.72039983 127301.25263615]\n",
      "Mean: 142224.20520691824\n",
      "Standard deviation: 16592.6989067636\n"
     ]
    }
   ],
   "source": [
    "from sklearn.ensemble import RandomForestRegressor\n",
    "\n",
    "forest_reg = RandomForestRegressor(n_estimators=10, random_state=7)\n",
    "scores = cross_val_score(forest_reg, Xtrain, ytrain,\n",
    "                         scoring=\"neg_mean_squared_error\", cv=10)\n",
    "rmse_scores = np.sqrt(-scores)\n",
    "display_scores(rmse_scores)"
   ]
  },
  {
   "cell_type": "markdown",
   "metadata": {},
   "source": [
    "The RMSE score is lower than the decision tree and linear regression methods and this can be explored."
   ]
  },
  {
   "cell_type": "markdown",
   "metadata": {},
   "source": [
    "# Tuning Hyperparameter"
   ]
  },
  {
   "cell_type": "markdown",
   "metadata": {},
   "source": [
    "#here the hyperparameter is setted even before the model is trained and only few algorithm has the hyperparameter the best combination of hyperparamet is automatically set by scikit learn."
   ]
  },
  {
   "cell_type": "markdown",
   "metadata": {},
   "source": [
    "# Exhaustive Grid search"
   ]
  },
  {
   "cell_type": "markdown",
   "metadata": {},
   "source": [
    "to obtain output and the best cross validation accuracy the GridSearchcv set the hyperparameter and construct the possible combination using cross validation."
   ]
  },
  {
   "cell_type": "code",
   "execution_count": 69,
   "metadata": {},
   "outputs": [
    {
     "data": {
      "text/plain": [
       "GridSearchCV(cv=10, estimator=RandomForestRegressor(random_state=7),\n",
       "             param_grid=[{'max_depth': [4, 6, 8, None],\n",
       "                          'n_estimators': [3, 10, 30]}],\n",
       "             return_train_score=True, scoring='neg_mean_squared_error')"
      ]
     },
     "execution_count": 69,
     "metadata": {},
     "output_type": "execute_result"
    }
   ],
   "source": [
    "from sklearn.model_selection import GridSearchCV\n",
    "\n",
    "# specify the hyperparameters and their values\n",
    "param_grid = [\n",
    "    {'n_estimators': [3, 10, 30], 'max_depth': [4, 6, 8, None]},\n",
    "]\n",
    "\n",
    "forest_reg = RandomForestRegressor(random_state=7)\n",
    "\n",
    "# we'll use 10-fold cross-validation\n",
    "grid_search = GridSearchCV(forest_reg, param_grid, cv=10,\n",
    "                           scoring='neg_mean_squared_error', \n",
    "                           return_train_score=True)\n",
    "\n",
    "grid_search.fit(Xtrain, ytrain)"
   ]
  },
  {
   "cell_type": "code",
   "execution_count": 70,
   "metadata": {},
   "outputs": [
    {
     "data": {
      "text/plain": [
       "RandomForestRegressor(n_estimators=30, random_state=7)"
      ]
     },
     "execution_count": 70,
     "metadata": {},
     "output_type": "execute_result"
    }
   ],
   "source": [
    "grid_search.best_estimator_"
   ]
  },
  {
   "cell_type": "code",
   "execution_count": 71,
   "metadata": {},
   "outputs": [
    {
     "data": {
      "text/plain": [
       "141468.06790084246"
      ]
     },
     "execution_count": 71,
     "metadata": {},
     "output_type": "execute_result"
    }
   ],
   "source": [
    "np.sqrt(-grid_search.best_score_)"
   ]
  },
  {
   "cell_type": "markdown",
   "metadata": {},
   "source": [
    "By tuning the hyperparameter we were able to reduce the error from 142224 to 141468"
   ]
  },
  {
   "cell_type": "code",
   "execution_count": 72,
   "metadata": {},
   "outputs": [
    {
     "name": "stdout",
     "output_type": "stream",
     "text": [
      "204863.8861928749 192489.64568542858 {'max_depth': 4, 'n_estimators': 3}\n",
      "195641.24517813235 184950.49177272193 {'max_depth': 4, 'n_estimators': 10}\n",
      "193564.15154055392 184505.0531696242 {'max_depth': 4, 'n_estimators': 30}\n",
      "170892.1834738076 146708.85633842245 {'max_depth': 6, 'n_estimators': 3}\n",
      "162368.00114118878 139629.81429716633 {'max_depth': 6, 'n_estimators': 10}\n",
      "160625.19827587318 138327.53877644523 {'max_depth': 6, 'n_estimators': 30}\n",
      "157846.0546660296 120696.98822497117 {'max_depth': 8, 'n_estimators': 3}\n",
      "148619.2748719497 112970.93650680453 {'max_depth': 8, 'n_estimators': 10}\n",
      "148207.90160094888 111195.91795763248 {'max_depth': 8, 'n_estimators': 30}\n",
      "159555.14025685197 78589.49085936097 {'max_depth': None, 'n_estimators': 3}\n",
      "143188.83407497287 62235.60560581146 {'max_depth': None, 'n_estimators': 10}\n",
      "141468.06790084246 56495.16467403107 {'max_depth': None, 'n_estimators': 30}\n"
     ]
    }
   ],
   "source": [
    "val_scores = grid_search.cv_results_[\"mean_test_score\"]\n",
    "train_scores = grid_search.cv_results_[\"mean_train_score\"]\n",
    "params = grid_search.cv_results_[\"params\"]\n",
    "\n",
    "for val_score, train_score, param in zip(val_scores, train_scores, params):\n",
    "    print(np.sqrt(-val_score), np.sqrt(-train_score), param)"
   ]
  },
  {
   "cell_type": "markdown",
   "metadata": {},
   "source": [
    "the model can be improvised by applying more limitations and enforcing a maximum depth to the tree."
   ]
  },
  {
   "cell_type": "markdown",
   "metadata": {},
   "source": [
    "# Randomized grid search"
   ]
  },
  {
   "cell_type": "code",
   "execution_count": 73,
   "metadata": {},
   "outputs": [
    {
     "data": {
      "text/plain": [
       "RandomizedSearchCV(cv=10, estimator=RandomForestRegressor(random_state=7),\n",
       "                   n_iter=6,\n",
       "                   param_distributions={'max_depth': [4, 6, 8, None],\n",
       "                                        'n_estimators': [3, 10, 30]},\n",
       "                   random_state=7, return_train_score=True,\n",
       "                   scoring='neg_mean_squared_error')"
      ]
     },
     "execution_count": 73,
     "metadata": {},
     "output_type": "execute_result"
    }
   ],
   "source": [
    "from sklearn.model_selection import RandomizedSearchCV\n",
    "\n",
    "# specify the hyperparameters and their values\n",
    "param_grid = {'n_estimators': [3, 10, 30], 'max_depth': [4, 6, 8, None]}\n",
    "\n",
    "forest_reg = RandomForestRegressor(random_state=7)\n",
    "\n",
    "# we'll use 10-fold cross-validation\n",
    "rand_grid_search = RandomizedSearchCV(forest_reg, param_grid, cv=10, n_iter=6,\n",
    "                                     scoring='neg_mean_squared_error', random_state=7,\n",
    "                                     return_train_score=True)\n",
    "\n",
    "rand_grid_search.fit(Xtrain, ytrain)"
   ]
  },
  {
   "cell_type": "code",
   "execution_count": 74,
   "metadata": {},
   "outputs": [
    {
     "data": {
      "text/plain": [
       "RandomForestRegressor(n_estimators=10, random_state=7)"
      ]
     },
     "execution_count": 74,
     "metadata": {},
     "output_type": "execute_result"
    }
   ],
   "source": [
    "rand_grid_search.best_estimator_"
   ]
  },
  {
   "cell_type": "markdown",
   "metadata": {},
   "source": [
    "it limits the models and controls the computing time by Randomsearchcv. it is similar to gridsearchcv and does the n_iterations and finds the random combiination."
   ]
  },
  {
   "cell_type": "markdown",
   "metadata": {},
   "source": [
    "# Analyze the most promising models"
   ]
  },
  {
   "cell_type": "code",
   "execution_count": 75,
   "metadata": {},
   "outputs": [
    {
     "name": "stdout",
     "output_type": "stream",
     "text": [
      "max_power: 0.6461634913903709\n",
      "vehicle_age: 0.22056896562744038\n",
      "km_driven: 0.04880526953115063\n",
      "engine: 0.047066468168998156\n",
      "mileage: 0.03486017561112071\n",
      "Petrol: 0.0015001461559280317\n",
      "Diesel: 0.001030192138325738\n",
      "LPG: 5.291376665546895e-06\n"
     ]
    }
   ],
   "source": [
    "# put them into a separate variable for convenience\n",
    "feature_importances = grid_search.best_estimator_.feature_importances_\n",
    "for k, v in sorted(zip(feature_importances, Xtrain.columns), reverse=True):\n",
    "    print(f\"{v}: {k}\")"
   ]
  },
  {
   "cell_type": "code",
   "execution_count": 76,
   "metadata": {},
   "outputs": [
    {
     "data": {
      "text/plain": [
       "pandas.core.frame.DataFrame"
      ]
     },
     "execution_count": 76,
     "metadata": {},
     "output_type": "execute_result"
    }
   ],
   "source": [
    "type(Xtrain)"
   ]
  },
  {
   "cell_type": "code",
   "execution_count": 77,
   "metadata": {},
   "outputs": [],
   "source": [
    "forest_reg = RandomForestRegressor(n_estimators=30, max_depth=None)\n",
    "tree_reg.fit(Xtrain.values[:8000,:], ytrain.values[:8000])\n",
    "yhat = tree_reg.predict(Xtrain.values[8000:, :])"
   ]
  },
  {
   "cell_type": "code",
   "execution_count": 78,
   "metadata": {},
   "outputs": [
    {
     "data": {
      "text/plain": [
       "<AxesSubplot:>"
      ]
     },
     "execution_count": 78,
     "metadata": {},
     "output_type": "execute_result"
    },
    {
     "data": {
      "image/png": "[encoded data removed]",
      "text/plain": [
       "<Figure size 864x360 with 1 Axes>"
      ]
     },
     "metadata": {
      "needs_background": "light"
     },
     "output_type": "display_data"
    }
   ],
   "source": [
    "# create a temporary dataframe containing two columns\n",
    "df_tmp = pd.DataFrame({\"ytrain\": ytrain[8000:8000+50], \"yhat\": yhat[:50]})\n",
    "\n",
    "# plot the dataframe\n",
    "df_tmp.plot(figsize=(12,5), kind=\"bar\")"
   ]
  },
  {
   "cell_type": "code",
   "execution_count": 79,
   "metadata": {},
   "outputs": [],
   "source": [
    " #the absolute difference between the prediction and the true value \n",
    "cond_idx = np.abs(ytrain[8000:] - yhat)/ytrain[8000:] > 0.5"
   ]
  },
  {
   "cell_type": "code",
   "execution_count": 80,
   "metadata": {},
   "outputs": [
    {
     "data": {
      "text/plain": [
       "92"
      ]
     },
     "execution_count": 80,
     "metadata": {},
     "output_type": "execute_result"
    }
   ],
   "source": [
    "#number of such cases\n",
    "cond_idx.sum()"
   ]
  },
  {
   "cell_type": "code",
   "execution_count": 81,
   "metadata": {},
   "outputs": [
    {
     "data": {
      "text/html": [
       "<div>\n",
       "<style scoped>\n",
       "    .dataframe tbody tr th:only-of-type {\n",
       "        vertical-align: middle;\n",
       "    }\n",
       "\n",
       "    .dataframe tbody tr th {\n",
       "        vertical-align: top;\n",
       "    }\n",
       "\n",
       "    .dataframe thead th {\n",
       "        text-align: right;\n",
       "    }\n",
       "</style>\n",
       "<table border=\"1\" class=\"dataframe\">\n",
       "  <thead>\n",
       "    <tr style=\"text-align: right;\">\n",
       "      <th></th>\n",
       "      <th>vehicle_age</th>\n",
       "      <th>km_driven</th>\n",
       "      <th>mileage</th>\n",
       "      <th>engine</th>\n",
       "      <th>max_power</th>\n",
       "      <th>Diesel</th>\n",
       "      <th>LPG</th>\n",
       "      <th>Petrol</th>\n",
       "      <th>selling_price</th>\n",
       "    </tr>\n",
       "  </thead>\n",
       "  <tbody>\n",
       "    <tr>\n",
       "      <th>8023</th>\n",
       "      <td>0.724059</td>\n",
       "      <td>0.997873</td>\n",
       "      <td>-0.200284</td>\n",
       "      <td>0.361275</td>\n",
       "      <td>-0.792949</td>\n",
       "      <td>1.242504</td>\n",
       "      <td>-0.060837</td>\n",
       "      <td>-1.175631</td>\n",
       "      <td>245000</td>\n",
       "    </tr>\n",
       "    <tr>\n",
       "      <th>8035</th>\n",
       "      <td>2.079698</td>\n",
       "      <td>1.141356</td>\n",
       "      <td>-0.786165</td>\n",
       "      <td>-0.797660</td>\n",
       "      <td>-1.002307</td>\n",
       "      <td>-0.804826</td>\n",
       "      <td>-0.060837</td>\n",
       "      <td>0.850607</td>\n",
       "      <td>125000</td>\n",
       "    </tr>\n",
       "    <tr>\n",
       "      <th>8044</th>\n",
       "      <td>0.385150</td>\n",
       "      <td>0.847709</td>\n",
       "      <td>0.453199</td>\n",
       "      <td>1.038863</td>\n",
       "      <td>1.257349</td>\n",
       "      <td>1.242504</td>\n",
       "      <td>-0.060837</td>\n",
       "      <td>-1.175631</td>\n",
       "      <td>475000</td>\n",
       "    </tr>\n",
       "    <tr>\n",
       "      <th>8060</th>\n",
       "      <td>3.435336</td>\n",
       "      <td>0.407240</td>\n",
       "      <td>-2.171999</td>\n",
       "      <td>0.709325</td>\n",
       "      <td>0.331249</td>\n",
       "      <td>-0.804826</td>\n",
       "      <td>-0.060837</td>\n",
       "      <td>0.850607</td>\n",
       "      <td>225000</td>\n",
       "    </tr>\n",
       "    <tr>\n",
       "      <th>8071</th>\n",
       "      <td>1.740788</td>\n",
       "      <td>0.590769</td>\n",
       "      <td>-0.510125</td>\n",
       "      <td>-1.123495</td>\n",
       "      <td>-0.826376</td>\n",
       "      <td>-0.804826</td>\n",
       "      <td>-0.060837</td>\n",
       "      <td>0.850607</td>\n",
       "      <td>110000</td>\n",
       "    </tr>\n",
       "    <tr>\n",
       "      <th>...</th>\n",
       "      <td>...</td>\n",
       "      <td>...</td>\n",
       "      <td>...</td>\n",
       "      <td>...</td>\n",
       "      <td>...</td>\n",
       "      <td>...</td>\n",
       "      <td>...</td>\n",
       "      <td>...</td>\n",
       "      <td>...</td>\n",
       "    </tr>\n",
       "    <tr>\n",
       "      <th>10175</th>\n",
       "      <td>1.401879</td>\n",
       "      <td>0.847709</td>\n",
       "      <td>-1.307261</td>\n",
       "      <td>2.568064</td>\n",
       "      <td>3.181328</td>\n",
       "      <td>1.242504</td>\n",
       "      <td>-0.060837</td>\n",
       "      <td>-1.175631</td>\n",
       "      <td>610000</td>\n",
       "    </tr>\n",
       "    <tr>\n",
       "      <th>10202</th>\n",
       "      <td>-1.648307</td>\n",
       "      <td>1.000589</td>\n",
       "      <td>-0.397455</td>\n",
       "      <td>-0.197828</td>\n",
       "      <td>-0.587110</td>\n",
       "      <td>1.242504</td>\n",
       "      <td>-0.060837</td>\n",
       "      <td>-1.175631</td>\n",
       "      <td>350000</td>\n",
       "    </tr>\n",
       "    <tr>\n",
       "      <th>10206</th>\n",
       "      <td>-0.970488</td>\n",
       "      <td>-0.693933</td>\n",
       "      <td>-0.991786</td>\n",
       "      <td>-0.386664</td>\n",
       "      <td>-0.307028</td>\n",
       "      <td>-0.804826</td>\n",
       "      <td>-0.060837</td>\n",
       "      <td>0.850607</td>\n",
       "      <td>550000</td>\n",
       "    </tr>\n",
       "    <tr>\n",
       "      <th>10226</th>\n",
       "      <td>1.401879</td>\n",
       "      <td>2.169117</td>\n",
       "      <td>0.557418</td>\n",
       "      <td>2.568064</td>\n",
       "      <td>3.498004</td>\n",
       "      <td>1.242504</td>\n",
       "      <td>-0.060837</td>\n",
       "      <td>-1.175631</td>\n",
       "      <td>550000</td>\n",
       "    </tr>\n",
       "    <tr>\n",
       "      <th>10229</th>\n",
       "      <td>0.724059</td>\n",
       "      <td>2.242529</td>\n",
       "      <td>-1.042488</td>\n",
       "      <td>1.072187</td>\n",
       "      <td>1.080714</td>\n",
       "      <td>-0.804826</td>\n",
       "      <td>-0.060837</td>\n",
       "      <td>0.850607</td>\n",
       "      <td>370000</td>\n",
       "    </tr>\n",
       "  </tbody>\n",
       "</table>\n",
       "<p>92 rows × 9 columns</p>\n",
       "</div>"
      ],
      "text/plain": [
       "       vehicle_age  km_driven   mileage    engine  max_power    Diesel  \\\n",
       "8023      0.724059   0.997873 -0.200284  0.361275  -0.792949  1.242504   \n",
       "8035      2.079698   1.141356 -0.786165 -0.797660  -1.002307 -0.804826   \n",
       "8044      0.385150   0.847709  0.453199  1.038863   1.257349  1.242504   \n",
       "8060      3.435336   0.407240 -2.171999  0.709325   0.331249 -0.804826   \n",
       "8071      1.740788   0.590769 -0.510125 -1.123495  -0.826376 -0.804826   \n",
       "...            ...        ...       ...       ...        ...       ...   \n",
       "10175     1.401879   0.847709 -1.307261  2.568064   3.181328  1.242504   \n",
       "10202    -1.648307   1.000589 -0.397455 -0.197828  -0.587110  1.242504   \n",
       "10206    -0.970488  -0.693933 -0.991786 -0.386664  -0.307028 -0.804826   \n",
       "10226     1.401879   2.169117  0.557418  2.568064   3.498004  1.242504   \n",
       "10229     0.724059   2.242529 -1.042488  1.072187   1.080714 -0.804826   \n",
       "\n",
       "            LPG    Petrol  selling_price  \n",
       "8023  -0.060837 -1.175631         245000  \n",
       "8035  -0.060837  0.850607         125000  \n",
       "8044  -0.060837 -1.175631         475000  \n",
       "8060  -0.060837  0.850607         225000  \n",
       "8071  -0.060837  0.850607         110000  \n",
       "...         ...       ...            ...  \n",
       "10175 -0.060837 -1.175631         610000  \n",
       "10202 -0.060837 -1.175631         350000  \n",
       "10206 -0.060837  0.850607         550000  \n",
       "10226 -0.060837 -1.175631         550000  \n",
       "10229 -0.060837  0.850607         370000  \n",
       "\n",
       "[92 rows x 9 columns]"
      ]
     },
     "execution_count": 81,
     "metadata": {},
     "output_type": "execute_result"
    }
   ],
   "source": [
    "#print\n",
    "trainset[8000:][cond_idx]"
   ]
  },
  {
   "cell_type": "markdown",
   "metadata": {},
   "source": [
    "# Evaluate on the test set"
   ]
  },
  {
   "cell_type": "code",
   "execution_count": 82,
   "metadata": {},
   "outputs": [
    {
     "data": {
      "text/plain": [
       "831667.3639664055"
      ]
     },
     "execution_count": 82,
     "metadata": {},
     "output_type": "execute_result"
    }
   ],
   "source": [
    "Xtest = testset.drop(\"selling_price\", axis=1)\n",
    "ytest = testset[\"selling_price\"].copy()\n",
    "\n",
    "best_model = grid_search.best_estimator_\n",
    "\n",
    "yhat = best_model.predict(Xtest)\n",
    "\n",
    "final_mse = mean_squared_error(ytest, yhat)\n",
    "final_rmse = np.sqrt(final_mse)\n",
    "final_rmse"
   ]
  },
  {
   "cell_type": "code",
   "execution_count": 83,
   "metadata": {},
   "outputs": [
    {
     "data": {
      "text/plain": [
       "<AxesSubplot:>"
      ]
     },
     "execution_count": 83,
     "metadata": {},
     "output_type": "execute_result"
    },
    {
     "data": {
      "image/png": "[encoded data removed]",
      "text/plain": [
       "<Figure size 864x360 with 1 Axes>"
      ]
     },
     "metadata": {
      "needs_background": "light"
     },
     "output_type": "display_data"
    }
   ],
   "source": [
    "#the performance of the testset is better than the perfomance of the training set\n",
    "df_tmp = pd.DataFrame({\"ytest\": ytest[:50], \"yhat\": yhat[:50]})\n",
    "\n",
    "# plot the dataframe\n",
    "df_tmp.plot(figsize=(12,5), kind=\"bar\", rot=0)"
   ]
  },
  {
   "cell_type": "markdown",
   "metadata": {},
   "source": []
  }
 ],
 "metadata": {
  "kernelspec": {
   "display_name": "Python 3 (ipykernel)",
   "language": "python",
   "name": "python3"
  },
  "language_info": {
   "codemirror_mode": {
    "name": "ipython",
    "version": 3
   },
   "file_extension": ".py",
   "mimetype": "text/x-python",
   "name": "python",
   "nbconvert_exporter": "python",
   "pygments_lexer": "ipython3",
   "version": "3.9.7"
  },
  "toc": {
   "base_numbering": 1,
   "nav_menu": {
    "height": "388px",
    "width": "732px"
   },
   "number_sections": true,
   "sideBar": true,
   "skip_h1_title": false,
   "title_cell": "Table of Contents",
   "title_sidebar": "Contents",
   "toc_cell": false,
   "toc_position": {
    "height": "calc(100% - 180px)",
    "left": "10px",
    "top": "150px",
    "width": "166px"
   },
   "toc_section_display": true,
   "toc_window_display": true
  }
 },
 "nbformat": 4,
 "nbformat_minor": 4
}
