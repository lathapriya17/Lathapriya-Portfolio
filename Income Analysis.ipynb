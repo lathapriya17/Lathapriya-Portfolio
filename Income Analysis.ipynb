{
 "cells": [
  {
   "cell_type": "markdown",
   "metadata": {},
   "source": [
    "##SOFTWARE ANALYTICS (BNM864J) FINAL ASSIGNMENT \n",
    "##CANDIDATE NUMBER : 644090"
   ]
  },
  {
   "cell_type": "markdown",
   "metadata": {},
   "source": [
    "Datasets\n",
    "You can choose one of three datasets for analysis:\n",
    "(1) Loan applications:  loanapp.csv  . The dataset contains data on loan applications to a bank, including various types of information on the applicant and the purpose of the loan, along with the eventual loan decision (approve or reject - see the column loan_decision). A detailed description of the columns can be found here   here .\n",
    "(2) Major League Baseball:  mlb.csv  . Data on salaries and other information (such as race, position and performance information) on baseball players in MLB in 1993.  A detailed description of the columns can be found   here .\n",
    "(3) Wages:  wage.csv . Data on employees, such as their hourly wage, gender, race, marital status, etc.  A  detailed description of the columns can be found  here .\n",
    "The source for all the three datasets is a  companion page for Woolridge J. (2013). Introductory Econometrics: A Modern Approach.\n",
    "Format of submission\n",
    "You are free to choose a programming language to use for the assignment- either Python or R. You can also use Excel, however, do note that many types of the expected analysis are not directly available in Excel and you will need to do quite a lot of manual manipulation of the data if you do use Excel. You can prepare your project in the form of a Jupyter notebook (Python), RMarkdown notebook (R) or an Excel file.   With any of the three options, the final submission should be converted to a PDF file (when using Excel you may consider inserting relevant tables and plots into a MS Word document and before converting it to PDF). \n",
    "Steps of the EDA\n",
    "The EDA project will need to include as many as possible of, but not limited to, the following steps:\n",
    "1. Load a dataset from a CSV file\n",
    "2. Display descriptive statistics about the dataset\n",
    "3. Build a graph visualizing (some of) the numerical variables of the dataset\n",
    "4. Check if any records in the data have any missing values; handle the missing data as appropriate (interpolate missing values, delete records with missing values, etc).\n",
    "5. Display the distribution of (some of) numerical variables as histograms. Provide verbal comments on the graph.\n",
    "6. Display unique values of a categorical variable.\n",
    "7. Build a contingency table of two potentially related categorical variables. Conduct a statistical test of the independence between the variables. Provide verbal comments on the output.\n",
    "8. Retrieve a subset of the data based on two or more criteria and present descriptive statistics on the subset. Provide verbal comments on the output.\n",
    "9. Conduct a statistical test of the significance of the difference between the means of two subsets of the data. Provide verbal comments.\n",
    "10. Create pivot tables, i.e., create a table that groups the data by a certain categorical variable and displays summaries for each categorical variable. Provide verbal comments.\n",
    "11. Implement a linear regression model and interpret its output.\n",
    "Each step of the analysis should be documented with comments, describing what the step is meant to achieve, and interpreting the result of the step. If the result of the step is a graph, interpret the graph in the comments below the graph. \n",
    "Before you start to work on this assignment, please familiarise yourself with the detailed evaluation criteria for this assignment by studying the assessment brief (see above)."
   ]
  },
  {
   "cell_type": "markdown",
   "metadata": {},
   "source": [
    "Here I have chosen Major League Baseball data set and analysed the salary of the playes for the number of years they played and number of games they played."
   ]
  },
  {
   "cell_type": "markdown",
   "metadata": {},
   "source": [
    "All the required Libraries are are imported of the data analysis and for the visualization. "
   ]
  },
  {
   "cell_type": "code",
   "execution_count": 1,
   "metadata": {},
   "outputs": [],
   "source": [
    "import math\n",
    "import statistics\n",
    "import numpy as np\n",
    "import scipy as stats\n",
    "import pandas as pd\n",
    "import matplotlib.pyplot as plt\n",
    "import seaborn as sns\n",
    "from scipy import stats\n",
    "import statsmodels.api as sm\n",
    "import scipy.integrate\n",
    "from scipy.stats import ttest_ind"
   ]
  },
  {
   "cell_type": "markdown",
   "metadata": {},
   "source": [
    "The first step is to load the data set from the csv file."
   ]
  },
  {
   "cell_type": "code",
   "execution_count": 2,
   "metadata": {},
   "outputs": [
    {
     "data": {
      "text/html": [
       "<div>\n",
       "<style scoped>\n",
       "    .dataframe tbody tr th:only-of-type {\n",
       "        vertical-align: middle;\n",
       "    }\n",
       "\n",
       "    .dataframe tbody tr th {\n",
       "        vertical-align: top;\n",
       "    }\n",
       "\n",
       "    .dataframe thead th {\n",
       "        text-align: right;\n",
       "    }\n",
       "</style>\n",
       "<table border=\"1\" class=\"dataframe\">\n",
       "  <thead>\n",
       "    <tr style=\"text-align: right;\">\n",
       "      <th></th>\n",
       "      <th>salary</th>\n",
       "      <th>player_position</th>\n",
       "      <th>race</th>\n",
       "      <th>team_payroll</th>\n",
       "      <th>years_played</th>\n",
       "      <th>games_played</th>\n",
       "      <th>career_at_bats</th>\n",
       "      <th>career_runs</th>\n",
       "      <th>career_hits</th>\n",
       "      <th>career_doubles</th>\n",
       "      <th>...</th>\n",
       "      <th>career_homeruns</th>\n",
       "      <th>career_runs_batted_in</th>\n",
       "      <th>career_batting_average</th>\n",
       "      <th>career_walks</th>\n",
       "      <th>career_strike_outs</th>\n",
       "      <th>career_stolen_bases</th>\n",
       "      <th>career_fielding_percent</th>\n",
       "      <th>white_percent_in_city</th>\n",
       "      <th>black_percent_in_city</th>\n",
       "      <th>hispanic_percent_in_city</th>\n",
       "    </tr>\n",
       "  </thead>\n",
       "  <tbody>\n",
       "    <tr>\n",
       "      <th>0</th>\n",
       "      <td>3375000</td>\n",
       "      <td>shortstop</td>\n",
       "      <td>black</td>\n",
       "      <td>38407380</td>\n",
       "      <td>8</td>\n",
       "      <td>918</td>\n",
       "      <td>3333</td>\n",
       "      <td>407</td>\n",
       "      <td>863</td>\n",
       "      <td>156</td>\n",
       "      <td>...</td>\n",
       "      <td>73</td>\n",
       "      <td>342</td>\n",
       "      <td>259</td>\n",
       "      <td>137</td>\n",
       "      <td>582</td>\n",
       "      <td>133</td>\n",
       "      <td>968</td>\n",
       "      <td>70.27797</td>\n",
       "      <td>18.84423</td>\n",
       "      <td>10.8778</td>\n",
       "    </tr>\n",
       "    <tr>\n",
       "      <th>1</th>\n",
       "      <td>3100000</td>\n",
       "      <td>firstbase</td>\n",
       "      <td>white</td>\n",
       "      <td>38407380</td>\n",
       "      <td>5</td>\n",
       "      <td>751</td>\n",
       "      <td>2807</td>\n",
       "      <td>370</td>\n",
       "      <td>840</td>\n",
       "      <td>148</td>\n",
       "      <td>...</td>\n",
       "      <td>46</td>\n",
       "      <td>355</td>\n",
       "      <td>299</td>\n",
       "      <td>341</td>\n",
       "      <td>228</td>\n",
       "      <td>41</td>\n",
       "      <td>994</td>\n",
       "      <td>70.27797</td>\n",
       "      <td>18.84423</td>\n",
       "      <td>10.8778</td>\n",
       "    </tr>\n",
       "    <tr>\n",
       "      <th>2</th>\n",
       "      <td>2900000</td>\n",
       "      <td>thirdbase</td>\n",
       "      <td>white</td>\n",
       "      <td>38407380</td>\n",
       "      <td>8</td>\n",
       "      <td>1056</td>\n",
       "      <td>3337</td>\n",
       "      <td>405</td>\n",
       "      <td>816</td>\n",
       "      <td>143</td>\n",
       "      <td>...</td>\n",
       "      <td>107</td>\n",
       "      <td>421</td>\n",
       "      <td>245</td>\n",
       "      <td>306</td>\n",
       "      <td>653</td>\n",
       "      <td>15</td>\n",
       "      <td>971</td>\n",
       "      <td>70.27797</td>\n",
       "      <td>18.84423</td>\n",
       "      <td>10.8778</td>\n",
       "    </tr>\n",
       "    <tr>\n",
       "      <th>3</th>\n",
       "      <td>1650000</td>\n",
       "      <td>outfield</td>\n",
       "      <td>black</td>\n",
       "      <td>38407380</td>\n",
       "      <td>12</td>\n",
       "      <td>1196</td>\n",
       "      <td>3603</td>\n",
       "      <td>437</td>\n",
       "      <td>928</td>\n",
       "      <td>19</td>\n",
       "      <td>...</td>\n",
       "      <td>124</td>\n",
       "      <td>541</td>\n",
       "      <td>258</td>\n",
       "      <td>316</td>\n",
       "      <td>725</td>\n",
       "      <td>32</td>\n",
       "      <td>977</td>\n",
       "      <td>70.27797</td>\n",
       "      <td>18.84423</td>\n",
       "      <td>10.8778</td>\n",
       "    </tr>\n",
       "    <tr>\n",
       "      <th>4</th>\n",
       "      <td>700000</td>\n",
       "      <td>outfield</td>\n",
       "      <td>black</td>\n",
       "      <td>38407380</td>\n",
       "      <td>17</td>\n",
       "      <td>2032</td>\n",
       "      <td>7489</td>\n",
       "      <td>1136</td>\n",
       "      <td>2145</td>\n",
       "      <td>270</td>\n",
       "      <td>...</td>\n",
       "      <td>40</td>\n",
       "      <td>574</td>\n",
       "      <td>286</td>\n",
       "      <td>416</td>\n",
       "      <td>1098</td>\n",
       "      <td>660</td>\n",
       "      <td>987</td>\n",
       "      <td>70.27797</td>\n",
       "      <td>18.84423</td>\n",
       "      <td>10.8778</td>\n",
       "    </tr>\n",
       "  </tbody>\n",
       "</table>\n",
       "<p>5 rows × 21 columns</p>\n",
       "</div>"
      ],
      "text/plain": [
       "    salary player_position   race  team_payroll  years_played  games_played  \\\n",
       "0  3375000       shortstop  black      38407380             8           918   \n",
       "1  3100000       firstbase  white      38407380             5           751   \n",
       "2  2900000       thirdbase  white      38407380             8          1056   \n",
       "3  1650000        outfield  black      38407380            12          1196   \n",
       "4   700000        outfield  black      38407380            17          2032   \n",
       "\n",
       "   career_at_bats  career_runs  career_hits  career_doubles  ...  \\\n",
       "0            3333          407          863             156  ...   \n",
       "1            2807          370          840             148  ...   \n",
       "2            3337          405          816             143  ...   \n",
       "3            3603          437          928              19  ...   \n",
       "4            7489         1136         2145             270  ...   \n",
       "\n",
       "   career_homeruns  career_runs_batted_in  career_batting_average  \\\n",
       "0               73                    342                     259   \n",
       "1               46                    355                     299   \n",
       "2              107                    421                     245   \n",
       "3              124                    541                     258   \n",
       "4               40                    574                     286   \n",
       "\n",
       "   career_walks  career_strike_outs  career_stolen_bases  \\\n",
       "0           137                 582                  133   \n",
       "1           341                 228                   41   \n",
       "2           306                 653                   15   \n",
       "3           316                 725                   32   \n",
       "4           416                1098                  660   \n",
       "\n",
       "   career_fielding_percent  white_percent_in_city  black_percent_in_city  \\\n",
       "0                      968               70.27797               18.84423   \n",
       "1                      994               70.27797               18.84423   \n",
       "2                      971               70.27797               18.84423   \n",
       "3                      977               70.27797               18.84423   \n",
       "4                      987               70.27797               18.84423   \n",
       "\n",
       "   hispanic_percent_in_city  \n",
       "0                   10.8778  \n",
       "1                   10.8778  \n",
       "2                   10.8778  \n",
       "3                   10.8778  \n",
       "4                   10.8778  \n",
       "\n",
       "[5 rows x 21 columns]"
      ]
     },
     "execution_count": 2,
     "metadata": {},
     "output_type": "execute_result"
    }
   ],
   "source": [
    "df = pd.read_csv(r\"C:\\Users\\Lathapriya\\Documents\\BNM864J-Software Analytics\\mlb.csv\")\n",
    "df.head(5)"
   ]
  },
  {
   "cell_type": "markdown",
   "metadata": {},
   "source": [
    "Here we can see the last five rows of the data set. "
   ]
  },
  {
   "cell_type": "code",
   "execution_count": 3,
   "metadata": {},
   "outputs": [
    {
     "data": {
      "text/html": [
       "<div>\n",
       "<style scoped>\n",
       "    .dataframe tbody tr th:only-of-type {\n",
       "        vertical-align: middle;\n",
       "    }\n",
       "\n",
       "    .dataframe tbody tr th {\n",
       "        vertical-align: top;\n",
       "    }\n",
       "\n",
       "    .dataframe thead th {\n",
       "        text-align: right;\n",
       "    }\n",
       "</style>\n",
       "<table border=\"1\" class=\"dataframe\">\n",
       "  <thead>\n",
       "    <tr style=\"text-align: right;\">\n",
       "      <th></th>\n",
       "      <th>salary</th>\n",
       "      <th>player_position</th>\n",
       "      <th>race</th>\n",
       "      <th>team_payroll</th>\n",
       "      <th>years_played</th>\n",
       "      <th>games_played</th>\n",
       "      <th>career_at_bats</th>\n",
       "      <th>career_runs</th>\n",
       "      <th>career_hits</th>\n",
       "      <th>career_doubles</th>\n",
       "      <th>...</th>\n",
       "      <th>career_homeruns</th>\n",
       "      <th>career_runs_batted_in</th>\n",
       "      <th>career_batting_average</th>\n",
       "      <th>career_walks</th>\n",
       "      <th>career_strike_outs</th>\n",
       "      <th>career_stolen_bases</th>\n",
       "      <th>career_fielding_percent</th>\n",
       "      <th>white_percent_in_city</th>\n",
       "      <th>black_percent_in_city</th>\n",
       "      <th>hispanic_percent_in_city</th>\n",
       "    </tr>\n",
       "  </thead>\n",
       "  <tbody>\n",
       "    <tr>\n",
       "      <th>347</th>\n",
       "      <td>312000</td>\n",
       "      <td>shortstop</td>\n",
       "      <td>white</td>\n",
       "      <td>35586456</td>\n",
       "      <td>5</td>\n",
       "      <td>439</td>\n",
       "      <td>1098</td>\n",
       "      <td>150</td>\n",
       "      <td>260</td>\n",
       "      <td>41</td>\n",
       "      <td>...</td>\n",
       "      <td>6</td>\n",
       "      <td>83</td>\n",
       "      <td>237</td>\n",
       "      <td>136</td>\n",
       "      <td>138</td>\n",
       "      <td>43</td>\n",
       "      <td>964</td>\n",
       "      <td>73.14964</td>\n",
       "      <td>13.87162</td>\n",
       "      <td>12.97875</td>\n",
       "    </tr>\n",
       "    <tr>\n",
       "      <th>348</th>\n",
       "      <td>275000</td>\n",
       "      <td>catcher</td>\n",
       "      <td>hispanic</td>\n",
       "      <td>35586456</td>\n",
       "      <td>2</td>\n",
       "      <td>211</td>\n",
       "      <td>700</td>\n",
       "      <td>63</td>\n",
       "      <td>183</td>\n",
       "      <td>32</td>\n",
       "      <td>...</td>\n",
       "      <td>11</td>\n",
       "      <td>64</td>\n",
       "      <td>261</td>\n",
       "      <td>29</td>\n",
       "      <td>115</td>\n",
       "      <td>0</td>\n",
       "      <td>983</td>\n",
       "      <td>73.14964</td>\n",
       "      <td>13.87162</td>\n",
       "      <td>12.97875</td>\n",
       "    </tr>\n",
       "    <tr>\n",
       "      <th>349</th>\n",
       "      <td>250000</td>\n",
       "      <td>thirdbase</td>\n",
       "      <td>white</td>\n",
       "      <td>35586456</td>\n",
       "      <td>3</td>\n",
       "      <td>249</td>\n",
       "      <td>828</td>\n",
       "      <td>112</td>\n",
       "      <td>176</td>\n",
       "      <td>36</td>\n",
       "      <td>...</td>\n",
       "      <td>41</td>\n",
       "      <td>110</td>\n",
       "      <td>213</td>\n",
       "      <td>94</td>\n",
       "      <td>264</td>\n",
       "      <td>10</td>\n",
       "      <td>941</td>\n",
       "      <td>73.14964</td>\n",
       "      <td>13.87162</td>\n",
       "      <td>12.97875</td>\n",
       "    </tr>\n",
       "    <tr>\n",
       "      <th>350</th>\n",
       "      <td>200000</td>\n",
       "      <td>secondbase</td>\n",
       "      <td>white</td>\n",
       "      <td>35586456</td>\n",
       "      <td>6</td>\n",
       "      <td>667</td>\n",
       "      <td>2087</td>\n",
       "      <td>217</td>\n",
       "      <td>510</td>\n",
       "      <td>92</td>\n",
       "      <td>...</td>\n",
       "      <td>13</td>\n",
       "      <td>168</td>\n",
       "      <td>244</td>\n",
       "      <td>137</td>\n",
       "      <td>239</td>\n",
       "      <td>20</td>\n",
       "      <td>987</td>\n",
       "      <td>73.14964</td>\n",
       "      <td>13.87162</td>\n",
       "      <td>12.97875</td>\n",
       "    </tr>\n",
       "    <tr>\n",
       "      <th>351</th>\n",
       "      <td>109000</td>\n",
       "      <td>outfield</td>\n",
       "      <td>white</td>\n",
       "      <td>35586456</td>\n",
       "      <td>1</td>\n",
       "      <td>12</td>\n",
       "      <td>24</td>\n",
       "      <td>1</td>\n",
       "      <td>4</td>\n",
       "      <td>0</td>\n",
       "      <td>...</td>\n",
       "      <td>0</td>\n",
       "      <td>2</td>\n",
       "      <td>167</td>\n",
       "      <td>0</td>\n",
       "      <td>3</td>\n",
       "      <td>0</td>\n",
       "      <td>857</td>\n",
       "      <td>73.14964</td>\n",
       "      <td>13.87162</td>\n",
       "      <td>12.97875</td>\n",
       "    </tr>\n",
       "  </tbody>\n",
       "</table>\n",
       "<p>5 rows × 21 columns</p>\n",
       "</div>"
      ],
      "text/plain": [
       "     salary player_position      race  team_payroll  years_played  \\\n",
       "347  312000       shortstop     white      35586456             5   \n",
       "348  275000         catcher  hispanic      35586456             2   \n",
       "349  250000       thirdbase     white      35586456             3   \n",
       "350  200000      secondbase     white      35586456             6   \n",
       "351  109000        outfield     white      35586456             1   \n",
       "\n",
       "     games_played  career_at_bats  career_runs  career_hits  career_doubles  \\\n",
       "347           439            1098          150          260              41   \n",
       "348           211             700           63          183              32   \n",
       "349           249             828          112          176              36   \n",
       "350           667            2087          217          510              92   \n",
       "351            12              24            1            4               0   \n",
       "\n",
       "     ...  career_homeruns  career_runs_batted_in  career_batting_average  \\\n",
       "347  ...                6                     83                     237   \n",
       "348  ...               11                     64                     261   \n",
       "349  ...               41                    110                     213   \n",
       "350  ...               13                    168                     244   \n",
       "351  ...                0                      2                     167   \n",
       "\n",
       "     career_walks  career_strike_outs  career_stolen_bases  \\\n",
       "347           136                 138                   43   \n",
       "348            29                 115                    0   \n",
       "349            94                 264                   10   \n",
       "350           137                 239                   20   \n",
       "351             0                   3                    0   \n",
       "\n",
       "     career_fielding_percent  white_percent_in_city  black_percent_in_city  \\\n",
       "347                      964               73.14964               13.87162   \n",
       "348                      983               73.14964               13.87162   \n",
       "349                      941               73.14964               13.87162   \n",
       "350                      987               73.14964               13.87162   \n",
       "351                      857               73.14964               13.87162   \n",
       "\n",
       "     hispanic_percent_in_city  \n",
       "347                  12.97875  \n",
       "348                  12.97875  \n",
       "349                  12.97875  \n",
       "350                  12.97875  \n",
       "351                  12.97875  \n",
       "\n",
       "[5 rows x 21 columns]"
      ]
     },
     "execution_count": 3,
     "metadata": {},
     "output_type": "execute_result"
    }
   ],
   "source": [
    "df.tail()"
   ]
  },
  {
   "cell_type": "code",
   "execution_count": 48,
   "metadata": {},
   "outputs": [
    {
     "name": "stdout",
     "output_type": "stream",
     "text": [
      "Index(['salary', 'player_position', 'race', 'team_payroll', 'years_played',\n",
      "       'games_played', 'career_at_bats', 'career_runs', 'career_hits',\n",
      "       'career_doubles', 'career_triples', 'career_homeruns',\n",
      "       'career_runs_batted_in', 'career_batting_average', 'career_walks',\n",
      "       'career_strike_outs', 'career_stolen_bases', 'career_fielding_percent',\n",
      "       'white_percent_in_city', 'black_percent_in_city',\n",
      "       'hispanic_percent_in_city'],\n",
      "      dtype='object')\n"
     ]
    }
   ],
   "source": [
    "print(df.columns)"
   ]
  },
  {
   "cell_type": "markdown",
   "metadata": {},
   "source": [
    "The shape of the data set can be viewed which includes the label column."
   ]
  },
  {
   "cell_type": "code",
   "execution_count": 4,
   "metadata": {},
   "outputs": [
    {
     "data": {
      "text/plain": [
       "(352, 21)"
      ]
     },
     "execution_count": 4,
     "metadata": {},
     "output_type": "execute_result"
    }
   ],
   "source": [
    "df.shape"
   ]
  },
  {
   "cell_type": "markdown",
   "metadata": {},
   "source": [
    "The data is described and we can see the unavilable value in the data set."
   ]
  },
  {
   "cell_type": "code",
   "execution_count": 5,
   "metadata": {},
   "outputs": [
    {
     "data": {
      "text/html": [
       "<div>\n",
       "<style scoped>\n",
       "    .dataframe tbody tr th:only-of-type {\n",
       "        vertical-align: middle;\n",
       "    }\n",
       "\n",
       "    .dataframe tbody tr th {\n",
       "        vertical-align: top;\n",
       "    }\n",
       "\n",
       "    .dataframe thead th {\n",
       "        text-align: right;\n",
       "    }\n",
       "</style>\n",
       "<table border=\"1\" class=\"dataframe\">\n",
       "  <thead>\n",
       "    <tr style=\"text-align: right;\">\n",
       "      <th></th>\n",
       "      <th>salary</th>\n",
       "      <th>player_position</th>\n",
       "      <th>race</th>\n",
       "      <th>team_payroll</th>\n",
       "      <th>years_played</th>\n",
       "      <th>games_played</th>\n",
       "      <th>career_at_bats</th>\n",
       "      <th>career_runs</th>\n",
       "      <th>career_hits</th>\n",
       "      <th>career_doubles</th>\n",
       "      <th>...</th>\n",
       "      <th>career_homeruns</th>\n",
       "      <th>career_runs_batted_in</th>\n",
       "      <th>career_batting_average</th>\n",
       "      <th>career_walks</th>\n",
       "      <th>career_strike_outs</th>\n",
       "      <th>career_stolen_bases</th>\n",
       "      <th>career_fielding_percent</th>\n",
       "      <th>white_percent_in_city</th>\n",
       "      <th>black_percent_in_city</th>\n",
       "      <th>hispanic_percent_in_city</th>\n",
       "    </tr>\n",
       "  </thead>\n",
       "  <tbody>\n",
       "    <tr>\n",
       "      <th>count</th>\n",
       "      <td>3.520000e+02</td>\n",
       "      <td>352</td>\n",
       "      <td>352</td>\n",
       "      <td>3.520000e+02</td>\n",
       "      <td>352.000000</td>\n",
       "      <td>352.000000</td>\n",
       "      <td>352.000000</td>\n",
       "      <td>352.000000</td>\n",
       "      <td>352.000000</td>\n",
       "      <td>352.000000</td>\n",
       "      <td>...</td>\n",
       "      <td>352.000000</td>\n",
       "      <td>352.000000</td>\n",
       "      <td>352.000000</td>\n",
       "      <td>352.000000</td>\n",
       "      <td>352.000000</td>\n",
       "      <td>352.000000</td>\n",
       "      <td>352.000000</td>\n",
       "      <td>329.000000</td>\n",
       "      <td>329.000000</td>\n",
       "      <td>329.000000</td>\n",
       "    </tr>\n",
       "    <tr>\n",
       "      <th>unique</th>\n",
       "      <td>NaN</td>\n",
       "      <td>6</td>\n",
       "      <td>3</td>\n",
       "      <td>NaN</td>\n",
       "      <td>NaN</td>\n",
       "      <td>NaN</td>\n",
       "      <td>NaN</td>\n",
       "      <td>NaN</td>\n",
       "      <td>NaN</td>\n",
       "      <td>NaN</td>\n",
       "      <td>...</td>\n",
       "      <td>NaN</td>\n",
       "      <td>NaN</td>\n",
       "      <td>NaN</td>\n",
       "      <td>NaN</td>\n",
       "      <td>NaN</td>\n",
       "      <td>NaN</td>\n",
       "      <td>NaN</td>\n",
       "      <td>NaN</td>\n",
       "      <td>NaN</td>\n",
       "      <td>NaN</td>\n",
       "    </tr>\n",
       "    <tr>\n",
       "      <th>top</th>\n",
       "      <td>NaN</td>\n",
       "      <td>outfield</td>\n",
       "      <td>white</td>\n",
       "      <td>NaN</td>\n",
       "      <td>NaN</td>\n",
       "      <td>NaN</td>\n",
       "      <td>NaN</td>\n",
       "      <td>NaN</td>\n",
       "      <td>NaN</td>\n",
       "      <td>NaN</td>\n",
       "      <td>...</td>\n",
       "      <td>NaN</td>\n",
       "      <td>NaN</td>\n",
       "      <td>NaN</td>\n",
       "      <td>NaN</td>\n",
       "      <td>NaN</td>\n",
       "      <td>NaN</td>\n",
       "      <td>NaN</td>\n",
       "      <td>NaN</td>\n",
       "      <td>NaN</td>\n",
       "      <td>NaN</td>\n",
       "    </tr>\n",
       "    <tr>\n",
       "      <th>freq</th>\n",
       "      <td>NaN</td>\n",
       "      <td>136</td>\n",
       "      <td>180</td>\n",
       "      <td>NaN</td>\n",
       "      <td>NaN</td>\n",
       "      <td>NaN</td>\n",
       "      <td>NaN</td>\n",
       "      <td>NaN</td>\n",
       "      <td>NaN</td>\n",
       "      <td>NaN</td>\n",
       "      <td>...</td>\n",
       "      <td>NaN</td>\n",
       "      <td>NaN</td>\n",
       "      <td>NaN</td>\n",
       "      <td>NaN</td>\n",
       "      <td>NaN</td>\n",
       "      <td>NaN</td>\n",
       "      <td>NaN</td>\n",
       "      <td>NaN</td>\n",
       "      <td>NaN</td>\n",
       "      <td>NaN</td>\n",
       "    </tr>\n",
       "    <tr>\n",
       "      <th>mean</th>\n",
       "      <td>1.331514e+06</td>\n",
       "      <td>NaN</td>\n",
       "      <td>NaN</td>\n",
       "      <td>3.077320e+07</td>\n",
       "      <td>6.309659</td>\n",
       "      <td>645.423295</td>\n",
       "      <td>2155.704545</td>\n",
       "      <td>288.170455</td>\n",
       "      <td>580.889205</td>\n",
       "      <td>103.267045</td>\n",
       "      <td>...</td>\n",
       "      <td>54.531250</td>\n",
       "      <td>263.122159</td>\n",
       "      <td>258.900568</td>\n",
       "      <td>210.926136</td>\n",
       "      <td>338.681818</td>\n",
       "      <td>65.096591</td>\n",
       "      <td>976.474432</td>\n",
       "      <td>72.638240</td>\n",
       "      <td>16.541950</td>\n",
       "      <td>10.819810</td>\n",
       "    </tr>\n",
       "    <tr>\n",
       "      <th>std</th>\n",
       "      <td>1.383952e+06</td>\n",
       "      <td>NaN</td>\n",
       "      <td>NaN</td>\n",
       "      <td>8.725344e+06</td>\n",
       "      <td>3.873810</td>\n",
       "      <td>536.499990</td>\n",
       "      <td>2013.393716</td>\n",
       "      <td>298.500277</td>\n",
       "      <td>571.632472</td>\n",
       "      <td>103.831374</td>\n",
       "      <td>...</td>\n",
       "      <td>73.369759</td>\n",
       "      <td>281.741692</td>\n",
       "      <td>38.443636</td>\n",
       "      <td>227.191851</td>\n",
       "      <td>323.886980</td>\n",
       "      <td>112.548093</td>\n",
       "      <td>19.751430</td>\n",
       "      <td>15.249897</td>\n",
       "      <td>13.688558</td>\n",
       "      <td>9.402261</td>\n",
       "    </tr>\n",
       "    <tr>\n",
       "      <th>min</th>\n",
       "      <td>1.090000e+05</td>\n",
       "      <td>NaN</td>\n",
       "      <td>NaN</td>\n",
       "      <td>8.854000e+06</td>\n",
       "      <td>1.000000</td>\n",
       "      <td>7.000000</td>\n",
       "      <td>7.000000</td>\n",
       "      <td>1.000000</td>\n",
       "      <td>1.000000</td>\n",
       "      <td>0.000000</td>\n",
       "      <td>...</td>\n",
       "      <td>0.000000</td>\n",
       "      <td>1.000000</td>\n",
       "      <td>111.000000</td>\n",
       "      <td>0.000000</td>\n",
       "      <td>0.000000</td>\n",
       "      <td>0.000000</td>\n",
       "      <td>800.000000</td>\n",
       "      <td>20.296300</td>\n",
       "      <td>3.741786</td>\n",
       "      <td>0.540870</td>\n",
       "    </tr>\n",
       "    <tr>\n",
       "      <th>25%</th>\n",
       "      <td>2.527000e+05</td>\n",
       "      <td>NaN</td>\n",
       "      <td>NaN</td>\n",
       "      <td>2.455733e+07</td>\n",
       "      <td>3.000000</td>\n",
       "      <td>230.000000</td>\n",
       "      <td>631.500000</td>\n",
       "      <td>73.000000</td>\n",
       "      <td>163.000000</td>\n",
       "      <td>26.000000</td>\n",
       "      <td>...</td>\n",
       "      <td>8.000000</td>\n",
       "      <td>59.750000</td>\n",
       "      <td>245.000000</td>\n",
       "      <td>49.750000</td>\n",
       "      <td>101.000000</td>\n",
       "      <td>4.750000</td>\n",
       "      <td>969.000000</td>\n",
       "      <td>67.668960</td>\n",
       "      <td>8.007545</td>\n",
       "      <td>1.962080</td>\n",
       "    </tr>\n",
       "    <tr>\n",
       "      <th>50%</th>\n",
       "      <td>6.750000e+05</td>\n",
       "      <td>NaN</td>\n",
       "      <td>NaN</td>\n",
       "      <td>3.413650e+07</td>\n",
       "      <td>6.000000</td>\n",
       "      <td>518.500000</td>\n",
       "      <td>1583.000000</td>\n",
       "      <td>190.500000</td>\n",
       "      <td>416.000000</td>\n",
       "      <td>70.000000</td>\n",
       "      <td>...</td>\n",
       "      <td>26.000000</td>\n",
       "      <td>172.000000</td>\n",
       "      <td>259.000000</td>\n",
       "      <td>137.000000</td>\n",
       "      <td>235.500000</td>\n",
       "      <td>24.500000</td>\n",
       "      <td>980.500000</td>\n",
       "      <td>74.619650</td>\n",
       "      <td>14.453980</td>\n",
       "      <td>10.877800</td>\n",
       "    </tr>\n",
       "    <tr>\n",
       "      <th>75%</th>\n",
       "      <td>2.250000e+06</td>\n",
       "      <td>NaN</td>\n",
       "      <td>NaN</td>\n",
       "      <td>3.779200e+07</td>\n",
       "      <td>9.000000</td>\n",
       "      <td>930.000000</td>\n",
       "      <td>3026.000000</td>\n",
       "      <td>405.500000</td>\n",
       "      <td>817.250000</td>\n",
       "      <td>146.250000</td>\n",
       "      <td>...</td>\n",
       "      <td>70.000000</td>\n",
       "      <td>358.000000</td>\n",
       "      <td>275.000000</td>\n",
       "      <td>304.250000</td>\n",
       "      <td>474.000000</td>\n",
       "      <td>75.000000</td>\n",
       "      <td>988.000000</td>\n",
       "      <td>82.948860</td>\n",
       "      <td>18.755630</td>\n",
       "      <td>16.330650</td>\n",
       "    </tr>\n",
       "    <tr>\n",
       "      <th>max</th>\n",
       "      <td>6.200000e+06</td>\n",
       "      <td>NaN</td>\n",
       "      <td>NaN</td>\n",
       "      <td>4.286600e+07</td>\n",
       "      <td>20.000000</td>\n",
       "      <td>2729.000000</td>\n",
       "      <td>10554.000000</td>\n",
       "      <td>1570.000000</td>\n",
       "      <td>3025.000000</td>\n",
       "      <td>634.000000</td>\n",
       "      <td>...</td>\n",
       "      <td>432.000000</td>\n",
       "      <td>1710.000000</td>\n",
       "      <td>625.000000</td>\n",
       "      <td>1286.000000</td>\n",
       "      <td>1891.000000</td>\n",
       "      <td>1042.000000</td>\n",
       "      <td>1000.000000</td>\n",
       "      <td>94.696270</td>\n",
       "      <td>73.960030</td>\n",
       "      <td>31.037500</td>\n",
       "    </tr>\n",
       "  </tbody>\n",
       "</table>\n",
       "<p>11 rows × 21 columns</p>\n",
       "</div>"
      ],
      "text/plain": [
       "              salary player_position   race  team_payroll  years_played  \\\n",
       "count   3.520000e+02             352    352  3.520000e+02    352.000000   \n",
       "unique           NaN               6      3           NaN           NaN   \n",
       "top              NaN        outfield  white           NaN           NaN   \n",
       "freq             NaN             136    180           NaN           NaN   \n",
       "mean    1.331514e+06             NaN    NaN  3.077320e+07      6.309659   \n",
       "std     1.383952e+06             NaN    NaN  8.725344e+06      3.873810   \n",
       "min     1.090000e+05             NaN    NaN  8.854000e+06      1.000000   \n",
       "25%     2.527000e+05             NaN    NaN  2.455733e+07      3.000000   \n",
       "50%     6.750000e+05             NaN    NaN  3.413650e+07      6.000000   \n",
       "75%     2.250000e+06             NaN    NaN  3.779200e+07      9.000000   \n",
       "max     6.200000e+06             NaN    NaN  4.286600e+07     20.000000   \n",
       "\n",
       "        games_played  career_at_bats  career_runs  career_hits  \\\n",
       "count     352.000000      352.000000   352.000000   352.000000   \n",
       "unique           NaN             NaN          NaN          NaN   \n",
       "top              NaN             NaN          NaN          NaN   \n",
       "freq             NaN             NaN          NaN          NaN   \n",
       "mean      645.423295     2155.704545   288.170455   580.889205   \n",
       "std       536.499990     2013.393716   298.500277   571.632472   \n",
       "min         7.000000        7.000000     1.000000     1.000000   \n",
       "25%       230.000000      631.500000    73.000000   163.000000   \n",
       "50%       518.500000     1583.000000   190.500000   416.000000   \n",
       "75%       930.000000     3026.000000   405.500000   817.250000   \n",
       "max      2729.000000    10554.000000  1570.000000  3025.000000   \n",
       "\n",
       "        career_doubles  ...  career_homeruns  career_runs_batted_in  \\\n",
       "count       352.000000  ...       352.000000             352.000000   \n",
       "unique             NaN  ...              NaN                    NaN   \n",
       "top                NaN  ...              NaN                    NaN   \n",
       "freq               NaN  ...              NaN                    NaN   \n",
       "mean        103.267045  ...        54.531250             263.122159   \n",
       "std         103.831374  ...        73.369759             281.741692   \n",
       "min           0.000000  ...         0.000000               1.000000   \n",
       "25%          26.000000  ...         8.000000              59.750000   \n",
       "50%          70.000000  ...        26.000000             172.000000   \n",
       "75%         146.250000  ...        70.000000             358.000000   \n",
       "max         634.000000  ...       432.000000            1710.000000   \n",
       "\n",
       "        career_batting_average  career_walks  career_strike_outs  \\\n",
       "count               352.000000    352.000000          352.000000   \n",
       "unique                     NaN           NaN                 NaN   \n",
       "top                        NaN           NaN                 NaN   \n",
       "freq                       NaN           NaN                 NaN   \n",
       "mean                258.900568    210.926136          338.681818   \n",
       "std                  38.443636    227.191851          323.886980   \n",
       "min                 111.000000      0.000000            0.000000   \n",
       "25%                 245.000000     49.750000          101.000000   \n",
       "50%                 259.000000    137.000000          235.500000   \n",
       "75%                 275.000000    304.250000          474.000000   \n",
       "max                 625.000000   1286.000000         1891.000000   \n",
       "\n",
       "        career_stolen_bases  career_fielding_percent  white_percent_in_city  \\\n",
       "count            352.000000               352.000000             329.000000   \n",
       "unique                  NaN                      NaN                    NaN   \n",
       "top                     NaN                      NaN                    NaN   \n",
       "freq                    NaN                      NaN                    NaN   \n",
       "mean              65.096591               976.474432              72.638240   \n",
       "std              112.548093                19.751430              15.249897   \n",
       "min                0.000000               800.000000              20.296300   \n",
       "25%                4.750000               969.000000              67.668960   \n",
       "50%               24.500000               980.500000              74.619650   \n",
       "75%               75.000000               988.000000              82.948860   \n",
       "max             1042.000000              1000.000000              94.696270   \n",
       "\n",
       "        black_percent_in_city  hispanic_percent_in_city  \n",
       "count              329.000000                329.000000  \n",
       "unique                    NaN                       NaN  \n",
       "top                       NaN                       NaN  \n",
       "freq                      NaN                       NaN  \n",
       "mean                16.541950                 10.819810  \n",
       "std                 13.688558                  9.402261  \n",
       "min                  3.741786                  0.540870  \n",
       "25%                  8.007545                  1.962080  \n",
       "50%                 14.453980                 10.877800  \n",
       "75%                 18.755630                 16.330650  \n",
       "max                 73.960030                 31.037500  \n",
       "\n",
       "[11 rows x 21 columns]"
      ]
     },
     "execution_count": 5,
     "metadata": {},
     "output_type": "execute_result"
    }
   ],
   "source": [
    "df.describe(include=\"all\")"
   ]
  },
  {
   "cell_type": "markdown",
   "metadata": {},
   "source": [
    "For the missing values in the data we are dropping or removing them from data set and getting clean data set."
   ]
  },
  {
   "cell_type": "code",
   "execution_count": 6,
   "metadata": {},
   "outputs": [
    {
     "data": {
      "text/html": [
       "<div>\n",
       "<style scoped>\n",
       "    .dataframe tbody tr th:only-of-type {\n",
       "        vertical-align: middle;\n",
       "    }\n",
       "\n",
       "    .dataframe tbody tr th {\n",
       "        vertical-align: top;\n",
       "    }\n",
       "\n",
       "    .dataframe thead th {\n",
       "        text-align: right;\n",
       "    }\n",
       "</style>\n",
       "<table border=\"1\" class=\"dataframe\">\n",
       "  <thead>\n",
       "    <tr style=\"text-align: right;\">\n",
       "      <th></th>\n",
       "      <th>salary</th>\n",
       "      <th>player_position</th>\n",
       "      <th>race</th>\n",
       "      <th>team_payroll</th>\n",
       "      <th>years_played</th>\n",
       "      <th>games_played</th>\n",
       "      <th>career_at_bats</th>\n",
       "      <th>career_runs</th>\n",
       "      <th>career_hits</th>\n",
       "      <th>career_doubles</th>\n",
       "      <th>...</th>\n",
       "      <th>career_homeruns</th>\n",
       "      <th>career_runs_batted_in</th>\n",
       "      <th>career_batting_average</th>\n",
       "      <th>career_walks</th>\n",
       "      <th>career_strike_outs</th>\n",
       "      <th>career_stolen_bases</th>\n",
       "      <th>career_fielding_percent</th>\n",
       "      <th>white_percent_in_city</th>\n",
       "      <th>black_percent_in_city</th>\n",
       "      <th>hispanic_percent_in_city</th>\n",
       "    </tr>\n",
       "  </thead>\n",
       "  <tbody>\n",
       "    <tr>\n",
       "      <th>0</th>\n",
       "      <td>3375000</td>\n",
       "      <td>shortstop</td>\n",
       "      <td>black</td>\n",
       "      <td>38407380</td>\n",
       "      <td>8</td>\n",
       "      <td>918</td>\n",
       "      <td>3333</td>\n",
       "      <td>407</td>\n",
       "      <td>863</td>\n",
       "      <td>156</td>\n",
       "      <td>...</td>\n",
       "      <td>73</td>\n",
       "      <td>342</td>\n",
       "      <td>259</td>\n",
       "      <td>137</td>\n",
       "      <td>582</td>\n",
       "      <td>133</td>\n",
       "      <td>968</td>\n",
       "      <td>70.27797</td>\n",
       "      <td>18.84423</td>\n",
       "      <td>10.87780</td>\n",
       "    </tr>\n",
       "    <tr>\n",
       "      <th>1</th>\n",
       "      <td>3100000</td>\n",
       "      <td>firstbase</td>\n",
       "      <td>white</td>\n",
       "      <td>38407380</td>\n",
       "      <td>5</td>\n",
       "      <td>751</td>\n",
       "      <td>2807</td>\n",
       "      <td>370</td>\n",
       "      <td>840</td>\n",
       "      <td>148</td>\n",
       "      <td>...</td>\n",
       "      <td>46</td>\n",
       "      <td>355</td>\n",
       "      <td>299</td>\n",
       "      <td>341</td>\n",
       "      <td>228</td>\n",
       "      <td>41</td>\n",
       "      <td>994</td>\n",
       "      <td>70.27797</td>\n",
       "      <td>18.84423</td>\n",
       "      <td>10.87780</td>\n",
       "    </tr>\n",
       "    <tr>\n",
       "      <th>2</th>\n",
       "      <td>2900000</td>\n",
       "      <td>thirdbase</td>\n",
       "      <td>white</td>\n",
       "      <td>38407380</td>\n",
       "      <td>8</td>\n",
       "      <td>1056</td>\n",
       "      <td>3337</td>\n",
       "      <td>405</td>\n",
       "      <td>816</td>\n",
       "      <td>143</td>\n",
       "      <td>...</td>\n",
       "      <td>107</td>\n",
       "      <td>421</td>\n",
       "      <td>245</td>\n",
       "      <td>306</td>\n",
       "      <td>653</td>\n",
       "      <td>15</td>\n",
       "      <td>971</td>\n",
       "      <td>70.27797</td>\n",
       "      <td>18.84423</td>\n",
       "      <td>10.87780</td>\n",
       "    </tr>\n",
       "    <tr>\n",
       "      <th>3</th>\n",
       "      <td>1650000</td>\n",
       "      <td>outfield</td>\n",
       "      <td>black</td>\n",
       "      <td>38407380</td>\n",
       "      <td>12</td>\n",
       "      <td>1196</td>\n",
       "      <td>3603</td>\n",
       "      <td>437</td>\n",
       "      <td>928</td>\n",
       "      <td>19</td>\n",
       "      <td>...</td>\n",
       "      <td>124</td>\n",
       "      <td>541</td>\n",
       "      <td>258</td>\n",
       "      <td>316</td>\n",
       "      <td>725</td>\n",
       "      <td>32</td>\n",
       "      <td>977</td>\n",
       "      <td>70.27797</td>\n",
       "      <td>18.84423</td>\n",
       "      <td>10.87780</td>\n",
       "    </tr>\n",
       "    <tr>\n",
       "      <th>4</th>\n",
       "      <td>700000</td>\n",
       "      <td>outfield</td>\n",
       "      <td>black</td>\n",
       "      <td>38407380</td>\n",
       "      <td>17</td>\n",
       "      <td>2032</td>\n",
       "      <td>7489</td>\n",
       "      <td>1136</td>\n",
       "      <td>2145</td>\n",
       "      <td>270</td>\n",
       "      <td>...</td>\n",
       "      <td>40</td>\n",
       "      <td>574</td>\n",
       "      <td>286</td>\n",
       "      <td>416</td>\n",
       "      <td>1098</td>\n",
       "      <td>660</td>\n",
       "      <td>987</td>\n",
       "      <td>70.27797</td>\n",
       "      <td>18.84423</td>\n",
       "      <td>10.87780</td>\n",
       "    </tr>\n",
       "    <tr>\n",
       "      <th>...</th>\n",
       "      <td>...</td>\n",
       "      <td>...</td>\n",
       "      <td>...</td>\n",
       "      <td>...</td>\n",
       "      <td>...</td>\n",
       "      <td>...</td>\n",
       "      <td>...</td>\n",
       "      <td>...</td>\n",
       "      <td>...</td>\n",
       "      <td>...</td>\n",
       "      <td>...</td>\n",
       "      <td>...</td>\n",
       "      <td>...</td>\n",
       "      <td>...</td>\n",
       "      <td>...</td>\n",
       "      <td>...</td>\n",
       "      <td>...</td>\n",
       "      <td>...</td>\n",
       "      <td>...</td>\n",
       "      <td>...</td>\n",
       "      <td>...</td>\n",
       "    </tr>\n",
       "    <tr>\n",
       "      <th>347</th>\n",
       "      <td>312000</td>\n",
       "      <td>shortstop</td>\n",
       "      <td>white</td>\n",
       "      <td>35586456</td>\n",
       "      <td>5</td>\n",
       "      <td>439</td>\n",
       "      <td>1098</td>\n",
       "      <td>150</td>\n",
       "      <td>260</td>\n",
       "      <td>41</td>\n",
       "      <td>...</td>\n",
       "      <td>6</td>\n",
       "      <td>83</td>\n",
       "      <td>237</td>\n",
       "      <td>136</td>\n",
       "      <td>138</td>\n",
       "      <td>43</td>\n",
       "      <td>964</td>\n",
       "      <td>73.14964</td>\n",
       "      <td>13.87162</td>\n",
       "      <td>12.97875</td>\n",
       "    </tr>\n",
       "    <tr>\n",
       "      <th>348</th>\n",
       "      <td>275000</td>\n",
       "      <td>catcher</td>\n",
       "      <td>hispanic</td>\n",
       "      <td>35586456</td>\n",
       "      <td>2</td>\n",
       "      <td>211</td>\n",
       "      <td>700</td>\n",
       "      <td>63</td>\n",
       "      <td>183</td>\n",
       "      <td>32</td>\n",
       "      <td>...</td>\n",
       "      <td>11</td>\n",
       "      <td>64</td>\n",
       "      <td>261</td>\n",
       "      <td>29</td>\n",
       "      <td>115</td>\n",
       "      <td>0</td>\n",
       "      <td>983</td>\n",
       "      <td>73.14964</td>\n",
       "      <td>13.87162</td>\n",
       "      <td>12.97875</td>\n",
       "    </tr>\n",
       "    <tr>\n",
       "      <th>349</th>\n",
       "      <td>250000</td>\n",
       "      <td>thirdbase</td>\n",
       "      <td>white</td>\n",
       "      <td>35586456</td>\n",
       "      <td>3</td>\n",
       "      <td>249</td>\n",
       "      <td>828</td>\n",
       "      <td>112</td>\n",
       "      <td>176</td>\n",
       "      <td>36</td>\n",
       "      <td>...</td>\n",
       "      <td>41</td>\n",
       "      <td>110</td>\n",
       "      <td>213</td>\n",
       "      <td>94</td>\n",
       "      <td>264</td>\n",
       "      <td>10</td>\n",
       "      <td>941</td>\n",
       "      <td>73.14964</td>\n",
       "      <td>13.87162</td>\n",
       "      <td>12.97875</td>\n",
       "    </tr>\n",
       "    <tr>\n",
       "      <th>350</th>\n",
       "      <td>200000</td>\n",
       "      <td>secondbase</td>\n",
       "      <td>white</td>\n",
       "      <td>35586456</td>\n",
       "      <td>6</td>\n",
       "      <td>667</td>\n",
       "      <td>2087</td>\n",
       "      <td>217</td>\n",
       "      <td>510</td>\n",
       "      <td>92</td>\n",
       "      <td>...</td>\n",
       "      <td>13</td>\n",
       "      <td>168</td>\n",
       "      <td>244</td>\n",
       "      <td>137</td>\n",
       "      <td>239</td>\n",
       "      <td>20</td>\n",
       "      <td>987</td>\n",
       "      <td>73.14964</td>\n",
       "      <td>13.87162</td>\n",
       "      <td>12.97875</td>\n",
       "    </tr>\n",
       "    <tr>\n",
       "      <th>351</th>\n",
       "      <td>109000</td>\n",
       "      <td>outfield</td>\n",
       "      <td>white</td>\n",
       "      <td>35586456</td>\n",
       "      <td>1</td>\n",
       "      <td>12</td>\n",
       "      <td>24</td>\n",
       "      <td>1</td>\n",
       "      <td>4</td>\n",
       "      <td>0</td>\n",
       "      <td>...</td>\n",
       "      <td>0</td>\n",
       "      <td>2</td>\n",
       "      <td>167</td>\n",
       "      <td>0</td>\n",
       "      <td>3</td>\n",
       "      <td>0</td>\n",
       "      <td>857</td>\n",
       "      <td>73.14964</td>\n",
       "      <td>13.87162</td>\n",
       "      <td>12.97875</td>\n",
       "    </tr>\n",
       "  </tbody>\n",
       "</table>\n",
       "<p>329 rows × 21 columns</p>\n",
       "</div>"
      ],
      "text/plain": [
       "      salary player_position      race  team_payroll  years_played  \\\n",
       "0    3375000       shortstop     black      38407380             8   \n",
       "1    3100000       firstbase     white      38407380             5   \n",
       "2    2900000       thirdbase     white      38407380             8   \n",
       "3    1650000        outfield     black      38407380            12   \n",
       "4     700000        outfield     black      38407380            17   \n",
       "..       ...             ...       ...           ...           ...   \n",
       "347   312000       shortstop     white      35586456             5   \n",
       "348   275000         catcher  hispanic      35586456             2   \n",
       "349   250000       thirdbase     white      35586456             3   \n",
       "350   200000      secondbase     white      35586456             6   \n",
       "351   109000        outfield     white      35586456             1   \n",
       "\n",
       "     games_played  career_at_bats  career_runs  career_hits  career_doubles  \\\n",
       "0             918            3333          407          863             156   \n",
       "1             751            2807          370          840             148   \n",
       "2            1056            3337          405          816             143   \n",
       "3            1196            3603          437          928              19   \n",
       "4            2032            7489         1136         2145             270   \n",
       "..            ...             ...          ...          ...             ...   \n",
       "347           439            1098          150          260              41   \n",
       "348           211             700           63          183              32   \n",
       "349           249             828          112          176              36   \n",
       "350           667            2087          217          510              92   \n",
       "351            12              24            1            4               0   \n",
       "\n",
       "     ...  career_homeruns  career_runs_batted_in  career_batting_average  \\\n",
       "0    ...               73                    342                     259   \n",
       "1    ...               46                    355                     299   \n",
       "2    ...              107                    421                     245   \n",
       "3    ...              124                    541                     258   \n",
       "4    ...               40                    574                     286   \n",
       "..   ...              ...                    ...                     ...   \n",
       "347  ...                6                     83                     237   \n",
       "348  ...               11                     64                     261   \n",
       "349  ...               41                    110                     213   \n",
       "350  ...               13                    168                     244   \n",
       "351  ...                0                      2                     167   \n",
       "\n",
       "     career_walks  career_strike_outs  career_stolen_bases  \\\n",
       "0             137                 582                  133   \n",
       "1             341                 228                   41   \n",
       "2             306                 653                   15   \n",
       "3             316                 725                   32   \n",
       "4             416                1098                  660   \n",
       "..            ...                 ...                  ...   \n",
       "347           136                 138                   43   \n",
       "348            29                 115                    0   \n",
       "349            94                 264                   10   \n",
       "350           137                 239                   20   \n",
       "351             0                   3                    0   \n",
       "\n",
       "     career_fielding_percent  white_percent_in_city  black_percent_in_city  \\\n",
       "0                        968               70.27797               18.84423   \n",
       "1                        994               70.27797               18.84423   \n",
       "2                        971               70.27797               18.84423   \n",
       "3                        977               70.27797               18.84423   \n",
       "4                        987               70.27797               18.84423   \n",
       "..                       ...                    ...                    ...   \n",
       "347                      964               73.14964               13.87162   \n",
       "348                      983               73.14964               13.87162   \n",
       "349                      941               73.14964               13.87162   \n",
       "350                      987               73.14964               13.87162   \n",
       "351                      857               73.14964               13.87162   \n",
       "\n",
       "     hispanic_percent_in_city  \n",
       "0                    10.87780  \n",
       "1                    10.87780  \n",
       "2                    10.87780  \n",
       "3                    10.87780  \n",
       "4                    10.87780  \n",
       "..                        ...  \n",
       "347                  12.97875  \n",
       "348                  12.97875  \n",
       "349                  12.97875  \n",
       "350                  12.97875  \n",
       "351                  12.97875  \n",
       "\n",
       "[329 rows x 21 columns]"
      ]
     },
     "execution_count": 6,
     "metadata": {},
     "output_type": "execute_result"
    }
   ],
   "source": [
    "df1=df.dropna(axis=0)\n",
    "df1"
   ]
  },
  {
   "cell_type": "markdown",
   "metadata": {},
   "source": [
    "Here we can see the colounms in the data set. "
   ]
  },
  {
   "cell_type": "code",
   "execution_count": 7,
   "metadata": {},
   "outputs": [
    {
     "data": {
      "text/plain": [
       "Index(['salary', 'player_position', 'race', 'team_payroll', 'years_played',\n",
       "       'games_played', 'career_at_bats', 'career_runs', 'career_hits',\n",
       "       'career_doubles', 'career_triples', 'career_homeruns',\n",
       "       'career_runs_batted_in', 'career_batting_average', 'career_walks',\n",
       "       'career_strike_outs', 'career_stolen_bases', 'career_fielding_percent',\n",
       "       'white_percent_in_city', 'black_percent_in_city',\n",
       "       'hispanic_percent_in_city'],\n",
       "      dtype='object')"
      ]
     },
     "execution_count": 7,
     "metadata": {},
     "output_type": "execute_result"
    }
   ],
   "source": [
    "df1.columns"
   ]
  },
  {
   "cell_type": "markdown",
   "metadata": {},
   "source": [
    "To find the number of unique value under each coloumn of the data set."
   ]
  },
  {
   "cell_type": "code",
   "execution_count": 8,
   "metadata": {},
   "outputs": [
    {
     "data": {
      "text/plain": [
       "salary                      202\n",
       "player_position               6\n",
       "race                          3\n",
       "team_payroll                 26\n",
       "years_played                 19\n",
       "games_played                297\n",
       "career_at_bats              322\n",
       "career_runs                 254\n",
       "career_hits                 290\n",
       "career_doubles              186\n",
       "career_triples               63\n",
       "career_homeruns             135\n",
       "career_runs_batted_in       253\n",
       "career_batting_average      107\n",
       "career_walks                231\n",
       "career_strike_outs          259\n",
       "career_stolen_bases         125\n",
       "career_fielding_percent      61\n",
       "white_percent_in_city        22\n",
       "black_percent_in_city        22\n",
       "hispanic_percent_in_city     22\n",
       "dtype: int64"
      ]
     },
     "execution_count": 8,
     "metadata": {},
     "output_type": "execute_result"
    }
   ],
   "source": [
    "df1.nunique()"
   ]
  },
  {
   "cell_type": "markdown",
   "metadata": {},
   "source": [
    "Now we are obtaing each unique value of categorical data \"player_position\" and \"race\"."
   ]
  },
  {
   "cell_type": "code",
   "execution_count": 9,
   "metadata": {},
   "outputs": [
    {
     "data": {
      "text/plain": [
       "array(['shortstop', 'firstbase', 'thirdbase', 'outfield', 'catcher',\n",
       "       'secondbase'], dtype=object)"
      ]
     },
     "execution_count": 9,
     "metadata": {},
     "output_type": "execute_result"
    }
   ],
   "source": [
    "df1['player_position'].unique()"
   ]
  },
  {
   "cell_type": "code",
   "execution_count": 10,
   "metadata": {},
   "outputs": [
    {
     "data": {
      "text/plain": [
       "array(['black', 'white', 'hispanic'], dtype=object)"
      ]
     },
     "execution_count": 10,
     "metadata": {},
     "output_type": "execute_result"
    }
   ],
   "source": [
    "df1['race'].unique()"
   ]
  },
  {
   "cell_type": "markdown",
   "metadata": {},
   "source": [
    "Again checking for any missing value."
   ]
  },
  {
   "cell_type": "code",
   "execution_count": 11,
   "metadata": {},
   "outputs": [
    {
     "data": {
      "text/plain": [
       "salary                      0\n",
       "player_position             0\n",
       "race                        0\n",
       "team_payroll                0\n",
       "years_played                0\n",
       "games_played                0\n",
       "career_at_bats              0\n",
       "career_runs                 0\n",
       "career_hits                 0\n",
       "career_doubles              0\n",
       "career_triples              0\n",
       "career_homeruns             0\n",
       "career_runs_batted_in       0\n",
       "career_batting_average      0\n",
       "career_walks                0\n",
       "career_strike_outs          0\n",
       "career_stolen_bases         0\n",
       "career_fielding_percent     0\n",
       "white_percent_in_city       0\n",
       "black_percent_in_city       0\n",
       "hispanic_percent_in_city    0\n",
       "dtype: int64"
      ]
     },
     "execution_count": 11,
     "metadata": {},
     "output_type": "execute_result"
    }
   ],
   "source": [
    "df1.isnull().sum()"
   ]
  },
  {
   "cell_type": "markdown",
   "metadata": {},
   "source": [
    "Removing all the coloumns that are not required for the analysis."
   ]
  },
  {
   "cell_type": "code",
   "execution_count": 12,
   "metadata": {},
   "outputs": [],
   "source": [
    "df1 = df.drop(['white_percent_in_city','black_percent_in_city','hispanic_percent_in_city','career_doubles','career_at_bats','career_runs','career_hits','career_triples','career_homeruns','career_runs_batted_in','career_batting_average','career_walks','career_strike_outs','career_stolen_bases','career_fielding_percent'], axis=1)"
   ]
  },
  {
   "cell_type": "code",
   "execution_count": 13,
   "metadata": {},
   "outputs": [
    {
     "data": {
      "text/html": [
       "<div>\n",
       "<style scoped>\n",
       "    .dataframe tbody tr th:only-of-type {\n",
       "        vertical-align: middle;\n",
       "    }\n",
       "\n",
       "    .dataframe tbody tr th {\n",
       "        vertical-align: top;\n",
       "    }\n",
       "\n",
       "    .dataframe thead th {\n",
       "        text-align: right;\n",
       "    }\n",
       "</style>\n",
       "<table border=\"1\" class=\"dataframe\">\n",
       "  <thead>\n",
       "    <tr style=\"text-align: right;\">\n",
       "      <th></th>\n",
       "      <th>salary</th>\n",
       "      <th>player_position</th>\n",
       "      <th>race</th>\n",
       "      <th>team_payroll</th>\n",
       "      <th>years_played</th>\n",
       "      <th>games_played</th>\n",
       "    </tr>\n",
       "  </thead>\n",
       "  <tbody>\n",
       "    <tr>\n",
       "      <th>0</th>\n",
       "      <td>3375000</td>\n",
       "      <td>shortstop</td>\n",
       "      <td>black</td>\n",
       "      <td>38407380</td>\n",
       "      <td>8</td>\n",
       "      <td>918</td>\n",
       "    </tr>\n",
       "    <tr>\n",
       "      <th>1</th>\n",
       "      <td>3100000</td>\n",
       "      <td>firstbase</td>\n",
       "      <td>white</td>\n",
       "      <td>38407380</td>\n",
       "      <td>5</td>\n",
       "      <td>751</td>\n",
       "    </tr>\n",
       "    <tr>\n",
       "      <th>2</th>\n",
       "      <td>2900000</td>\n",
       "      <td>thirdbase</td>\n",
       "      <td>white</td>\n",
       "      <td>38407380</td>\n",
       "      <td>8</td>\n",
       "      <td>1056</td>\n",
       "    </tr>\n",
       "    <tr>\n",
       "      <th>3</th>\n",
       "      <td>1650000</td>\n",
       "      <td>outfield</td>\n",
       "      <td>black</td>\n",
       "      <td>38407380</td>\n",
       "      <td>12</td>\n",
       "      <td>1196</td>\n",
       "    </tr>\n",
       "    <tr>\n",
       "      <th>4</th>\n",
       "      <td>700000</td>\n",
       "      <td>outfield</td>\n",
       "      <td>black</td>\n",
       "      <td>38407380</td>\n",
       "      <td>17</td>\n",
       "      <td>2032</td>\n",
       "    </tr>\n",
       "  </tbody>\n",
       "</table>\n",
       "</div>"
      ],
      "text/plain": [
       "    salary player_position   race  team_payroll  years_played  games_played\n",
       "0  3375000       shortstop  black      38407380             8           918\n",
       "1  3100000       firstbase  white      38407380             5           751\n",
       "2  2900000       thirdbase  white      38407380             8          1056\n",
       "3  1650000        outfield  black      38407380            12          1196\n",
       "4   700000        outfield  black      38407380            17          2032"
      ]
     },
     "execution_count": 13,
     "metadata": {},
     "output_type": "execute_result"
    }
   ],
   "source": [
    "df1.head()"
   ]
  },
  {
   "cell_type": "markdown",
   "metadata": {},
   "source": [
    "Grouping by the categorical data 'race' and ploting them with salary by years_playes and marking them with the scatterplot."
   ]
  },
  {
   "cell_type": "code",
   "execution_count": 14,
   "metadata": {},
   "outputs": [
    {
     "data": {
      "text/plain": [
       "<AxesSubplot:xlabel='salary', ylabel='years_played'>"
      ]
     },
     "execution_count": 14,
     "metadata": {},
     "output_type": "execute_result"
    },
    {
     "data": {
      "image/png": "[encoded data removed]",
      "text/plain": [
       "<Figure size 432x288 with 1 Axes>"
      ]
     },
     "metadata": {
      "needs_background": "light"
     },
     "output_type": "display_data"
    }
   ],
   "source": [
    "df1.groupby('race').sum()\n",
    "sns.scatterplot(data=df1, x=\"salary\", y=\"years_played\")"
   ]
  },
  {
   "cell_type": "markdown",
   "metadata": {},
   "source": [
    "For the grouped categorical data and histogram is diplayed."
   ]
  },
  {
   "cell_type": "code",
   "execution_count": 15,
   "metadata": {},
   "outputs": [
    {
     "data": {
      "text/plain": [
       "<AxesSubplot:>"
      ]
     },
     "execution_count": 15,
     "metadata": {},
     "output_type": "execute_result"
    },
    {
     "data": {
      "image/png": "[encoded data removed]",
      "text/plain": [
       "<Figure size 432x288 with 1 Axes>"
      ]
     },
     "metadata": {
      "needs_background": "light"
     },
     "output_type": "display_data"
    }
   ],
   "source": [
    "df1['race'].hist(bins=20)"
   ]
  },
  {
   "cell_type": "markdown",
   "metadata": {},
   "source": [
    "The Graphical Vizualization of players_position in the pie chart is shown."
   ]
  },
  {
   "cell_type": "code",
   "execution_count": 16,
   "metadata": {},
   "outputs": [
    {
     "data": {
      "text/plain": [
       "<AxesSubplot:ylabel='player_position'>"
      ]
     },
     "execution_count": 16,
     "metadata": {},
     "output_type": "execute_result"
    },
    {
     "data": {
      "image/png": "[encoded data removed]",
      "text/plain": [
       "<Figure size 720x720 with 1 Axes>"
      ]
     },
     "metadata": {},
     "output_type": "display_data"
    }
   ],
   "source": [
    "type_counts = df1['player_position'].value_counts()\n",
    "vis = pd.DataFrame({'player_position': type_counts}, \n",
    "                     index = ['shortstop', 'firstbase', 'thirdbase', 'outfield', 'catcher','secondbase'])\n",
    "vis.plot.pie(y='player_position', figsize=(10,10), autopct='%1.1f%%')"
   ]
  },
  {
   "cell_type": "markdown",
   "metadata": {},
   "source": [
    "The graphical vizualization of no of players for years players played is represented in bar chart."
   ]
  },
  {
   "cell_type": "code",
   "execution_count": 17,
   "metadata": {},
   "outputs": [
    {
     "data": {
      "image/png": "[encoded data removed]",
      "text/plain": [
       "<Figure size 1440x720 with 1 Axes>"
      ]
     },
     "metadata": {},
     "output_type": "display_data"
    }
   ],
   "source": [
    "sns.set(style='darkgrid')\n",
    "plt.figure(figsize=(20,10))\n",
    "ax = sns.countplot(x='years_played', data=df1)"
   ]
  },
  {
   "cell_type": "markdown",
   "metadata": {},
   "source": [
    "The information on the data set are obtaine from data set."
   ]
  },
  {
   "cell_type": "code",
   "execution_count": 18,
   "metadata": {},
   "outputs": [
    {
     "name": "stdout",
     "output_type": "stream",
     "text": [
      "<class 'pandas.core.frame.DataFrame'>\n",
      "RangeIndex: 352 entries, 0 to 351\n",
      "Data columns (total 6 columns):\n",
      " #   Column           Non-Null Count  Dtype \n",
      "---  ------           --------------  ----- \n",
      " 0   salary           352 non-null    int64 \n",
      " 1   player_position  352 non-null    object\n",
      " 2   race             352 non-null    object\n",
      " 3   team_payroll     352 non-null    int64 \n",
      " 4   years_played     352 non-null    int64 \n",
      " 5   games_played     352 non-null    int64 \n",
      "dtypes: int64(4), object(2)\n",
      "memory usage: 16.6+ KB\n"
     ]
    }
   ],
   "source": [
    "df1.info()"
   ]
  },
  {
   "cell_type": "markdown",
   "metadata": {},
   "source": [
    "Contingency table is build between two potentially related categorical variable 'race' and 'player_position'."
   ]
  },
  {
   "cell_type": "code",
   "execution_count": 19,
   "metadata": {},
   "outputs": [
    {
     "data": {
      "text/html": [
       "<div>\n",
       "<style scoped>\n",
       "    .dataframe tbody tr th:only-of-type {\n",
       "        vertical-align: middle;\n",
       "    }\n",
       "\n",
       "    .dataframe tbody tr th {\n",
       "        vertical-align: top;\n",
       "    }\n",
       "\n",
       "    .dataframe thead th {\n",
       "        text-align: right;\n",
       "    }\n",
       "</style>\n",
       "<table border=\"1\" class=\"dataframe\">\n",
       "  <thead>\n",
       "    <tr style=\"text-align: right;\">\n",
       "      <th>player_position</th>\n",
       "      <th>catcher</th>\n",
       "      <th>firstbase</th>\n",
       "      <th>outfield</th>\n",
       "      <th>secondbase</th>\n",
       "      <th>shortstop</th>\n",
       "      <th>thirdbase</th>\n",
       "    </tr>\n",
       "    <tr>\n",
       "      <th>race</th>\n",
       "      <th></th>\n",
       "      <th></th>\n",
       "      <th></th>\n",
       "      <th></th>\n",
       "      <th></th>\n",
       "      <th></th>\n",
       "    </tr>\n",
       "  </thead>\n",
       "  <tbody>\n",
       "    <tr>\n",
       "      <th>black</th>\n",
       "      <td>2</td>\n",
       "      <td>10</td>\n",
       "      <td>72</td>\n",
       "      <td>8</td>\n",
       "      <td>7</td>\n",
       "      <td>9</td>\n",
       "    </tr>\n",
       "    <tr>\n",
       "      <th>hispanic</th>\n",
       "      <td>7</td>\n",
       "      <td>9</td>\n",
       "      <td>19</td>\n",
       "      <td>7</td>\n",
       "      <td>19</td>\n",
       "      <td>3</td>\n",
       "    </tr>\n",
       "    <tr>\n",
       "      <th>white</th>\n",
       "      <td>43</td>\n",
       "      <td>26</td>\n",
       "      <td>45</td>\n",
       "      <td>21</td>\n",
       "      <td>23</td>\n",
       "      <td>22</td>\n",
       "    </tr>\n",
       "  </tbody>\n",
       "</table>\n",
       "</div>"
      ],
      "text/plain": [
       "player_position  catcher  firstbase  outfield  secondbase  shortstop  \\\n",
       "race                                                                   \n",
       "black                  2         10        72           8          7   \n",
       "hispanic               7          9        19           7         19   \n",
       "white                 43         26        45          21         23   \n",
       "\n",
       "player_position  thirdbase  \n",
       "race                        \n",
       "black                    9  \n",
       "hispanic                 3  \n",
       "white                   22  "
      ]
     },
     "execution_count": 19,
     "metadata": {},
     "output_type": "execute_result"
    }
   ],
   "source": [
    "cont_table = pd.crosstab(df1['race'], df1['player_position'])\n",
    "cont_table"
   ]
  },
  {
   "cell_type": "markdown",
   "metadata": {},
   "source": [
    "The line graph is plotted for the contingency table."
   ]
  },
  {
   "cell_type": "code",
   "execution_count": 20,
   "metadata": {},
   "outputs": [
    {
     "data": {
      "text/plain": [
       "<AxesSubplot:xlabel='race'>"
      ]
     },
     "execution_count": 20,
     "metadata": {},
     "output_type": "execute_result"
    },
    {
     "data": {
      "image/png": "[encoded data removed]",
      "text/plain": [
       "<Figure size 432x288 with 1 Axes>"
      ]
     },
     "metadata": {},
     "output_type": "display_data"
    }
   ],
   "source": [
    "cont_table.plot(kind=\"line\", stacked=True, rot=0)"
   ]
  },
  {
   "cell_type": "markdown",
   "metadata": {},
   "source": [
    "Index is obtained with the range between the data."
   ]
  },
  {
   "cell_type": "code",
   "execution_count": 21,
   "metadata": {},
   "outputs": [
    {
     "data": {
      "text/plain": [
       "RangeIndex(start=0, stop=352, step=1)"
      ]
     },
     "execution_count": 21,
     "metadata": {},
     "output_type": "execute_result"
    }
   ],
   "source": [
    "df1.index"
   ]
  },
  {
   "cell_type": "code",
   "execution_count": 22,
   "metadata": {},
   "outputs": [
    {
     "data": {
      "text/plain": [
       "array([[3375000, 'shortstop', 'black', 38407380, 8, 918],\n",
       "       [3100000, 'firstbase', 'white', 38407380, 5, 751],\n",
       "       [2900000, 'thirdbase', 'white', 38407380, 8, 1056],\n",
       "       ...,\n",
       "       [250000, 'thirdbase', 'white', 35586456, 3, 249],\n",
       "       [200000, 'secondbase', 'white', 35586456, 6, 667],\n",
       "       [109000, 'outfield', 'white', 35586456, 1, 12]], dtype=object)"
      ]
     },
     "execution_count": 22,
     "metadata": {},
     "output_type": "execute_result"
    }
   ],
   "source": [
    "# to check the values \n",
    "df1.values"
   ]
  },
  {
   "cell_type": "markdown",
   "metadata": {},
   "source": [
    "To find the correlation between the number of years the players played to the the salary. Here we are using the pearson method which shows us with increase in the nuber of years played the salary also varies at fourty seven percentage."
   ]
  },
  {
   "cell_type": "code",
   "execution_count": 23,
   "metadata": {},
   "outputs": [
    {
     "data": {
      "text/plain": [
       "0.4733485584593332"
      ]
     },
     "execution_count": 23,
     "metadata": {},
     "output_type": "execute_result"
    }
   ],
   "source": [
    "df1['years_played'].corr(df1['salary'],method='pearson')"
   ]
  },
  {
   "cell_type": "markdown",
   "metadata": {},
   "source": [
    "Pivot table is create for the 'race' categorical variable for the value of 'salary' which is summarised for the entire group."
   ]
  },
  {
   "cell_type": "code",
   "execution_count": 24,
   "metadata": {},
   "outputs": [
    {
     "data": {
      "text/html": [
       "<div>\n",
       "<style scoped>\n",
       "    .dataframe tbody tr th:only-of-type {\n",
       "        vertical-align: middle;\n",
       "    }\n",
       "\n",
       "    .dataframe tbody tr th {\n",
       "        vertical-align: top;\n",
       "    }\n",
       "\n",
       "    .dataframe thead th {\n",
       "        text-align: right;\n",
       "    }\n",
       "</style>\n",
       "<table border=\"1\" class=\"dataframe\">\n",
       "  <thead>\n",
       "    <tr style=\"text-align: right;\">\n",
       "      <th></th>\n",
       "      <th>salary</th>\n",
       "    </tr>\n",
       "    <tr>\n",
       "      <th>race</th>\n",
       "      <th></th>\n",
       "    </tr>\n",
       "  </thead>\n",
       "  <tbody>\n",
       "    <tr>\n",
       "      <th>black</th>\n",
       "      <td>1.654350e+06</td>\n",
       "    </tr>\n",
       "    <tr>\n",
       "      <th>hispanic</th>\n",
       "      <td>1.050723e+06</td>\n",
       "    </tr>\n",
       "    <tr>\n",
       "      <th>white</th>\n",
       "      <td>1.237650e+06</td>\n",
       "    </tr>\n",
       "  </tbody>\n",
       "</table>\n",
       "</div>"
      ],
      "text/plain": [
       "                salary\n",
       "race                  \n",
       "black     1.654350e+06\n",
       "hispanic  1.050723e+06\n",
       "white     1.237650e+06"
      ]
     },
     "execution_count": 24,
     "metadata": {},
     "output_type": "execute_result"
    }
   ],
   "source": [
    "table = pd.pivot_table(df1,index=['race'],values=['salary'], aggfunc=np.mean)\n",
    "table"
   ]
  },
  {
   "cell_type": "markdown",
   "metadata": {},
   "source": [
    "For the summarised pivot table bar graph is plotted."
   ]
  },
  {
   "cell_type": "code",
   "execution_count": 25,
   "metadata": {},
   "outputs": [
    {
     "data": {
      "image/png": "[encoded data removed]",
      "text/plain": [
       "<Figure size 432x288 with 1 Axes>"
      ]
     },
     "metadata": {},
     "output_type": "display_data"
    }
   ],
   "source": [
    "table.plot(kind='bar');"
   ]
  },
  {
   "cell_type": "markdown",
   "metadata": {},
   "source": [
    "Similary pivot table is build for the 'players_position' categorical variable with value of salary and bar graph is plotted from which we can understand firstbase position player obtains more salary that any other position."
   ]
  },
  {
   "cell_type": "code",
   "execution_count": 26,
   "metadata": {},
   "outputs": [
    {
     "data": {
      "text/html": [
       "<div>\n",
       "<style scoped>\n",
       "    .dataframe tbody tr th:only-of-type {\n",
       "        vertical-align: middle;\n",
       "    }\n",
       "\n",
       "    .dataframe tbody tr th {\n",
       "        vertical-align: top;\n",
       "    }\n",
       "\n",
       "    .dataframe thead th {\n",
       "        text-align: right;\n",
       "    }\n",
       "</style>\n",
       "<table border=\"1\" class=\"dataframe\">\n",
       "  <thead>\n",
       "    <tr style=\"text-align: right;\">\n",
       "      <th></th>\n",
       "      <th>salary</th>\n",
       "    </tr>\n",
       "    <tr>\n",
       "      <th>player_position</th>\n",
       "      <th></th>\n",
       "    </tr>\n",
       "  </thead>\n",
       "  <tbody>\n",
       "    <tr>\n",
       "      <th>catcher</th>\n",
       "      <td>8.925192e+05</td>\n",
       "    </tr>\n",
       "    <tr>\n",
       "      <th>firstbase</th>\n",
       "      <td>1.586781e+06</td>\n",
       "    </tr>\n",
       "    <tr>\n",
       "      <th>outfield</th>\n",
       "      <td>1.539324e+06</td>\n",
       "    </tr>\n",
       "    <tr>\n",
       "      <th>secondbase</th>\n",
       "      <td>1.170208e+06</td>\n",
       "    </tr>\n",
       "    <tr>\n",
       "      <th>shortstop</th>\n",
       "      <td>1.069211e+06</td>\n",
       "    </tr>\n",
       "    <tr>\n",
       "      <th>thirdbase</th>\n",
       "      <td>1.382647e+06</td>\n",
       "    </tr>\n",
       "  </tbody>\n",
       "</table>\n",
       "</div>"
      ],
      "text/plain": [
       "                       salary\n",
       "player_position              \n",
       "catcher          8.925192e+05\n",
       "firstbase        1.586781e+06\n",
       "outfield         1.539324e+06\n",
       "secondbase       1.170208e+06\n",
       "shortstop        1.069211e+06\n",
       "thirdbase        1.382647e+06"
      ]
     },
     "execution_count": 26,
     "metadata": {},
     "output_type": "execute_result"
    }
   ],
   "source": [
    "table = pd.pivot_table(df1,index=['player_position'],values=['salary'], aggfunc=np.mean)\n",
    "table"
   ]
  },
  {
   "cell_type": "code",
   "execution_count": 27,
   "metadata": {},
   "outputs": [
    {
     "data": {
      "image/png": "[encoded data removed]",
      "text/plain": [
       "<Figure size 432x288 with 1 Axes>"
      ]
     },
     "metadata": {},
     "output_type": "display_data"
    }
   ],
   "source": [
    "table.plot(kind='bar');"
   ]
  },
  {
   "cell_type": "markdown",
   "metadata": {},
   "source": [
    "The descriptive statistics of the data set. "
   ]
  },
  {
   "cell_type": "code",
   "execution_count": 28,
   "metadata": {},
   "outputs": [
    {
     "data": {
      "text/html": [
       "<div>\n",
       "<style scoped>\n",
       "    .dataframe tbody tr th:only-of-type {\n",
       "        vertical-align: middle;\n",
       "    }\n",
       "\n",
       "    .dataframe tbody tr th {\n",
       "        vertical-align: top;\n",
       "    }\n",
       "\n",
       "    .dataframe thead th {\n",
       "        text-align: right;\n",
       "    }\n",
       "</style>\n",
       "<table border=\"1\" class=\"dataframe\">\n",
       "  <thead>\n",
       "    <tr style=\"text-align: right;\">\n",
       "      <th></th>\n",
       "      <th>salary</th>\n",
       "      <th>years_played</th>\n",
       "      <th>games_played</th>\n",
       "    </tr>\n",
       "  </thead>\n",
       "  <tbody>\n",
       "    <tr>\n",
       "      <th>0</th>\n",
       "      <td>3375000</td>\n",
       "      <td>8</td>\n",
       "      <td>918</td>\n",
       "    </tr>\n",
       "    <tr>\n",
       "      <th>1</th>\n",
       "      <td>3100000</td>\n",
       "      <td>5</td>\n",
       "      <td>751</td>\n",
       "    </tr>\n",
       "    <tr>\n",
       "      <th>2</th>\n",
       "      <td>2900000</td>\n",
       "      <td>8</td>\n",
       "      <td>1056</td>\n",
       "    </tr>\n",
       "    <tr>\n",
       "      <th>3</th>\n",
       "      <td>1650000</td>\n",
       "      <td>12</td>\n",
       "      <td>1196</td>\n",
       "    </tr>\n",
       "    <tr>\n",
       "      <th>4</th>\n",
       "      <td>700000</td>\n",
       "      <td>17</td>\n",
       "      <td>2032</td>\n",
       "    </tr>\n",
       "    <tr>\n",
       "      <th>...</th>\n",
       "      <td>...</td>\n",
       "      <td>...</td>\n",
       "      <td>...</td>\n",
       "    </tr>\n",
       "    <tr>\n",
       "      <th>347</th>\n",
       "      <td>312000</td>\n",
       "      <td>5</td>\n",
       "      <td>439</td>\n",
       "    </tr>\n",
       "    <tr>\n",
       "      <th>348</th>\n",
       "      <td>275000</td>\n",
       "      <td>2</td>\n",
       "      <td>211</td>\n",
       "    </tr>\n",
       "    <tr>\n",
       "      <th>349</th>\n",
       "      <td>250000</td>\n",
       "      <td>3</td>\n",
       "      <td>249</td>\n",
       "    </tr>\n",
       "    <tr>\n",
       "      <th>350</th>\n",
       "      <td>200000</td>\n",
       "      <td>6</td>\n",
       "      <td>667</td>\n",
       "    </tr>\n",
       "    <tr>\n",
       "      <th>351</th>\n",
       "      <td>109000</td>\n",
       "      <td>1</td>\n",
       "      <td>12</td>\n",
       "    </tr>\n",
       "  </tbody>\n",
       "</table>\n",
       "<p>352 rows × 3 columns</p>\n",
       "</div>"
      ],
      "text/plain": [
       "      salary  years_played  games_played\n",
       "0    3375000             8           918\n",
       "1    3100000             5           751\n",
       "2    2900000             8          1056\n",
       "3    1650000            12          1196\n",
       "4     700000            17          2032\n",
       "..       ...           ...           ...\n",
       "347   312000             5           439\n",
       "348   275000             2           211\n",
       "349   250000             3           249\n",
       "350   200000             6           667\n",
       "351   109000             1            12\n",
       "\n",
       "[352 rows x 3 columns]"
      ]
     },
     "execution_count": 28,
     "metadata": {},
     "output_type": "execute_result"
    }
   ],
   "source": [
    "df1 [['salary','years_played','games_played']]"
   ]
  },
  {
   "cell_type": "code",
   "execution_count": 29,
   "metadata": {},
   "outputs": [
    {
     "name": "stdout",
     "output_type": "stream",
     "text": [
      "1331514.4630681819\n",
      "675000.0\n",
      "1383952.3400626658\n"
     ]
    }
   ],
   "source": [
    "average = df1['salary'].mean()\n",
    "print(average)\n",
    "med= df1['salary'].median()\n",
    "print(med)\n",
    "standard_deviation=df1['salary'].std()\n",
    "print(standard_deviation)"
   ]
  },
  {
   "cell_type": "code",
   "execution_count": 30,
   "metadata": {},
   "outputs": [
    {
     "name": "stdout",
     "output_type": "stream",
     "text": [
      "6.309659090909091\n",
      "6.0\n",
      "3.8738097736791564\n"
     ]
    }
   ],
   "source": [
    "average2 = df1['years_played'].mean()\n",
    "print(average2)\n",
    "med2 = df1['years_played'].median()\n",
    "print(med2)\n",
    "standard_deviation2=df1['years_played'].std()\n",
    "print(standard_deviation2)"
   ]
  },
  {
   "cell_type": "code",
   "execution_count": 31,
   "metadata": {},
   "outputs": [
    {
     "name": "stdout",
     "output_type": "stream",
     "text": [
      "645.4232954545455\n",
      "518.5\n",
      "536.4999898545152\n"
     ]
    }
   ],
   "source": [
    "average3 = df1['games_played'].mean()\n",
    "print(average3)\n",
    "med3= df1['games_played'].median()\n",
    "print(med3)\n",
    "standard_deviation3=df1['games_played'].std()\n",
    "print(standard_deviation3)"
   ]
  },
  {
   "cell_type": "code",
   "execution_count": 32,
   "metadata": {},
   "outputs": [
    {
     "data": {
      "text/plain": [
       "1654350.462962963"
      ]
     },
     "execution_count": 32,
     "metadata": {},
     "output_type": "execute_result"
    }
   ],
   "source": [
    "people= df1[df1['race'] == 'black']['salary']\n",
    "people.mean()"
   ]
  },
  {
   "cell_type": "code",
   "execution_count": 33,
   "metadata": {},
   "outputs": [
    {
     "data": {
      "text/plain": [
       "1237649.8555555556"
      ]
     },
     "execution_count": 33,
     "metadata": {},
     "output_type": "execute_result"
    }
   ],
   "source": [
    "people2= df1[df1['race'] == 'white']['salary']\n",
    "people2.mean()"
   ]
  },
  {
   "cell_type": "code",
   "execution_count": 34,
   "metadata": {},
   "outputs": [
    {
     "data": {
      "text/plain": [
       "1050722.921875"
      ]
     },
     "execution_count": 34,
     "metadata": {},
     "output_type": "execute_result"
    }
   ],
   "source": [
    "people3= df1[df1['race'] == 'hispanic']['salary']\n",
    "people3.mean()"
   ]
  },
  {
   "cell_type": "markdown",
   "metadata": {},
   "source": [
    "The independent sample test is done with categorical variable race from which shows us that the p-value is less than the significance value."
   ]
  },
  {
   "cell_type": "code",
   "execution_count": 35,
   "metadata": {},
   "outputs": [
    {
     "name": "stdout",
     "output_type": "stream",
     "text": [
      "t-value: 2.439220849805341, p-value: 0.015326987986046892\n"
     ]
    }
   ],
   "source": [
    "#independent sample test\n",
    "t_val, p_val = stats.ttest_ind(people, people2)\n",
    "print(f\"t-value: {t_val}, p-value: {p_val}\")"
   ]
  },
  {
   "cell_type": "code",
   "execution_count": 36,
   "metadata": {},
   "outputs": [
    {
     "name": "stdout",
     "output_type": "stream",
     "text": [
      "t-value: 2.5754827267821643, p-value: 0.010860957887189545\n"
     ]
    }
   ],
   "source": [
    "t_val, p_val = stats.ttest_ind(people, people3)\n",
    "print(f\"t-value: {t_val}, p-value: {p_val}\")"
   ]
  },
  {
   "cell_type": "markdown",
   "metadata": {},
   "source": [
    "The paired sample test is done between the variable salary and years_played which shows us the p-value is less than the significance level where the null hypothesis can be rejected. "
   ]
  },
  {
   "cell_type": "code",
   "execution_count": 37,
   "metadata": {},
   "outputs": [
    {
     "name": "stdout",
     "output_type": "stream",
     "text": [
      "t-value:18.050723051674108,p-value:5.480156131731112e-52\n"
     ]
    }
   ],
   "source": [
    "#paired Sample test\n",
    "t_val, p_val = stats.ttest_rel(df1[\"salary\"],df1[\"years_played\"])\n",
    "print(f\"t-value:{t_val},p-value:{p_val}\")"
   ]
  },
  {
   "cell_type": "markdown",
   "metadata": {},
   "source": [
    "The chi square test is done between two categorical variable from the contingency table which the p-value is less than significance value where the null hypothesis can be rejected as there is no dependency between the race and the players position."
   ]
  },
  {
   "cell_type": "code",
   "execution_count": 38,
   "metadata": {},
   "outputs": [
    {
     "name": "stdout",
     "output_type": "stream",
     "text": [
      "p-value: 2.2934333235364454e-12\n"
     ]
    }
   ],
   "source": [
    "#chi squared test\n",
    "chi2, p_val, dof, expected = stats.chi2_contingency(cont_table)\n",
    "print(f\"p-value: {p_val}\")"
   ]
  },
  {
   "cell_type": "markdown",
   "metadata": {},
   "source": [
    "The scatterplot is graphed on years_played to the salary"
   ]
  },
  {
   "cell_type": "code",
   "execution_count": 39,
   "metadata": {},
   "outputs": [
    {
     "data": {
      "text/plain": [
       "<AxesSubplot:xlabel='years_played', ylabel='salary'>"
      ]
     },
     "execution_count": 39,
     "metadata": {},
     "output_type": "execute_result"
    },
    {
     "data": {
      "image/png": "[encoded data removed]",
      "text/plain": [
       "<Figure size 432x288 with 1 Axes>"
      ]
     },
     "metadata": {},
     "output_type": "display_data"
    }
   ],
   "source": [
    "sns.scatterplot(data=df1, x=\"years_played\", y=\"salary\")"
   ]
  },
  {
   "cell_type": "markdown",
   "metadata": {},
   "source": [
    "The correlation is done between the years_played and the salary which done in both the method pearson and spearman which show there is positive increase in the salary to the number of years played."
   ]
  },
  {
   "cell_type": "code",
   "execution_count": 40,
   "metadata": {},
   "outputs": [
    {
     "data": {
      "text/plain": [
       "0.4733485584593332"
      ]
     },
     "execution_count": 40,
     "metadata": {},
     "output_type": "execute_result"
    }
   ],
   "source": [
    "df1['years_played'].corr(df['salary'], method='pearson')"
   ]
  },
  {
   "cell_type": "code",
   "execution_count": 41,
   "metadata": {},
   "outputs": [
    {
     "data": {
      "text/plain": [
       "0.656070589697055"
      ]
     },
     "execution_count": 41,
     "metadata": {},
     "output_type": "execute_result"
    }
   ],
   "source": [
    "df1['years_played'].corr(df['salary'], method='spearman')"
   ]
  },
  {
   "cell_type": "markdown",
   "metadata": {},
   "source": [
    "Linear regression model is done for the years_played and the salary"
   ]
  },
  {
   "cell_type": "code",
   "execution_count": 42,
   "metadata": {},
   "outputs": [],
   "source": [
    "#Estimate the model\n",
    "model=sm.OLS.from_formula('years_played~salary',data=df1).fit()"
   ]
  },
  {
   "cell_type": "code",
   "execution_count": 43,
   "metadata": {},
   "outputs": [
    {
     "name": "stdout",
     "output_type": "stream",
     "text": [
      "4.545474180036147\n",
      "1.3249461119691991e-06\n"
     ]
    }
   ],
   "source": [
    "intercept,slope = model.params\n",
    "print(intercept)\n",
    "print(slope)"
   ]
  },
  {
   "cell_type": "code",
   "execution_count": 44,
   "metadata": {},
   "outputs": [
    {
     "data": {
      "text/html": [
       "<table class=\"simpletable\">\n",
       "<caption>OLS Regression Results</caption>\n",
       "<tr>\n",
       "  <th>Dep. Variable:</th>      <td>years_played</td>   <th>  R-squared:         </th> <td>   0.224</td>\n",
       "</tr>\n",
       "<tr>\n",
       "  <th>Model:</th>                   <td>OLS</td>       <th>  Adj. R-squared:    </th> <td>   0.222</td>\n",
       "</tr>\n",
       "<tr>\n",
       "  <th>Method:</th>             <td>Least Squares</td>  <th>  F-statistic:       </th> <td>   101.1</td>\n",
       "</tr>\n",
       "<tr>\n",
       "  <th>Date:</th>             <td>Sun, 27 Feb 2022</td> <th>  Prob (F-statistic):</th> <td>4.68e-21</td>\n",
       "</tr>\n",
       "<tr>\n",
       "  <th>Time:</th>                 <td>20:42:00</td>     <th>  Log-Likelihood:    </th> <td> -931.01</td>\n",
       "</tr>\n",
       "<tr>\n",
       "  <th>No. Observations:</th>      <td>   352</td>      <th>  AIC:               </th> <td>   1866.</td>\n",
       "</tr>\n",
       "<tr>\n",
       "  <th>Df Residuals:</th>          <td>   350</td>      <th>  BIC:               </th> <td>   1874.</td>\n",
       "</tr>\n",
       "<tr>\n",
       "  <th>Df Model:</th>              <td>     1</td>      <th>                     </th>     <td> </td>   \n",
       "</tr>\n",
       "<tr>\n",
       "  <th>Covariance Type:</th>      <td>nonrobust</td>    <th>                     </th>     <td> </td>   \n",
       "</tr>\n",
       "</table>\n",
       "<table class=\"simpletable\">\n",
       "<tr>\n",
       "      <td></td>         <th>coef</th>     <th>std err</th>      <th>t</th>      <th>P>|t|</th>  <th>[0.025</th>    <th>0.975]</th>  \n",
       "</tr>\n",
       "<tr>\n",
       "  <th>Intercept</th> <td>    4.5455</td> <td>    0.253</td> <td>   17.972</td> <td> 0.000</td> <td>    4.048</td> <td>    5.043</td>\n",
       "</tr>\n",
       "<tr>\n",
       "  <th>salary</th>    <td> 1.325e-06</td> <td> 1.32e-07</td> <td>   10.053</td> <td> 0.000</td> <td> 1.07e-06</td> <td> 1.58e-06</td>\n",
       "</tr>\n",
       "</table>\n",
       "<table class=\"simpletable\">\n",
       "<tr>\n",
       "  <th>Omnibus:</th>       <td>64.342</td> <th>  Durbin-Watson:     </th> <td>   1.743</td>\n",
       "</tr>\n",
       "<tr>\n",
       "  <th>Prob(Omnibus):</th> <td> 0.000</td> <th>  Jarque-Bera (JB):  </th> <td>  96.963</td>\n",
       "</tr>\n",
       "<tr>\n",
       "  <th>Skew:</th>          <td> 1.150</td> <th>  Prob(JB):          </th> <td>8.81e-22</td>\n",
       "</tr>\n",
       "<tr>\n",
       "  <th>Kurtosis:</th>      <td> 4.148</td> <th>  Cond. No.          </th> <td>2.66e+06</td>\n",
       "</tr>\n",
       "</table><br/><br/>Notes:<br/>[1] Standard Errors assume that the covariance matrix of the errors is correctly specified.<br/>[2] The condition number is large, 2.66e+06. This might indicate that there are<br/>strong multicollinearity or other numerical problems."
      ],
      "text/plain": [
       "<class 'statsmodels.iolib.summary.Summary'>\n",
       "\"\"\"\n",
       "                            OLS Regression Results                            \n",
       "==============================================================================\n",
       "Dep. Variable:           years_played   R-squared:                       0.224\n",
       "Model:                            OLS   Adj. R-squared:                  0.222\n",
       "Method:                 Least Squares   F-statistic:                     101.1\n",
       "Date:                Sun, 27 Feb 2022   Prob (F-statistic):           4.68e-21\n",
       "Time:                        20:42:00   Log-Likelihood:                -931.01\n",
       "No. Observations:                 352   AIC:                             1866.\n",
       "Df Residuals:                     350   BIC:                             1874.\n",
       "Df Model:                           1                                         \n",
       "Covariance Type:            nonrobust                                         \n",
       "==============================================================================\n",
       "                 coef    std err          t      P>|t|      [0.025      0.975]\n",
       "------------------------------------------------------------------------------\n",
       "Intercept      4.5455      0.253     17.972      0.000       4.048       5.043\n",
       "salary      1.325e-06   1.32e-07     10.053      0.000    1.07e-06    1.58e-06\n",
       "==============================================================================\n",
       "Omnibus:                       64.342   Durbin-Watson:                   1.743\n",
       "Prob(Omnibus):                  0.000   Jarque-Bera (JB):               96.963\n",
       "Skew:                           1.150   Prob(JB):                     8.81e-22\n",
       "Kurtosis:                       4.148   Cond. No.                     2.66e+06\n",
       "==============================================================================\n",
       "\n",
       "Notes:\n",
       "[1] Standard Errors assume that the covariance matrix of the errors is correctly specified.\n",
       "[2] The condition number is large, 2.66e+06. This might indicate that there are\n",
       "strong multicollinearity or other numerical problems.\n",
       "\"\"\""
      ]
     },
     "execution_count": 44,
     "metadata": {},
     "output_type": "execute_result"
    }
   ],
   "source": [
    "model.summary()"
   ]
  },
  {
   "cell_type": "markdown",
   "metadata": {},
   "source": [
    "From the above model summary of simple linear regression we can get estimated intercept and the coefficients of the salary and the intercept and coefficientof the t-test is less than significance level we can conclude that they have effect on the dependent variable."
   ]
  },
  {
   "cell_type": "code",
   "execution_count": 45,
   "metadata": {},
   "outputs": [],
   "source": [
    "#multiple linear regression model\n",
    "model = sm.OLS.from_formula('salary~years_played + games_played + race', data=df1).fit()"
   ]
  },
  {
   "cell_type": "code",
   "execution_count": 46,
   "metadata": {},
   "outputs": [
    {
     "data": {
      "text/html": [
       "<table class=\"simpletable\">\n",
       "<caption>OLS Regression Results</caption>\n",
       "<tr>\n",
       "  <th>Dep. Variable:</th>         <td>salary</td>      <th>  R-squared:         </th> <td>   0.401</td> \n",
       "</tr>\n",
       "<tr>\n",
       "  <th>Model:</th>                   <td>OLS</td>       <th>  Adj. R-squared:    </th> <td>   0.394</td> \n",
       "</tr>\n",
       "<tr>\n",
       "  <th>Method:</th>             <td>Least Squares</td>  <th>  F-statistic:       </th> <td>   57.98</td> \n",
       "</tr>\n",
       "<tr>\n",
       "  <th>Date:</th>             <td>Sun, 27 Feb 2022</td> <th>  Prob (F-statistic):</th> <td>1.91e-37</td> \n",
       "</tr>\n",
       "<tr>\n",
       "  <th>Time:</th>                 <td>20:42:00</td>     <th>  Log-Likelihood:    </th> <td> -5386.3</td> \n",
       "</tr>\n",
       "<tr>\n",
       "  <th>No. Observations:</th>      <td>   352</td>      <th>  AIC:               </th> <td>1.078e+04</td>\n",
       "</tr>\n",
       "<tr>\n",
       "  <th>Df Residuals:</th>          <td>   347</td>      <th>  BIC:               </th> <td>1.080e+04</td>\n",
       "</tr>\n",
       "<tr>\n",
       "  <th>Df Model:</th>              <td>     4</td>      <th>                     </th>     <td> </td>    \n",
       "</tr>\n",
       "<tr>\n",
       "  <th>Covariance Type:</th>      <td>nonrobust</td>    <th>                     </th>     <td> </td>    \n",
       "</tr>\n",
       "</table>\n",
       "<table class=\"simpletable\">\n",
       "<tr>\n",
       "          <td></td>            <th>coef</th>     <th>std err</th>      <th>t</th>      <th>P>|t|</th>  <th>[0.025</th>    <th>0.975]</th>  \n",
       "</tr>\n",
       "<tr>\n",
       "  <th>Intercept</th>        <td> 1.007e+06</td> <td> 1.53e+05</td> <td>    6.564</td> <td> 0.000</td> <td> 7.05e+05</td> <td> 1.31e+06</td>\n",
       "</tr>\n",
       "<tr>\n",
       "  <th>race[T.hispanic]</th> <td>-2.962e+05</td> <td> 1.71e+05</td> <td>   -1.728</td> <td> 0.085</td> <td>-6.33e+05</td> <td>  4.1e+04</td>\n",
       "</tr>\n",
       "<tr>\n",
       "  <th>race[T.white]</th>    <td>-2.385e+05</td> <td> 1.32e+05</td> <td>   -1.810</td> <td> 0.071</td> <td>-4.98e+05</td> <td> 2.06e+04</td>\n",
       "</tr>\n",
       "<tr>\n",
       "  <th>years_played</th>     <td>-2.371e+05</td> <td>  4.4e+04</td> <td>   -5.385</td> <td> 0.000</td> <td>-3.24e+05</td> <td> -1.5e+05</td>\n",
       "</tr>\n",
       "<tr>\n",
       "  <th>games_played</th>     <td> 3092.6878</td> <td>  318.213</td> <td>    9.719</td> <td> 0.000</td> <td> 2466.820</td> <td> 3718.556</td>\n",
       "</tr>\n",
       "</table>\n",
       "<table class=\"simpletable\">\n",
       "<tr>\n",
       "  <th>Omnibus:</th>       <td>40.457</td> <th>  Durbin-Watson:     </th> <td>   1.308</td>\n",
       "</tr>\n",
       "<tr>\n",
       "  <th>Prob(Omnibus):</th> <td> 0.000</td> <th>  Jarque-Bera (JB):  </th> <td>  53.548</td>\n",
       "</tr>\n",
       "<tr>\n",
       "  <th>Skew:</th>          <td> 0.817</td> <th>  Prob(JB):          </th> <td>2.36e-12</td>\n",
       "</tr>\n",
       "<tr>\n",
       "  <th>Kurtosis:</th>      <td> 3.989</td> <th>  Cond. No.          </th> <td>3.18e+03</td>\n",
       "</tr>\n",
       "</table><br/><br/>Notes:<br/>[1] Standard Errors assume that the covariance matrix of the errors is correctly specified.<br/>[2] The condition number is large, 3.18e+03. This might indicate that there are<br/>strong multicollinearity or other numerical problems."
      ],
      "text/plain": [
       "<class 'statsmodels.iolib.summary.Summary'>\n",
       "\"\"\"\n",
       "                            OLS Regression Results                            \n",
       "==============================================================================\n",
       "Dep. Variable:                 salary   R-squared:                       0.401\n",
       "Model:                            OLS   Adj. R-squared:                  0.394\n",
       "Method:                 Least Squares   F-statistic:                     57.98\n",
       "Date:                Sun, 27 Feb 2022   Prob (F-statistic):           1.91e-37\n",
       "Time:                        20:42:00   Log-Likelihood:                -5386.3\n",
       "No. Observations:                 352   AIC:                         1.078e+04\n",
       "Df Residuals:                     347   BIC:                         1.080e+04\n",
       "Df Model:                           4                                         \n",
       "Covariance Type:            nonrobust                                         \n",
       "====================================================================================\n",
       "                       coef    std err          t      P>|t|      [0.025      0.975]\n",
       "------------------------------------------------------------------------------------\n",
       "Intercept         1.007e+06   1.53e+05      6.564      0.000    7.05e+05    1.31e+06\n",
       "race[T.hispanic] -2.962e+05   1.71e+05     -1.728      0.085   -6.33e+05     4.1e+04\n",
       "race[T.white]    -2.385e+05   1.32e+05     -1.810      0.071   -4.98e+05    2.06e+04\n",
       "years_played     -2.371e+05    4.4e+04     -5.385      0.000   -3.24e+05    -1.5e+05\n",
       "games_played      3092.6878    318.213      9.719      0.000    2466.820    3718.556\n",
       "==============================================================================\n",
       "Omnibus:                       40.457   Durbin-Watson:                   1.308\n",
       "Prob(Omnibus):                  0.000   Jarque-Bera (JB):               53.548\n",
       "Skew:                           0.817   Prob(JB):                     2.36e-12\n",
       "Kurtosis:                       3.989   Cond. No.                     3.18e+03\n",
       "==============================================================================\n",
       "\n",
       "Notes:\n",
       "[1] Standard Errors assume that the covariance matrix of the errors is correctly specified.\n",
       "[2] The condition number is large, 3.18e+03. This might indicate that there are\n",
       "strong multicollinearity or other numerical problems.\n",
       "\"\"\""
      ]
     },
     "execution_count": 46,
     "metadata": {},
     "output_type": "execute_result"
    }
   ],
   "source": [
    "model.summary()"
   ]
  },
  {
   "cell_type": "markdown",
   "metadata": {},
   "source": [
    "From the above model summary of multiple linear regression the R and R squared value are increased than the simple linear regression. we can get estimated intercept and the coefficients of the variables and the  intercept and coefficientof the t-test of years_played and games_played are affting positively and the race(hispanic), race(white) are affecting negatively is less than significance level we can conclude that they have effect on the dependent variable.therefore from this model we cannot reject the null hypothesis."
   ]
  },
  {
   "cell_type": "code",
   "execution_count": null,
   "metadata": {},
   "outputs": [],
   "source": []
  }
 ],
 "metadata": {
  "kernelspec": {
   "display_name": "Python 3 (ipykernel)",
   "language": "python",
   "name": "python3"
  },
  "language_info": {
   "codemirror_mode": {
    "name": "ipython",
    "version": 3
   },
   "file_extension": ".py",
   "mimetype": "text/x-python",
   "name": "python",
   "nbconvert_exporter": "python",
   "pygments_lexer": "ipython3",
   "version": "3.9.7"
  }
 },
 "nbformat": 4,
 "nbformat_minor": 4
}
